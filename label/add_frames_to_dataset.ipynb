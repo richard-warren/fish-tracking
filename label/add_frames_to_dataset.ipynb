{
 "cells": [
  {
   "cell_type": "markdown",
   "metadata": {},
   "source": [
    "# add frames to training set\n",
    "After training an initial network, watch videos with overlaid tracking created with `label\\make_training_vid.py`. Identify frames that should be re-included in the training set (with annotations with current network's output). Use this notebook to merge these frames with an existing dataset. "
   ]
  },
  {
   "cell_type": "code",
   "execution_count": 1,
   "metadata": {},
   "outputs": [],
   "source": [
    "from deepposekit.io.utils import merge_new_images\n",
    "from deepposekit.io import VideoReader\n",
    "import pandas as pd\n",
    "import numpy as np\n",
    "import os\n",
    "\n",
    "# settings\n",
    "old_dataset = r'D:\\github\\fish-tracking\\label\\datasets\\stim_dataset_0.h5'\n",
    "merged_dataset = r'D:\\github\\fish-tracking\\label\\datasets\\stim_dataset_1.h5'\n",
    "video = r'Z:\\locker\\ShareData\\chin_for_rick\\concatenated.avi'\n",
    "model = r'D:\\github\\fish-tracking\\train\\models\\stim_model.h5'\n",
    "\n",
    "frame_nums = [440, 854, 3238, 3234, 3231, 3229, 576888, 577060, 577062, 577065,\n",
    "              577069, 577074, 577089, 1034256, 1037180, 1037701, 1057749, 1057763,\n",
    "              1062829, 1065136, 1070014, 1095033, 1098728, 1100761, 1288063, 1307778,\n",
    "              1445962, 1719360, 1703055, 1708567, 1708597, 1708601, 1708607, 1725905,\n",
    "              1767996, 1768008, 1938124, 1938129, 1961446, 1973688, 2330581, 2330587, 2330595]"
   ]
  },
  {
   "cell_type": "code",
   "execution_count": 2,
   "metadata": {},
   "outputs": [],
   "source": [
    "# load predictions\n",
    "# (assumes video_tracking.csv already exists)\n",
    "predictions = pd.read_csv(os.path.splitext(video)[0] + '_tracking.csv').to_numpy()[:,1:]\n",
    "predictions = predictions.reshape((-1, int(predictions.shape[1]/3), 3))  # (frane_num X feature_num X (x,y,confidence))\n",
    "keypoints = predictions[frame_nums]"
   ]
  },
  {
   "cell_type": "code",
   "execution_count": 6,
   "metadata": {},
   "outputs": [],
   "source": [
    "# load images\n",
    "reader = VideoReader(video, batch_size=1)\n",
    "images = np.concatenate([reader[idx][...,0] for idx in frame_nums])[...,np.newaxis]\n",
    "frame_nums.sort()"
   ]
  },
  {
   "cell_type": "code",
   "execution_count": 7,
   "metadata": {},
   "outputs": [],
   "source": [
    "# make merged dataset\n",
    "merge_new_images(\n",
    "    datapath=old_dataset,\n",
    "    merged_datapath=merged_dataset,\n",
    "    images=images,\n",
    "    keypoints=keypoints,\n",
    "    overwrite=False\n",
    ")\n"
   ]
  }
 ],
 "metadata": {
  "kernelspec": {
   "display_name": "Python 3",
   "language": "python",
   "name": "python3"
  },
  "language_info": {
   "codemirror_mode": {
    "name": "ipython",
    "version": 3
   },
   "file_extension": ".py",
   "mimetype": "text/x-python",
   "name": "python",
   "nbconvert_exporter": "python",
   "pygments_lexer": "ipython3",
   "version": "3.6.5"
  }
 },
 "nbformat": 4,
 "nbformat_minor": 2
}
