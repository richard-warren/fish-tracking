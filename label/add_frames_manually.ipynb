{
 "cells": [
  {
   "cell_type": "markdown",
   "metadata": {},
   "source": [
    "# add frames to training set\n",
    "After training an initial network, watch videos with overlaid tracking created with `label\\make_training_vid.py`. Identify frames that should be re-included in the training set (with annotations with current network's output). Use this notebook to merge these frames with an existing dataset. "
   ]
  },
  {
   "cell_type": "code",
   "execution_count": 1,
   "metadata": {},
   "outputs": [],
   "source": [
    "from deepposekit.io.utils import merge_new_images\n",
    "from deepposekit.io import VideoReader\n",
    "import matplotlib.pyplot as plt\n",
    "from tqdm import tqdm\n",
    "import pandas as pd\n",
    "import numpy as np\n",
    "import sys\n",
    "import cv2\n",
    "import os\n",
    "sys.path.append(os.path.abspath(os.path.join('..')))  # add partent directory\n",
    "from predict.utils import make_tracking_video\n",
    "%load_ext autoreload\n",
    "%autoreload 2\n",
    "\n",
    "# settings\n",
    "old_dataset = r'D:\\github\\fish-tracking\\label\\datasets\\tank_dataset_5.h5'\n",
    "merged_dataset = r'D:\\github\\fish-tracking\\label\\datasets\\tank_dataset_6.h5'\n",
    "video = r'Z:\\locker\\ShareData\\tank_for_rick\\tank_vids\\20201005_Hank\\concatenated.avi'\n",
    "\n",
    "frame_nums = [21828, 24839, 30678, 32639, 63425, 63740,\n",
    "              73164, 74860, 78743, 81480, 96117, 105871]\n",
    "frame_nums.sort()"
   ]
  },
  {
   "cell_type": "code",
   "execution_count": 2,
   "metadata": {},
   "outputs": [],
   "source": [
    "# load predictions\n",
    "# (assumes video_tracking.csv already exists)\n",
    "predictions = pd.read_csv(os.path.splitext(video)[0] + '_tracking.csv').to_numpy()[:,1:]\n",
    "predictions = predictions.reshape((-1, int(predictions.shape[1]/3), 3))  # (frane_num X feature_num X (x,y,confidence))\n",
    "keypoints = predictions[frame_nums]"
   ]
  },
  {
   "cell_type": "markdown",
   "metadata": {},
   "source": [
    "I load images by scrolling through all the frames below... Directly indexing into the video results in incorrect frames being drawn from the original video. This is probably because the original (but not the tracking) video has an incorrect frame count number. I coudln't figure out how to fix this in opencv..."
   ]
  },
  {
   "cell_type": "code",
   "execution_count": 3,
   "metadata": {},
   "outputs": [
    {
     "name": "stderr",
     "output_type": "stream",
     "text": [
      "100%|█████████████████████████████████████████████████████████████████████| 105872/105872 [00:28<00:00, 3759.27it/s]\n"
     ]
    }
   ],
   "source": [
    "# load images\n",
    "reader = VideoReader(video, batch_size=1, fast_frame_count=True)\n",
    "\n",
    "images = []\n",
    "for i in tqdm(range(frame_nums[-1]+1)):\n",
    "    if i in frame_nums:\n",
    "        images.append(reader.read())\n",
    "    else:\n",
    "        reader.read()\n",
    "images = np.stack([i[...,0][...,np.newaxis] for i in images])  # replace color with singleton dimension and concatenate\n",
    "\n",
    "# images = np.concatenate([reader[idx][...,0] for idx in frame_nums])[...,np.newaxis]  # direct indexing into the reader draws incorrect frames for mysterious reasons..."
   ]
  },
  {
   "cell_type": "code",
   "execution_count": 4,
   "metadata": {},
   "outputs": [],
   "source": [
    "# make merged dataset\n",
    "merge_new_images(\n",
    "    datapath=old_dataset,\n",
    "    merged_datapath=merged_dataset,\n",
    "    images=images,\n",
    "    keypoints=keypoints,\n",
    "    overwrite=False\n",
    ")\n"
   ]
  },
  {
   "cell_type": "code",
   "execution_count": null,
   "metadata": {},
   "outputs": [],
   "source": [
    "\n",
    "\n",
    "\n",
    "\n",
    "\n",
    "\n",
    "\n",
    "\n",
    "\n",
    "\n",
    "\n",
    "\n",
    "\n",
    "\n",
    "\n",
    "\n",
    "\n",
    "\n",
    "\n",
    "\n",
    "\n",
    "\n",
    "\n",
    "\n",
    "\n",
    "\n",
    "\n",
    "\n",
    "\n",
    "\n",
    "\n",
    "\n",
    "\n",
    "\n",
    "\n",
    "\n"
   ]
  }
 ],
 "metadata": {
  "kernelspec": {
   "display_name": "Python 3",
   "language": "python",
   "name": "python3"
  },
  "language_info": {
   "codemirror_mode": {
    "name": "ipython",
    "version": 3
   },
   "file_extension": ".py",
   "mimetype": "text/x-python",
   "name": "python",
   "nbconvert_exporter": "python",
   "pygments_lexer": "ipython3",
   "version": "3.6.11"
  }
 },
 "nbformat": 4,
 "nbformat_minor": 2
}
