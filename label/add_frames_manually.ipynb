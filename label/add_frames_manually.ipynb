{
 "cells": [
  {
   "cell_type": "markdown",
   "metadata": {},
   "source": [
    "# add frames to training set\n",
    "After training an initial network, watch videos with overlaid tracking created with `label\\make_training_vid.py`. Identify frames that should be re-included in the training set (with annotations with current network's output). Use this notebook to merge these frames with an existing dataset. "
   ]
  },
  {
   "cell_type": "code",
   "execution_count": 7,
   "metadata": {},
   "outputs": [
    {
     "name": "stdout",
     "output_type": "stream",
     "text": [
      "The autoreload extension is already loaded. To reload it, use:\n",
      "  %reload_ext autoreload\n"
     ]
    }
   ],
   "source": [
    "from deepposekit.io.utils import merge_new_images\n",
    "from deepposekit.io import VideoReader\n",
    "import matplotlib.pyplot as plt\n",
    "from tqdm import tqdm\n",
    "import pandas as pd\n",
    "import numpy as np\n",
    "import sys\n",
    "import cv2\n",
    "import os\n",
    "sys.path.append(os.path.abspath(os.path.join('..')))  # add partent directory\n",
    "from predict.utils import make_tracking_video\n",
    "%load_ext autoreload\n",
    "%autoreload 2\n",
    "\n",
    "# settings\n",
    "old_dataset = r'D:\\github\\fish-tracking\\label\\datasets\\tank_dataset_9.h5'\n",
    "merged_dataset = r'D:\\github\\fish-tracking\\label\\datasets\\tank_dataset_temp.h5'\n",
    "video = r'Z:\\C1\\free\\vids\\20201001_Fred\\concatenated.avi'\n",
    "\n",
    "frame_nums = [0, 1000, 2000]\n",
    "frame_nums.sort()"
   ]
  },
  {
   "cell_type": "code",
   "execution_count": 8,
   "metadata": {},
   "outputs": [],
   "source": [
    "# load predictions\n",
    "# (assumes video_tracking.csv already exists)\n",
    "predictions = pd.read_csv(os.path.splitext(video)[0] + '_tracking.csv').to_numpy()[:,1:]\n",
    "predictions = predictions.reshape((-1, int(predictions.shape[1]/3), 3))  # (frane_num X feature_num X (x,y,confidence))\n",
    "keypoints = predictions[frame_nums]"
   ]
  },
  {
   "cell_type": "markdown",
   "metadata": {},
   "source": [
    "I load images by scrolling through all the frames below... Directly indexing into the video results in incorrect frames being drawn from the original video. This is probably because the original (but not the tracking) video has an incorrect frame count number. I coudln't figure out how to fix this in opencv..."
   ]
  },
  {
   "cell_type": "code",
   "execution_count": 9,
   "metadata": {},
   "outputs": [
    {
     "name": "stderr",
     "output_type": "stream",
     "text": [
      "100%|█████████████████████████████████████████████████████████████████████████| 2001/2001 [00:00<00:00, 3598.10it/s]\n"
     ]
    }
   ],
   "source": [
    "# load images\n",
    "reader = VideoReader(video, batch_size=1, fast_frame_count=True)\n",
    "\n",
    "images = []\n",
    "for i in tqdm(range(frame_nums[-1]+1)):\n",
    "    if i in frame_nums:\n",
    "        images.append(reader.read())\n",
    "    else:\n",
    "        reader.read()\n",
    "images = np.stack([i[...,0][...,np.newaxis] for i in images])  # replace color with singleton dimension and concatenate\n",
    "\n",
    "# images = np.concatenate([reader[idx][...,0] for idx in frame_nums])[...,np.newaxis]  # direct indexing into the reader draws incorrect frames for mysterious reasons..."
   ]
  },
  {
   "cell_type": "code",
   "execution_count": 12,
   "metadata": {},
   "outputs": [],
   "source": [
    "# make merged dataset\n",
    "merge_new_images(\n",
    "    datapath=old_dataset,\n",
    "    merged_datapath=merged_dataset,\n",
    "    images=images,\n",
    "    keypoints=keypoints,\n",
    "    overwrite=False\n",
    ")\n"
   ]
  },
  {
   "cell_type": "markdown",
   "metadata": {},
   "source": [
    "# add frames from spreadsheet\n",
    "Download [this](https://docs.google.com/spreadsheets/d/1_kMZSCiMDglHKb363tWUf2j9IzwLFfPrArS-zXin_94/edit?usp=sharing) spreadsheet as a .csv, and add frames and videos to training as specified in the spreadsheet. *Only works for head free videos.*"
   ]
  },
  {
   "cell_type": "code",
   "execution_count": 1,
   "metadata": {},
   "outputs": [],
   "source": [
    "from deepposekit.io.utils import merge_new_images\n",
    "import matplotlib.pyplot as plt\n",
    "from tqdm import tqdm\n",
    "import pandas as pd\n",
    "import numpy as np\n",
    "import yaml\n",
    "import sys\n",
    "import cv2\n",
    "import os\n",
    "sys.path.append(os.path.abspath(os.path.join('..')))  # add partent directory\n",
    "root_dir = r'D:\\github\\fish-tracking'  # github repo\n",
    "\n",
    "\n",
    "# settings\n",
    "old_dataset = r'D:\\github\\fish-tracking\\label\\datasets\\tank_dataset_9.h5'\n",
    "merged_dataset = r'D:\\github\\fish-tracking\\label\\datasets\\tank_dataset_10.h5'\n",
    "spreadsheet = r'C:\\Users\\rick\\Desktop\\c1_tracking_errors.csv'\n",
    "\n",
    "\n",
    "# inits\n",
    "with open(os.path.join(root_dir, 'config.yaml'), 'r') as file:\n",
    "    cfg = yaml.safe_load(file)['free']\n",
    "\n",
    "tracking_errors = pd.read_csv(spreadsheet)\n",
    "vidnames = [os.path.join(cfg['data_dir'], str(r['Date']) + '_' + r['Fish'], 'concatenated.avi')\n",
    "            for (i, r) in tracking_errors.iterrows()]\n",
    "tracking_errors['FileName'] = vidnames\n",
    "vidnames = np.unique(vidnames)\n",
    "    "
   ]
  },
  {
   "cell_type": "code",
   "execution_count": 14,
   "metadata": {
    "scrolled": false
   },
   "outputs": [
    {
     "name": "stdout",
     "output_type": "stream",
     "text": [
      "\n",
      "(  1/16) Z:\\C1\\free\\vids\\20201122_Igor\\concatenated.avi frames:\n",
      "[  766  1491  1934  4355  5300  6948  8569  8744  9822 11698 13492 16578]\n"
     ]
    },
    {
     "name": "stderr",
     "output_type": "stream",
     "text": [
      "100%|███████████████████████████████████████████████████████████████████████| 16579/16579 [00:05<00:00, 3151.34it/s]\n"
     ]
    },
    {
     "name": "stdout",
     "output_type": "stream",
     "text": [
      "\n",
      "(  2/16) Z:\\C1\\free\\vids\\20201122_Joao\\concatenated.avi frames:\n",
      "[   563   1418   1877   4397  10953  12413  14798  19410  23064  23662\n",
      "  26437  28699  29410  29813  30121  31435 118027 120702 120980 127964\n",
      " 128192 128257 128416 128459 128699 230831 232775 310329 311377 311663\n",
      " 311905 314615]\n"
     ]
    },
    {
     "name": "stderr",
     "output_type": "stream",
     "text": [
      "100%|█████████████████████████████████████████████████████████████████████| 314616/314616 [02:08<00:00, 2450.87it/s]\n"
     ]
    },
    {
     "name": "stdout",
     "output_type": "stream",
     "text": [
      "\n",
      "(  3/16) Z:\\C1\\free\\vids\\20201128_Mark\\concatenated.avi frames:\n",
      "[ 1625  7228 11116 12145 12408 14579 22043]\n"
     ]
    },
    {
     "name": "stderr",
     "output_type": "stream",
     "text": [
      "100%|███████████████████████████████████████████████████████████████████████| 22044/22044 [00:06<00:00, 3299.43it/s]\n"
     ]
    },
    {
     "name": "stdout",
     "output_type": "stream",
     "text": [
      "\n",
      "(  4/16) Z:\\C1\\free\\vids\\20201201_Kyle\\concatenated.avi frames:\n",
      "[42795 43725 47232 56964]\n"
     ]
    },
    {
     "name": "stderr",
     "output_type": "stream",
     "text": [
      "100%|███████████████████████████████████████████████████████████████████████| 56965/56965 [00:16<00:00, 3403.78it/s]\n"
     ]
    },
    {
     "name": "stdout",
     "output_type": "stream",
     "text": [
      "\n",
      "(  5/16) Z:\\C1\\free\\vids\\20201202_Neil\\concatenated.avi frames:\n",
      "[ 10923  12356  48726  76470 162207]\n"
     ]
    },
    {
     "name": "stderr",
     "output_type": "stream",
     "text": [
      "100%|█████████████████████████████████████████████████████████████████████| 162208/162208 [00:48<00:00, 3358.74it/s]\n"
     ]
    },
    {
     "name": "stdout",
     "output_type": "stream",
     "text": [
      "\n",
      "(  6/16) Z:\\C1\\free\\vids\\20201202_Omar\\concatenated.avi frames:\n",
      "[ 5088 15840 24372 41676]\n"
     ]
    },
    {
     "name": "stderr",
     "output_type": "stream",
     "text": [
      "100%|███████████████████████████████████████████████████████████████████████| 41677/41677 [00:12<00:00, 3362.63it/s]\n"
     ]
    },
    {
     "name": "stdout",
     "output_type": "stream",
     "text": [
      "\n",
      "(  7/16) Z:\\C1\\free\\vids\\20201204_Greg\\concatenated.avi frames:\n",
      "[ 18290  92008 109420 117460 131872 143464 147038 163275]\n"
     ]
    },
    {
     "name": "stderr",
     "output_type": "stream",
     "text": [
      "100%|█████████████████████████████████████████████████████████████████████| 163276/163276 [00:49<00:00, 3276.92it/s]\n"
     ]
    },
    {
     "name": "stdout",
     "output_type": "stream",
     "text": [
      "\n",
      "(  8/16) Z:\\C1\\free\\vids\\20201210_Greg\\concatenated.avi frames:\n",
      "[1224]\n"
     ]
    },
    {
     "name": "stderr",
     "output_type": "stream",
     "text": [
      "100%|█████████████████████████████████████████████████████████████████████████| 1225/1225 [00:00<00:00, 3084.47it/s]\n"
     ]
    },
    {
     "name": "stdout",
     "output_type": "stream",
     "text": [
      "\n",
      "(  9/16) Z:\\C1\\free\\vids\\20201210_Neil\\concatenated.avi frames:\n",
      "[12756 25207 27834 81059]\n"
     ]
    },
    {
     "name": "stderr",
     "output_type": "stream",
     "text": [
      "100%|███████████████████████████████████████████████████████████████████████| 81060/81060 [00:23<00:00, 3384.01it/s]\n"
     ]
    },
    {
     "name": "stdout",
     "output_type": "stream",
     "text": [
      "\n",
      "( 10/16) Z:\\C1\\free\\vids\\20201210_Omar\\concatenated.avi frames:\n",
      "[ 62276  70915  78640  82882 105588]\n"
     ]
    },
    {
     "name": "stderr",
     "output_type": "stream",
     "text": [
      "100%|█████████████████████████████████████████████████████████████████████| 105589/105589 [00:31<00:00, 3395.53it/s]\n"
     ]
    },
    {
     "name": "stdout",
     "output_type": "stream",
     "text": [
      "\n",
      "( 11/16) Z:\\C1\\free\\vids\\20201211_Kyle\\concatenated.avi frames:\n",
      "[ 1492  5681  6272  9046  9350 14952 16303]\n"
     ]
    },
    {
     "name": "stderr",
     "output_type": "stream",
     "text": [
      "100%|███████████████████████████████████████████████████████████████████████| 16304/16304 [00:04<00:00, 3354.46it/s]\n"
     ]
    },
    {
     "name": "stdout",
     "output_type": "stream",
     "text": [
      "\n",
      "( 12/16) Z:\\C1\\free\\vids\\20201211_Lazy\\concatenated.avi frames:\n",
      "[ 1593  2048  3008  7682  9393 13581]\n"
     ]
    },
    {
     "name": "stderr",
     "output_type": "stream",
     "text": [
      "100%|███████████████████████████████████████████████████████████████████████| 13582/13582 [00:04<00:00, 3362.97it/s]\n"
     ]
    },
    {
     "name": "stdout",
     "output_type": "stream",
     "text": [
      "\n",
      "( 13/16) Z:\\C1\\free\\vids\\20201212_Neil\\concatenated.avi frames:\n",
      "[28440 44906 48636]\n"
     ]
    },
    {
     "name": "stderr",
     "output_type": "stream",
     "text": [
      "100%|███████████████████████████████████████████████████████████████████████| 48637/48637 [00:14<00:00, 3421.77it/s]\n"
     ]
    },
    {
     "name": "stdout",
     "output_type": "stream",
     "text": [
      "\n",
      "( 14/16) Z:\\C1\\free\\vids\\20201213_Kyle\\concatenated.avi frames:\n",
      "[ 1897  2787  4759  4815  5095  6181 13368 16829 17017 23016 26438 26703]\n"
     ]
    },
    {
     "name": "stderr",
     "output_type": "stream",
     "text": [
      "100%|███████████████████████████████████████████████████████████████████████| 26704/26704 [00:08<00:00, 3097.52it/s]\n"
     ]
    },
    {
     "name": "stdout",
     "output_type": "stream",
     "text": [
      "\n",
      "( 15/16) Z:\\C1\\free\\vids\\20201213_Lazy\\concatenated.avi frames:\n",
      "[ 3130  4524  6918 15167 23416]\n"
     ]
    },
    {
     "name": "stderr",
     "output_type": "stream",
     "text": [
      "100%|███████████████████████████████████████████████████████████████████████| 23417/23417 [00:07<00:00, 3334.03it/s]\n"
     ]
    },
    {
     "name": "stdout",
     "output_type": "stream",
     "text": [
      "\n",
      "( 16/16) Z:\\C1\\free\\vids\\20201219_Mark\\concatenated.avi frames:\n",
      "[ 1160  7832 21012 23200]\n"
     ]
    },
    {
     "name": "stderr",
     "output_type": "stream",
     "text": [
      "100%|███████████████████████████████████████████████████████████████████████| 23201/23201 [00:10<00:00, 2222.65it/s]\n"
     ]
    }
   ],
   "source": [
    "# get frames\n",
    "images, keypoints = [], []\n",
    "for idx, vidname in enumerate(vidnames):\n",
    "    predictionsname = os.path.splitext(vidname)[0] + '_tracking.csv'\n",
    "    \n",
    "    if os.path.exists(vidname) and os.path.exists(predictionsname):\n",
    "        vid_bins = tracking_errors['FileName']==vidname\n",
    "        frames = tracking_errors.loc[vid_bins, 'Frame'].tolist()\n",
    "        frames = np.sort(np.array(frames))\n",
    "        \n",
    "        print('\\n({:3}/{}) {} frames:\\n{}'.format(\n",
    "            idx+1, len(vidnames), vidname, frames))\n",
    "\n",
    "        # load predictions\n",
    "        predictions = pd.read_csv(predictionsname, nrows=(frames[-1]+1)).to_numpy()[:,1:]\n",
    "        predictions = predictions.reshape((-1, int(predictions.shape[1]/3), 3))  # (frane_num X feature_num X (x,y,confidence))\n",
    "        keypoints.append(predictions[frames])\n",
    "        del predictions\n",
    "\n",
    "        # load frame\n",
    "        reader = cv2.VideoCapture(vidname)\n",
    "        for i in range(frames[-1]+1):\n",
    "            if np.isin(i, frames):\n",
    "                images.append(reader.read()[1])\n",
    "            else:        \n",
    "                reader.read()\n",
    "        reader.release()\n",
    "        \n",
    "    else:\n",
    "        print('{}: video does not exist!'.format(vidname))\n",
    "\n",
    "images = np.stack([i[...,0][...,np.newaxis] for i in images])  # replace color with singleton dimension and concatenate\n",
    "keypoints = np.concatenate(keypoints, axis=0)"
   ]
  },
  {
   "cell_type": "code",
   "execution_count": 17,
   "metadata": {},
   "outputs": [],
   "source": [
    "# make merged dataset\n",
    "merge_new_images(\n",
    "    datapath=old_dataset,\n",
    "    merged_datapath=merged_dataset,\n",
    "    images=images,\n",
    "    keypoints=keypoints,\n",
    "    overwrite=False\n",
    ")"
   ]
  },
  {
   "cell_type": "code",
   "execution_count": 10,
   "metadata": {},
   "outputs": [
    {
     "data": {
      "text/plain": [
       "(118,\n",
       " Date           20201219\n",
       " Fish               Mark\n",
       " Frame             23200\n",
       " View(s)           FRONT\n",
       " Error      worm missing\n",
       " User                 DN\n",
       " Notes               NaN\n",
       " Name: 118, dtype: object)"
      ]
     },
     "execution_count": 10,
     "metadata": {},
     "output_type": "execute_result"
    }
   ],
   "source": [
    "\n",
    "\n",
    "\n",
    "\n",
    "\n",
    "\n",
    "\n",
    "\n",
    "\n",
    "\n",
    "\n",
    "\n",
    "\n",
    "\n",
    "\n",
    "\n",
    "\n",
    "\n",
    "\n",
    "\n",
    "\n",
    "\n",
    "\n",
    "\n",
    "\n",
    "\n",
    "\n",
    "\n",
    "\n",
    "\n",
    "\n",
    "\n",
    "\n",
    "\n"
   ]
  }
 ],
 "metadata": {
  "kernelspec": {
   "display_name": "Python 3",
   "language": "python",
   "name": "python3"
  },
  "language_info": {
   "codemirror_mode": {
    "name": "ipython",
    "version": 3
   },
   "file_extension": ".py",
   "mimetype": "text/x-python",
   "name": "python",
   "nbconvert_exporter": "python",
   "pygments_lexer": "ipython3",
   "version": "3.6.11"
  }
 },
 "nbformat": 4,
 "nbformat_minor": 2
}
