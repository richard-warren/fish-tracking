{
 "cells": [
  {
   "cell_type": "markdown",
   "metadata": {},
   "source": [
    "# analyze video(s)\n",
    "Various cells for analyzing videos, groups of videos, etc..."
   ]
  },
  {
   "cell_type": "code",
   "execution_count": 4,
   "metadata": {},
   "outputs": [
    {
     "name": "stdout",
     "output_type": "stream",
     "text": [
      "The autoreload extension is already loaded. To reload it, use:\n",
      "  %reload_ext autoreload\n"
     ]
    }
   ],
   "source": [
    "# inits\n",
    "from deepposekit.io import DataGenerator, VideoReader, VideoWriter\n",
    "from deepposekit.io import VideoReader, VideoWriter, utils\n",
    "from utils import analyze_video, make_tracking_video\n",
    "from deepposekit.models import load_model\n",
    "import matplotlib.pyplot as plt\n",
    "import pandas as pd\n",
    "import numpy as np\n",
    "import tqdm\n",
    "import cv2\n",
    "import sys\n",
    "import os\n",
    "os.environ['TF_FORCE_GPU_ALLOW_GROWTH'] = 'true'\n",
    "%load_ext autoreload\n",
    "%autoreload 2\n",
    "\n",
    "\n",
    "# settings\n",
    "model_name = r'D:\\github\\fish-tracking\\train\\models\\tank_model.h5'\n",
    "skeleton = r'D:\\github\\fish-tracking\\label\\skeletons\\tank_skeleton_3.csv'\n"
   ]
  },
  {
   "cell_type": "markdown",
   "metadata": {},
   "source": [
    "## analyze single video\n",
    "Analyze a single video, and make video with tracking overlaid."
   ]
  },
  {
   "cell_type": "code",
   "execution_count": 5,
   "metadata": {},
   "outputs": [
    {
     "name": "stdout",
     "output_type": "stream",
     "text": [
      "analyzing video: Z:\\locker\\ShareData\\tank_for_rick\\tank_vids\\20201001_Hank\\concatenated.avi\n",
      "8296/8296 [==============================] - 3569s 430ms/step\n",
      "making tracking video: Z:\\locker\\ShareData\\tank_for_rick\\tank_vids\\20201001_Hank\\concatenated_tracking.avi\n"
     ]
    },
    {
     "name": "stderr",
     "output_type": "stream",
     "text": [
      "265463it [13:16, 333.31it/s]\n"
     ]
    }
   ],
   "source": [
    "# analyze single video\n",
    "\n",
    "# settings\n",
    "video = r'Z:\\locker\\ShareData\\tank_for_rick\\tank_vids\\20201001_Hank\\concatenated.avi'  # long\n",
    "# video = r'Z:\\locker\\ShareData\\tank_for_rick\\tank_vids\\20201003_Fred\\concatenated.avi'  # short\n",
    "# video = r'Z:\\locker\\ShareData\\tank_for_rick\\tank_vids\\20200925_Fred\\time_h13m30s53\\videoEOD_cropped001.avi'  # original\n",
    "\n",
    "# analyze video\n",
    "model = load_model(model_name)\n",
    "predictions = analyze_video(video, model, skeleton, batch_size=32)\n",
    "make_tracking_video(video, skeleton, predictions=predictions)\n"
   ]
  },
  {
   "cell_type": "markdown",
   "metadata": {},
   "source": [
    "# make sure video reader frame count is accurate"
   ]
  },
  {
   "cell_type": "code",
   "execution_count": null,
   "metadata": {},
   "outputs": [],
   "source": [
    "from deepposekit.io.video import VideoReader\n",
    "import cv2\n",
    "\n",
    "video = r'Z:\\locker\\ShareData\\tank_for_rick\\tank_vids\\20200925_Fred\\time_h13m30s53\\videoEOD_cropped001.avi'  # original\n",
    "reader = VideoReader(video)\n",
    "# reader.set(cv2.CAP_PROP_POS_FRAMES, 0)\n",
    "\n",
    "# make sure the frame counter reset worked...\n",
    "n_frames = 0\n",
    "got_frame = True\n",
    "while got_frame:\n",
    "    got_frame, frame = reader._read()\n",
    "    if got_frame:\n",
    "        n_frames += 1\n",
    "print(n_frames)"
   ]
  }
 ],
 "metadata": {
  "kernelspec": {
   "display_name": "Python 3",
   "language": "python",
   "name": "python3"
  }
 },
 "nbformat": 4,
 "nbformat_minor": 4
}
