{
 "cells": [
  {
   "cell_type": "markdown",
   "metadata": {},
   "source": [
    "# analyze video(s)\n",
    "Various cells for analyzing videos, groups of videos, etc..."
   ]
  },
  {
   "cell_type": "code",
   "execution_count": 2,
   "metadata": {},
   "outputs": [],
   "source": [
    "# inits\n",
    "import subprocess\n",
    "import glob\n",
    "import yaml\n",
    "import sys\n",
    "import os\n",
    "root_dir = r'D:\\github\\fish-tracking'  # github repo\n",
    "sys.path.append(os.path.abspath(root_dir))  # add partent directory\n",
    "%load_ext autoreload\n",
    "%autoreload 2\n",
    "\n",
    "# load config\n",
    "with open(os.path.join(root_dir, 'config.yaml'), 'r') as file:\n",
    "    cfg = yaml.safe_load(file)\n",
    "\n",
    "\n",
    "def analyze_vid(video, model_name, skeleton,\n",
    "             batch_size=16, make_tracking_vid=False, overwrite=False):\n",
    "    \"\"\" wrapper for analyze_video.py \"\"\"\n",
    "    \n",
    "    cmd = 'python analyze_video.py {} {} {} -batch_size {}'.format(\n",
    "        video, model_name, skeleton, batch_size)\n",
    "    \n",
    "    if overwrite:\n",
    "        cmd += ' -overwrite'\n",
    "    if make_tracking_vid:\n",
    "        cmd += ' -makevideo'\n",
    "    \n",
    "    subprocess.run(cmd)\n",
    "\n",
    "    \n",
    "def get_fixed_vids(overwrite=False):\n",
    "    \"\"\"\n",
    "    get all vids to be analyzed for head fixed stimulation videos\n",
    "    todo: accept list of folders and only return those vids\n",
    "    \"\"\"\n",
    "    \n",
    "    vids_to_analyze = []\n",
    "    vid_folders = [f.path for f in os.scandir(cfg['fixed']['data_dir']) if f.is_dir()]\n",
    "\n",
    "    # find all videos\n",
    "    for vid_folder in vid_folders:\n",
    "        vids = glob.glob(os.path.join(vid_folder, '*.avi'))\n",
    "        vids = [vid for vid in vids if 'concatenated' not in vid and 'tracking' not in vid]    # don't analyze vids that are concatenated, or tracking videos\n",
    "        vids_to_analyze += vids\n",
    "    \n",
    "    # remove already-tracked vids\n",
    "    if not overwrite:\n",
    "        vids_to_analyze = [v for v in vids_to_analyze if not os.path.exists(os.path.splitext(v)[0] + '_tracking.csv')]\n",
    "    \n",
    "    print('found {} videos'.format(len(vids_to_analyze)))\n",
    "            \n",
    "    return vids_to_analyze\n",
    "\n",
    "\n",
    "def get_free_vids(overwrite=False):\n",
    "    \"\"\"\n",
    "    get all vids to be analyzed for head free tank videos\n",
    "    only looks for concatenated.avi vids\n",
    "    todo: accept list of folders and only return those vids\n",
    "    \"\"\"\n",
    "    \n",
    "    vids_to_analyze = []\n",
    "    vid_folders = [f.path for f in os.scandir(cfg['free']['data_dir']) if f.is_dir()]\n",
    "\n",
    "    # find all videos\n",
    "    for vid_folder in vid_folders:\n",
    "        vid = os.path.join(vid_folder, 'concatenated.avi')\n",
    "        if os.path.exists(vid):\n",
    "            vids_to_analyze.append(vid)\n",
    "        else:\n",
    "            print(f'{vid}: File does not exist (must run concatenation scripts first)!')\n",
    "    \n",
    "    # remove already-tracked vids\n",
    "    if not overwrite:\n",
    "        vids_to_analyze = [v for v in vids_to_analyze if not os.path.exists(os.path.splitext(v)[0] + '_tracking.csv')]\n",
    "    \n",
    "    print('found {} videos'.format(len(vids_to_analyze)))\n",
    "            \n",
    "    return vids_to_analyze\n",
    "    "
   ]
  },
  {
   "cell_type": "markdown",
   "metadata": {},
   "source": [
    "## analyze single video\n",
    "analyze a single video, and make video with tracking overlaid. must specify the model and skeleton."
   ]
  },
  {
   "cell_type": "code",
   "execution_count": 87,
   "metadata": {},
   "outputs": [],
   "source": [
    "# analyze single video\n",
    "\n",
    "# settings\n",
    "video = r'Z:\\C1\\free\\vids\\20201105_lazy\\concatenated.avi'\n",
    "# model_name = r'D:\\github\\fish-tracking\\train\\models\\tank_model.h5'\n",
    "# skeleton = r'D:\\github\\fish-tracking\\label\\skeletons\\tank_skeleton_3.csv'\n",
    "model_name = r'D:\\github\\fish-tracking\\train\\models\\stim_model.h5'\n",
    "skeleton = r'D:\\github\\fish-tracking\\label\\skeletons\\stim_skeleton.csv'\n",
    "overwrite = True\n",
    "make_tracking_vid = True\n",
    "batch_size = 16\n",
    "\n",
    "cmd = analyze_vid(video, model_name, skeleton,\n",
    "                  batch_size=batch_size, make_tracking_vid=make_tracking_vid, overwrite=overwrite)"
   ]
  },
  {
   "cell_type": "markdown",
   "metadata": {},
   "source": [
    "## analyze all folders for project\n",
    "given project name (`free` or `fixed`) analyzes all videos that have not yet been analyzed. edit `config.yaml` to define folders, models, skeletons..."
   ]
  },
  {
   "cell_type": "code",
   "execution_count": null,
   "metadata": {},
   "outputs": [
    {
     "name": "stdout",
     "output_type": "stream",
     "text": [
      "Z:\\C1\\free\\vids\\20201020_Greg\\concatenated.avi: File does not exist (must run concatenation scripts first)!\n",
      "found 50 videos\n",
      "analyzing video: Z:\\C1\\free\\vids\\20201126_Joao\\concatenated.avi\n",
      "analyzing video: Z:\\C1\\free\\vids\\20201128_Kyle\\concatenated.avi\n",
      "analyzing video: Z:\\C1\\free\\vids\\20201128_Lazy\\concatenated.avi\n"
     ]
    }
   ],
   "source": [
    "# settings\n",
    "vid_type = 'free'    # 'free' or 'fixed'\n",
    "overwrite = False    # whether to overwrite existing tracking\n",
    "batch_size = 32\n",
    "make_tracking_vid = True\n",
    "\n",
    "\n",
    "if vid_type=='free':\n",
    "    vids = get_free_vids(overwrite)\n",
    "elif vid_type=='fixed':\n",
    "    vids = get_fixed_vids(overwrite)\n",
    "\n",
    "for vid in vids:\n",
    "    print(f'analyzing video: {vid}')\n",
    "    analyze_vid(vid, cfg[vid_type]['model'], cfg[vid_type]['skeleton'], \n",
    "                batch_size=batch_size, make_tracking_vid=make_tracking_vid)\n"
   ]
  }
 ],
 "metadata": {
  "kernelspec": {
   "display_name": "Python 3",
   "language": "python",
   "name": "python3"
  },
  "language_info": {
   "codemirror_mode": {
    "name": "ipython",
    "version": 3
   },
   "file_extension": ".py",
   "mimetype": "text/x-python",
   "name": "python",
   "nbconvert_exporter": "python",
   "pygments_lexer": "ipython3",
   "version": "3.6.11"
  }
 },
 "nbformat": 4,
 "nbformat_minor": 4
}
