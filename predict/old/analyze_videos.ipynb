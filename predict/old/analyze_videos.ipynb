{
 "cells": [
  {
   "cell_type": "markdown",
   "metadata": {},
   "source": [
    "# analyze video(s)\n",
    "Various cells for analyzing videos, groups of videos, etc..."
   ]
  },
  {
   "cell_type": "code",
   "execution_count": 2,
   "metadata": {},
   "outputs": [
    {
     "name": "stdout",
     "output_type": "stream",
     "text": [
      "The autoreload extension is already loaded. To reload it, use:\n",
      "  %reload_ext autoreload\n"
     ]
    }
   ],
   "source": [
    "# inits\n",
    "import subprocess\n",
    "import sys\n",
    "import os\n",
    "sys.path.append(os.path.abspath(os.path.join('..')))  # add partent directory\n",
    "%load_ext autoreload\n",
    "%autoreload 2\n",
    "\n",
    "\n",
    "# settings\n",
    "# model_name = r'D:\\github\\fish-tracking\\train\\models\\tank_model.h5'\n",
    "# skeleton = r'D:\\github\\fish-tracking\\label\\skeletons\\tank_skeleton_3.csv'\n",
    "\n",
    "model_name = r'D:\\github\\fish-tracking\\train\\models\\stim_model.h5'\n",
    "skeleton = r'D:\\github\\fish-tracking\\label\\skeletons\\stim_skeleton.csv'\n"
   ]
  },
  {
   "cell_type": "markdown",
   "metadata": {},
   "source": [
    "## analyze single video\n",
    "Analyze a single video, and make video with tracking overlaid."
   ]
  },
  {
   "cell_type": "code",
   "execution_count": 14,
   "metadata": {},
   "outputs": [],
   "source": [
    "# analyze single video\n",
    "\n",
    "# settings\n",
    "video = r'Z:\\C1\\stimulationExperiments\\201119_C1stimwNS\\201119_7.avi'\n",
    "cmd = 'python analyze_video.py {} {} {}'.format(video, model_name, skeleton)\n",
    "ret = subprocess.run(cmd)\n",
    "# cmd"
   ]
  }
 ],
 "metadata": {
  "kernelspec": {
   "display_name": "Python 3",
   "language": "python",
   "name": "python3"
  },
  "language_info": {
   "codemirror_mode": {
    "name": "ipython",
    "version": 3
   },
   "file_extension": ".py",
   "mimetype": "text/x-python",
   "name": "python",
   "nbconvert_exporter": "python",
   "pygments_lexer": "ipython3",
   "version": "3.6.11"
  }
 },
 "nbformat": 4,
 "nbformat_minor": 4
}
