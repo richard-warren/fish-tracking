{
 "cells": [
  {
   "cell_type": "markdown",
   "metadata": {},
   "source": [
    "# add metadata to dataset\n",
    "Original DPK repo does not save the video file path and frame number for frames. I need to find the videos and frame nums for images already in the training set by looping over ALL VIDS AND ALL IMAGES to find matches. Head free videos only atm!"
   ]
  },
  {
   "cell_type": "code",
   "execution_count": 23,
   "metadata": {},
   "outputs": [],
   "source": [
    "import matplotlib.pyplot as plt\n",
    "from tqdm.notebook import tqdm\n",
    "from shutil import copyfile\n",
    "import numpy as np\n",
    "import h5py\n",
    "import yaml\n",
    "import cv2\n",
    "import os\n",
    "root_dir = r'D:\\github\\fish-tracking'  # github repo\n",
    "\n",
    "# settings\n",
    "dataset_name = r'D:\\github\\fish-tracking\\label\\datasets\\tank_dataset_10.h5'\n",
    "new_dataset_name = r'D:\\github\\fish-tracking\\label\\datasets\\tank_dataset_11.h5'\n",
    "\n",
    "# load dataset\n",
    "with h5py.File(dataset_name, 'r') as f:\n",
    "    dataset = {key: value[...] for key, value in f.items()}\n",
    "imgs = dataset['images'][...,0]  # frame num x height x width\n",
    "n_imgs = imgs.shape[0]\n",
    "\n",
    "# load config\n",
    "with open(os.path.join(root_dir, 'config.yaml'), 'r') as file:\n",
    "    cfg = yaml.safe_load(file)['free']\n",
    "\n",
    "def update_dataset(old_dset, new_dset, vid_names, frame_nums):\n",
    "    ''' copy old_dset to new_dset and add video_name and frame_number fields '''\n",
    "    copyfile(dataset_name, new_dataset_name)\n",
    "    with h5py.File(new_dataset_name, 'r+') as f:\n",
    "        \n",
    "        f.create_dataset(\n",
    "            \"video_name\",\n",
    "            frame_nums.shape,\n",
    "            dtype=\"S64\",\n",
    "            data=np.array(vid_names, dtype='S64')\n",
    "        )\n",
    "\n",
    "        f.create_dataset(\n",
    "            \"frame_number\",\n",
    "            frame_nums.shape,\n",
    "            dtype=np.int,\n",
    "            data=frame_nums\n",
    "        )"
   ]
  },
  {
   "cell_type": "markdown",
   "metadata": {},
   "source": [
    "# be careful!\n",
    "The following code will overwrite `new_dataset` if it already exists!"
   ]
  },
  {
   "cell_type": "code",
   "execution_count": 6,
   "metadata": {},
   "outputs": [
    {
     "name": "stdout",
     "output_type": "stream",
     "text": [
      "Checking Z:\\C1\\free\\vids\\20200903\\concatenated.avi for matches...\n"
     ]
    },
    {
     "data": {
      "application/vnd.jupyter.widget-view+json": {
       "model_id": "f5ce9ec940a747ca94b8a3a78dc364f3",
       "version_major": 2,
       "version_minor": 0
      },
      "text/plain": [
       "HBox(children=(FloatProgress(value=0.0, max=306119.0), HTML(value='')))"
      ]
     },
     "metadata": {},
     "output_type": "display_data"
    },
    {
     "name": "stdout",
     "output_type": "stream",
     "text": [
      "\n",
      "Checking Z:\\C1\\free\\vids\\20200907\\concatenated.avi for matches...\n"
     ]
    },
    {
     "data": {
      "application/vnd.jupyter.widget-view+json": {
       "model_id": "146ac6d7d29d4f9d8e851db86c3c6030",
       "version_major": 2,
       "version_minor": 0
      },
      "text/plain": [
       "HBox(children=(FloatProgress(value=0.0, max=86237.0), HTML(value='')))"
      ]
     },
     "metadata": {},
     "output_type": "display_data"
    },
    {
     "name": "stdout",
     "output_type": "stream",
     "text": [
      "\n",
      "Checking Z:\\C1\\free\\vids\\20200909\\concatenated.avi for matches...\n"
     ]
    },
    {
     "data": {
      "application/vnd.jupyter.widget-view+json": {
       "model_id": "6d98dbea607e48a281cbcdb635ccad3b",
       "version_major": 2,
       "version_minor": 0
      },
      "text/plain": [
       "HBox(children=(FloatProgress(value=0.0, max=41201.0), HTML(value='')))"
      ]
     },
     "metadata": {},
     "output_type": "display_data"
    },
    {
     "name": "stdout",
     "output_type": "stream",
     "text": [
      "\n",
      "Checking Z:\\C1\\free\\vids\\20200911\\concatenated.avi for matches...\n"
     ]
    },
    {
     "data": {
      "application/vnd.jupyter.widget-view+json": {
       "model_id": "bbcf183dcb054180b06b400e471a9675",
       "version_major": 2,
       "version_minor": 0
      },
      "text/plain": [
       "HBox(children=(FloatProgress(value=0.0, max=47725.0), HTML(value='')))"
      ]
     },
     "metadata": {},
     "output_type": "display_data"
    },
    {
     "name": "stdout",
     "output_type": "stream",
     "text": [
      "\n",
      "Checking Z:\\C1\\free\\vids\\20200913\\concatenated.avi for matches...\n"
     ]
    },
    {
     "data": {
      "application/vnd.jupyter.widget-view+json": {
       "model_id": "8079b2f96d164574b0819d738e2cb15f",
       "version_major": 2,
       "version_minor": 0
      },
      "text/plain": [
       "HBox(children=(FloatProgress(value=0.0, max=117842.0), HTML(value='')))"
      ]
     },
     "metadata": {},
     "output_type": "display_data"
    },
    {
     "name": "stdout",
     "output_type": "stream",
     "text": [
      "\n",
      "Checking Z:\\C1\\free\\vids\\20200915\\concatenated.avi for matches...\n"
     ]
    },
    {
     "data": {
      "application/vnd.jupyter.widget-view+json": {
       "model_id": "27eb016cf20d4a20bcdebf8bda49fe87",
       "version_major": 2,
       "version_minor": 0
      },
      "text/plain": [
       "HBox(children=(FloatProgress(value=0.0, max=226305.0), HTML(value='')))"
      ]
     },
     "metadata": {},
     "output_type": "display_data"
    },
    {
     "name": "stdout",
     "output_type": "stream",
     "text": [
      "\n",
      "Checking Z:\\C1\\free\\vids\\20200917\\concatenated.avi for matches...\n"
     ]
    },
    {
     "data": {
      "application/vnd.jupyter.widget-view+json": {
       "model_id": "5fb26f8c65364fb7a0bcfcf0cd9fae6e",
       "version_major": 2,
       "version_minor": 0
      },
      "text/plain": [
       "HBox(children=(FloatProgress(value=0.0, max=331826.0), HTML(value='')))"
      ]
     },
     "metadata": {},
     "output_type": "display_data"
    },
    {
     "name": "stdout",
     "output_type": "stream",
     "text": [
      "\n",
      "Checking Z:\\C1\\free\\vids\\20200919\\concatenated.avi for matches...\n"
     ]
    },
    {
     "data": {
      "application/vnd.jupyter.widget-view+json": {
       "model_id": "773705592a7f42bebed160b353b13589",
       "version_major": 2,
       "version_minor": 0
      },
      "text/plain": [
       "HBox(children=(FloatProgress(value=0.0, max=226544.0), HTML(value='')))"
      ]
     },
     "metadata": {},
     "output_type": "display_data"
    },
    {
     "name": "stdout",
     "output_type": "stream",
     "text": [
      "\n",
      "Checking Z:\\C1\\free\\vids\\20200921\\concatenated.avi for matches...\n"
     ]
    },
    {
     "data": {
      "application/vnd.jupyter.widget-view+json": {
       "model_id": "93d423bd5fc4441c972333cf01d29b32",
       "version_major": 2,
       "version_minor": 0
      },
      "text/plain": [
       "HBox(children=(FloatProgress(value=0.0, max=130282.0), HTML(value='')))"
      ]
     },
     "metadata": {},
     "output_type": "display_data"
    },
    {
     "name": "stdout",
     "output_type": "stream",
     "text": [
      "\n",
      "Checking Z:\\C1\\free\\vids\\20200923_Fred\\concatenated.avi for matches...\n"
     ]
    },
    {
     "data": {
      "application/vnd.jupyter.widget-view+json": {
       "model_id": "30315e1097204eab86d8e53d114712ad",
       "version_major": 2,
       "version_minor": 0
      },
      "text/plain": [
       "HBox(children=(FloatProgress(value=0.0, max=228449.0), HTML(value='')))"
      ]
     },
     "metadata": {},
     "output_type": "display_data"
    },
    {
     "name": "stdout",
     "output_type": "stream",
     "text": [
      "\n",
      "Checking Z:\\C1\\free\\vids\\20200923_Greg\\concatenated.avi for matches...\n"
     ]
    },
    {
     "data": {
      "application/vnd.jupyter.widget-view+json": {
       "model_id": "bf2da2cfcf934e1bb9b2a4ac2785c303",
       "version_major": 2,
       "version_minor": 0
      },
      "text/plain": [
       "HBox(children=(FloatProgress(value=0.0, max=63881.0), HTML(value='')))"
      ]
     },
     "metadata": {},
     "output_type": "display_data"
    },
    {
     "name": "stdout",
     "output_type": "stream",
     "text": [
      "\n",
      "Checking Z:\\C1\\free\\vids\\20200925_Fred\\concatenated.avi for matches...\n"
     ]
    },
    {
     "data": {
      "application/vnd.jupyter.widget-view+json": {
       "model_id": "40e01a3e65b7431b892f63b9c6c9b002",
       "version_major": 2,
       "version_minor": 0
      },
      "text/plain": [
       "HBox(children=(FloatProgress(value=0.0, max=449590.0), HTML(value='')))"
      ]
     },
     "metadata": {},
     "output_type": "display_data"
    },
    {
     "name": "stdout",
     "output_type": "stream",
     "text": [
      "\n",
      "Checking Z:\\C1\\free\\vids\\20200925_Hank\\concatenated.avi for matches...\n"
     ]
    },
    {
     "data": {
      "application/vnd.jupyter.widget-view+json": {
       "model_id": "e2223efccaa94fc2863e11fc21eb595d",
       "version_major": 2,
       "version_minor": 0
      },
      "text/plain": [
       "HBox(children=(FloatProgress(value=0.0, max=216881.0), HTML(value='')))"
      ]
     },
     "metadata": {},
     "output_type": "display_data"
    },
    {
     "name": "stdout",
     "output_type": "stream",
     "text": [
      "\n",
      "Checking Z:\\C1\\free\\vids\\20200927_Fred\\concatenated.avi for matches...\n"
     ]
    },
    {
     "data": {
      "application/vnd.jupyter.widget-view+json": {
       "model_id": "d2d759a800bd485fb17de9aaa4c3c8e2",
       "version_major": 2,
       "version_minor": 0
      },
      "text/plain": [
       "HBox(children=(FloatProgress(value=0.0, max=132060.0), HTML(value='')))"
      ]
     },
     "metadata": {},
     "output_type": "display_data"
    },
    {
     "name": "stdout",
     "output_type": "stream",
     "text": [
      "\n",
      "Checking Z:\\C1\\free\\vids\\20200927_Hank\\concatenated.avi for matches...\n"
     ]
    },
    {
     "data": {
      "application/vnd.jupyter.widget-view+json": {
       "model_id": "9ea614728bc24fe1bfcf5e4b71b9b52a",
       "version_major": 2,
       "version_minor": 0
      },
      "text/plain": [
       "HBox(children=(FloatProgress(value=0.0, max=278381.0), HTML(value='')))"
      ]
     },
     "metadata": {},
     "output_type": "display_data"
    },
    {
     "name": "stdout",
     "output_type": "stream",
     "text": [
      "\n",
      "Checking Z:\\C1\\free\\vids\\20200929_Fred\\concatenated.avi for matches...\n"
     ]
    },
    {
     "data": {
      "application/vnd.jupyter.widget-view+json": {
       "model_id": "3e9534b2a3674a6595ca1a08f10fcba8",
       "version_major": 2,
       "version_minor": 0
      },
      "text/plain": [
       "HBox(children=(FloatProgress(value=0.0, max=237598.0), HTML(value='')))"
      ]
     },
     "metadata": {},
     "output_type": "display_data"
    },
    {
     "name": "stdout",
     "output_type": "stream",
     "text": [
      "\n",
      "Checking Z:\\C1\\free\\vids\\20200929_Hank\\concatenated.avi for matches...\n"
     ]
    },
    {
     "data": {
      "application/vnd.jupyter.widget-view+json": {
       "model_id": "777a42fa1af449e395f54ee22d25ba1b",
       "version_major": 2,
       "version_minor": 0
      },
      "text/plain": [
       "HBox(children=(FloatProgress(value=0.0, max=159954.0), HTML(value='')))"
      ]
     },
     "metadata": {},
     "output_type": "display_data"
    },
    {
     "name": "stdout",
     "output_type": "stream",
     "text": [
      "\n",
      "Checking Z:\\C1\\free\\vids\\20201001_Fred\\concatenated.avi for matches...\n"
     ]
    },
    {
     "data": {
      "application/vnd.jupyter.widget-view+json": {
       "model_id": "f9eb72fd61624fc58693df573171633d",
       "version_major": 2,
       "version_minor": 0
      },
      "text/plain": [
       "HBox(children=(FloatProgress(value=0.0, max=15864.0), HTML(value='')))"
      ]
     },
     "metadata": {},
     "output_type": "display_data"
    },
    {
     "name": "stdout",
     "output_type": "stream",
     "text": [
      "\n",
      "Checking Z:\\C1\\free\\vids\\20201001_Hank\\concatenated.avi for matches...\n"
     ]
    },
    {
     "data": {
      "application/vnd.jupyter.widget-view+json": {
       "model_id": "b3cb84bae95c4078b766900d981f44c4",
       "version_major": 2,
       "version_minor": 0
      },
      "text/plain": [
       "HBox(children=(FloatProgress(value=0.0, max=269802.0), HTML(value='')))"
      ]
     },
     "metadata": {},
     "output_type": "display_data"
    },
    {
     "name": "stdout",
     "output_type": "stream",
     "text": [
      "  Found a match! Dataset image 40 is frame 22 of Z:\\C1\\free\\vids\\20201001_Hank\\concatenated.avi \n",
      "  Found a match! Dataset image 41 is frame 8902 of Z:\\C1\\free\\vids\\20201001_Hank\\concatenated.avi \n",
      "  Found a match! Dataset image 42 is frame 26483 of Z:\\C1\\free\\vids\\20201001_Hank\\concatenated.avi \n",
      "  Found a match! Dataset image 43 is frame 33509 of Z:\\C1\\free\\vids\\20201001_Hank\\concatenated.avi \n",
      "  Found a match! Dataset image 44 is frame 45764 of Z:\\C1\\free\\vids\\20201001_Hank\\concatenated.avi \n",
      "  Found a match! Dataset image 45 is frame 52628 of Z:\\C1\\free\\vids\\20201001_Hank\\concatenated.avi \n",
      "  Found a match! Dataset image 46 is frame 77081 of Z:\\C1\\free\\vids\\20201001_Hank\\concatenated.avi \n",
      "  Found a match! Dataset image 47 is frame 83539 of Z:\\C1\\free\\vids\\20201001_Hank\\concatenated.avi \n",
      "  Found a match! Dataset image 48 is frame 89281 of Z:\\C1\\free\\vids\\20201001_Hank\\concatenated.avi \n",
      "  Found a match! Dataset image 49 is frame 92278 of Z:\\C1\\free\\vids\\20201001_Hank\\concatenated.avi \n",
      "  Found a match! Dataset image 50 is frame 96153 of Z:\\C1\\free\\vids\\20201001_Hank\\concatenated.avi \n",
      "  Found a match! Dataset image 51 is frame 100843 of Z:\\C1\\free\\vids\\20201001_Hank\\concatenated.avi \n",
      "  Found a match! Dataset image 52 is frame 103931 of Z:\\C1\\free\\vids\\20201001_Hank\\concatenated.avi \n",
      "  Found a match! Dataset image 53 is frame 107119 of Z:\\C1\\free\\vids\\20201001_Hank\\concatenated.avi \n",
      "  Found a match! Dataset image 54 is frame 119286 of Z:\\C1\\free\\vids\\20201001_Hank\\concatenated.avi \n",
      "  Found a match! Dataset image 55 is frame 122280 of Z:\\C1\\free\\vids\\20201001_Hank\\concatenated.avi \n",
      "  Found a match! Dataset image 56 is frame 126789 of Z:\\C1\\free\\vids\\20201001_Hank\\concatenated.avi \n",
      "  Found a match! Dataset image 57 is frame 130929 of Z:\\C1\\free\\vids\\20201001_Hank\\concatenated.avi \n",
      "  Found a match! Dataset image 58 is frame 136241 of Z:\\C1\\free\\vids\\20201001_Hank\\concatenated.avi \n",
      "  Found a match! Dataset image 59 is frame 139737 of Z:\\C1\\free\\vids\\20201001_Hank\\concatenated.avi \n",
      "  Found a match! Dataset image 60 is frame 144136 of Z:\\C1\\free\\vids\\20201001_Hank\\concatenated.avi \n",
      "  Found a match! Dataset image 61 is frame 147748 of Z:\\C1\\free\\vids\\20201001_Hank\\concatenated.avi \n",
      "  Found a match! Dataset image 62 is frame 151335 of Z:\\C1\\free\\vids\\20201001_Hank\\concatenated.avi \n",
      "  Found a match! Dataset image 63 is frame 154685 of Z:\\C1\\free\\vids\\20201001_Hank\\concatenated.avi \n",
      "  Found a match! Dataset image 64 is frame 157709 of Z:\\C1\\free\\vids\\20201001_Hank\\concatenated.avi \n",
      "  Found a match! Dataset image 65 is frame 162808 of Z:\\C1\\free\\vids\\20201001_Hank\\concatenated.avi \n",
      "  Found a match! Dataset image 66 is frame 166624 of Z:\\C1\\free\\vids\\20201001_Hank\\concatenated.avi \n",
      "  Found a match! Dataset image 67 is frame 169636 of Z:\\C1\\free\\vids\\20201001_Hank\\concatenated.avi \n",
      "  Found a match! Dataset image 68 is frame 172614 of Z:\\C1\\free\\vids\\20201001_Hank\\concatenated.avi \n",
      "  Found a match! Dataset image 69 is frame 175838 of Z:\\C1\\free\\vids\\20201001_Hank\\concatenated.avi \n",
      "  Found a match! Dataset image 70 is frame 178907 of Z:\\C1\\free\\vids\\20201001_Hank\\concatenated.avi \n",
      "  Found a match! Dataset image 71 is frame 194506 of Z:\\C1\\free\\vids\\20201001_Hank\\concatenated.avi \n",
      "  Found a match! Dataset image 72 is frame 198438 of Z:\\C1\\free\\vids\\20201001_Hank\\concatenated.avi \n",
      "  Found a match! Dataset image 73 is frame 207842 of Z:\\C1\\free\\vids\\20201001_Hank\\concatenated.avi \n",
      "  Found a match! Dataset image 74 is frame 210811 of Z:\\C1\\free\\vids\\20201001_Hank\\concatenated.avi \n",
      "  Found a match! Dataset image 75 is frame 214015 of Z:\\C1\\free\\vids\\20201001_Hank\\concatenated.avi \n",
      "  Found a match! Dataset image 76 is frame 229941 of Z:\\C1\\free\\vids\\20201001_Hank\\concatenated.avi \n",
      "  Found a match! Dataset image 77 is frame 233816 of Z:\\C1\\free\\vids\\20201001_Hank\\concatenated.avi \n",
      "  Found a match! Dataset image 78 is frame 243526 of Z:\\C1\\free\\vids\\20201001_Hank\\concatenated.avi \n",
      "  Found a match! Dataset image 79 is frame 246536 of Z:\\C1\\free\\vids\\20201001_Hank\\concatenated.avi \n",
      "  Found a match! Dataset image 80 is frame 249664 of Z:\\C1\\free\\vids\\20201001_Hank\\concatenated.avi \n",
      "  Found a match! Dataset image 81 is frame 253134 of Z:\\C1\\free\\vids\\20201001_Hank\\concatenated.avi \n",
      "\n",
      "Checking Z:\\C1\\free\\vids\\20201003_Fred\\concatenated.avi for matches...\n"
     ]
    },
    {
     "data": {
      "application/vnd.jupyter.widget-view+json": {
       "model_id": "1fef434c9192435da24169731279da21",
       "version_major": 2,
       "version_minor": 0
      },
      "text/plain": [
       "HBox(children=(FloatProgress(value=0.0, max=1765.0), HTML(value='')))"
      ]
     },
     "metadata": {},
     "output_type": "display_data"
    },
    {
     "name": "stdout",
     "output_type": "stream",
     "text": [
      "\n",
      "Checking Z:\\C1\\free\\vids\\20201003_Hank\\concatenated.avi for matches...\n"
     ]
    },
    {
     "data": {
      "application/vnd.jupyter.widget-view+json": {
       "model_id": "ef7f168372724117baed6a45db3b857a",
       "version_major": 2,
       "version_minor": 0
      },
      "text/plain": [
       "HBox(children=(FloatProgress(value=0.0, max=387722.0), HTML(value='')))"
      ]
     },
     "metadata": {},
     "output_type": "display_data"
    },
    {
     "name": "stdout",
     "output_type": "stream",
     "text": [
      "\n",
      "Checking Z:\\C1\\free\\vids\\20201005_Hank\\concatenated.avi for matches...\n"
     ]
    },
    {
     "data": {
      "application/vnd.jupyter.widget-view+json": {
       "model_id": "acd6b0c4709f4fc7883e240a2e4182df",
       "version_major": 2,
       "version_minor": 0
      },
      "text/plain": [
       "HBox(children=(FloatProgress(value=0.0, max=115508.0), HTML(value='')))"
      ]
     },
     "metadata": {},
     "output_type": "display_data"
    },
    {
     "name": "stdout",
     "output_type": "stream",
     "text": [
      "  Found a match! Dataset image 82 is frame 21828 of Z:\\C1\\free\\vids\\20201005_Hank\\concatenated.avi \n",
      "  Found a match! Dataset image 83 is frame 24839 of Z:\\C1\\free\\vids\\20201005_Hank\\concatenated.avi \n",
      "  Found a match! Dataset image 84 is frame 30678 of Z:\\C1\\free\\vids\\20201005_Hank\\concatenated.avi \n",
      "  Found a match! Dataset image 85 is frame 32639 of Z:\\C1\\free\\vids\\20201005_Hank\\concatenated.avi \n",
      "  Found a match! Dataset image 86 is frame 63425 of Z:\\C1\\free\\vids\\20201005_Hank\\concatenated.avi \n",
      "  Found a match! Dataset image 87 is frame 63740 of Z:\\C1\\free\\vids\\20201005_Hank\\concatenated.avi \n",
      "  Found a match! Dataset image 88 is frame 73164 of Z:\\C1\\free\\vids\\20201005_Hank\\concatenated.avi \n",
      "  Found a match! Dataset image 89 is frame 74860 of Z:\\C1\\free\\vids\\20201005_Hank\\concatenated.avi \n",
      "  Found a match! Dataset image 90 is frame 78743 of Z:\\C1\\free\\vids\\20201005_Hank\\concatenated.avi \n",
      "  Found a match! Dataset image 91 is frame 81480 of Z:\\C1\\free\\vids\\20201005_Hank\\concatenated.avi \n",
      "  Found a match! Dataset image 92 is frame 96117 of Z:\\C1\\free\\vids\\20201005_Hank\\concatenated.avi \n",
      "  Found a match! Dataset image 93 is frame 105871 of Z:\\C1\\free\\vids\\20201005_Hank\\concatenated.avi \n",
      "\n",
      "Checking Z:\\C1\\free\\vids\\20201007_Hank\\concatenated.avi for matches...\n"
     ]
    },
    {
     "data": {
      "application/vnd.jupyter.widget-view+json": {
       "model_id": "8e005efab2174d908d898e989b2e8a48",
       "version_major": 2,
       "version_minor": 0
      },
      "text/plain": [
       "HBox(children=(FloatProgress(value=0.0, max=431928.0), HTML(value='')))"
      ]
     },
     "metadata": {},
     "output_type": "display_data"
    },
    {
     "name": "stdout",
     "output_type": "stream",
     "text": [
      "\n",
      "Checking Z:\\C1\\free\\vids\\20201007_Igor\\concatenated.avi for matches...\n"
     ]
    },
    {
     "data": {
      "application/vnd.jupyter.widget-view+json": {
       "model_id": "0ca2e7c6037f4214a3d356726a5a1c6b",
       "version_major": 2,
       "version_minor": 0
      },
      "text/plain": [
       "HBox(children=(FloatProgress(value=0.0, max=145632.0), HTML(value='')))"
      ]
     },
     "metadata": {},
     "output_type": "display_data"
    },
    {
     "name": "stdout",
     "output_type": "stream",
     "text": [
      "\n",
      "Checking Z:\\C1\\free\\vids\\20201009_Hank\\concatenated.avi for matches...\n"
     ]
    },
    {
     "data": {
      "application/vnd.jupyter.widget-view+json": {
       "model_id": "6b95cdfcc60148909f0721f1a23644a0",
       "version_major": 2,
       "version_minor": 0
      },
      "text/plain": [
       "HBox(children=(FloatProgress(value=0.0, max=209551.0), HTML(value='')))"
      ]
     },
     "metadata": {},
     "output_type": "display_data"
    },
    {
     "name": "stdout",
     "output_type": "stream",
     "text": [
      "\n",
      "Checking Z:\\C1\\free\\vids\\20201009_Igor\\concatenated.avi for matches...\n"
     ]
    },
    {
     "data": {
      "application/vnd.jupyter.widget-view+json": {
       "model_id": "d486c7c1f67341e8836cce93283f501b",
       "version_major": 2,
       "version_minor": 0
      },
      "text/plain": [
       "HBox(children=(FloatProgress(value=0.0, max=84021.0), HTML(value='')))"
      ]
     },
     "metadata": {},
     "output_type": "display_data"
    },
    {
     "name": "stdout",
     "output_type": "stream",
     "text": [
      "\n",
      "Checking Z:\\C1\\free\\vids\\20201011_Hank\\concatenated.avi for matches...\n"
     ]
    },
    {
     "data": {
      "application/vnd.jupyter.widget-view+json": {
       "model_id": "17112a59ea864ee8b7583550dc60bc8c",
       "version_major": 2,
       "version_minor": 0
      },
      "text/plain": [
       "HBox(children=(FloatProgress(value=0.0, max=376108.0), HTML(value='')))"
      ]
     },
     "metadata": {},
     "output_type": "display_data"
    },
    {
     "name": "stdout",
     "output_type": "stream",
     "text": [
      "\n",
      "Checking Z:\\C1\\free\\vids\\20201011_Igor\\concatenated.avi for matches...\n"
     ]
    },
    {
     "data": {
      "application/vnd.jupyter.widget-view+json": {
       "model_id": "07d19c18f3df45bb8e4c34416cc9e9f1",
       "version_major": 2,
       "version_minor": 0
      },
      "text/plain": [
       "HBox(children=(FloatProgress(value=0.0, max=435859.0), HTML(value='')))"
      ]
     },
     "metadata": {},
     "output_type": "display_data"
    },
    {
     "name": "stdout",
     "output_type": "stream",
     "text": [
      "  Found a match! Dataset image 123 is frame 253714 of Z:\\C1\\free\\vids\\20201011_Igor\\concatenated.avi \n",
      "  Found a match! Dataset image 122 is frame 253752 of Z:\\C1\\free\\vids\\20201011_Igor\\concatenated.avi \n",
      "  Found a match! Dataset image 120 is frame 253870 of Z:\\C1\\free\\vids\\20201011_Igor\\concatenated.avi \n",
      "  Found a match! Dataset image 125 is frame 254028 of Z:\\C1\\free\\vids\\20201011_Igor\\concatenated.avi \n",
      "  Found a match! Dataset image 130 is frame 254032 of Z:\\C1\\free\\vids\\20201011_Igor\\concatenated.avi \n",
      "  Found a match! Dataset image 115 is frame 254151 of Z:\\C1\\free\\vids\\20201011_Igor\\concatenated.avi \n",
      "  Found a match! Dataset image 127 is frame 254283 of Z:\\C1\\free\\vids\\20201011_Igor\\concatenated.avi \n",
      "  Found a match! Dataset image 119 is frame 254387 of Z:\\C1\\free\\vids\\20201011_Igor\\concatenated.avi \n",
      "  Found a match! Dataset image 124 is frame 254485 of Z:\\C1\\free\\vids\\20201011_Igor\\concatenated.avi \n",
      "  Found a match! Dataset image 116 is frame 254710 of Z:\\C1\\free\\vids\\20201011_Igor\\concatenated.avi \n",
      "  Found a match! Dataset image 121 is frame 254764 of Z:\\C1\\free\\vids\\20201011_Igor\\concatenated.avi \n",
      "  Found a match! Dataset image 129 is frame 254974 of Z:\\C1\\free\\vids\\20201011_Igor\\concatenated.avi \n",
      "  Found a match! Dataset image 118 is frame 255040 of Z:\\C1\\free\\vids\\20201011_Igor\\concatenated.avi \n",
      "  Found a match! Dataset image 131 is frame 255286 of Z:\\C1\\free\\vids\\20201011_Igor\\concatenated.avi \n",
      "  Found a match! Dataset image 126 is frame 255317 of Z:\\C1\\free\\vids\\20201011_Igor\\concatenated.avi \n",
      "  Found a match! Dataset image 132 is frame 255361 of Z:\\C1\\free\\vids\\20201011_Igor\\concatenated.avi \n",
      "  Found a match! Dataset image 133 is frame 255452 of Z:\\C1\\free\\vids\\20201011_Igor\\concatenated.avi \n",
      "  Found a match! Dataset image 128 is frame 255476 of Z:\\C1\\free\\vids\\20201011_Igor\\concatenated.avi \n",
      "  Found a match! Dataset image 117 is frame 255586 of Z:\\C1\\free\\vids\\20201011_Igor\\concatenated.avi \n",
      "  Found a match! Dataset image 114 is frame 255683 of Z:\\C1\\free\\vids\\20201011_Igor\\concatenated.avi \n",
      "  Found a match! Dataset image 113 is frame 270856 of Z:\\C1\\free\\vids\\20201011_Igor\\concatenated.avi \n",
      "  Found a match! Dataset image 110 is frame 271041 of Z:\\C1\\free\\vids\\20201011_Igor\\concatenated.avi \n",
      "  Found a match! Dataset image 105 is frame 271252 of Z:\\C1\\free\\vids\\20201011_Igor\\concatenated.avi \n",
      "  Found a match! Dataset image 101 is frame 271408 of Z:\\C1\\free\\vids\\20201011_Igor\\concatenated.avi \n",
      "  Found a match! Dataset image 104 is frame 271800 of Z:\\C1\\free\\vids\\20201011_Igor\\concatenated.avi \n",
      "  Found a match! Dataset image 107 is frame 271853 of Z:\\C1\\free\\vids\\20201011_Igor\\concatenated.avi \n",
      "  Found a match! Dataset image 102 is frame 272056 of Z:\\C1\\free\\vids\\20201011_Igor\\concatenated.avi \n",
      "  Found a match! Dataset image 106 is frame 272281 of Z:\\C1\\free\\vids\\20201011_Igor\\concatenated.avi \n",
      "  Found a match! Dataset image 97 is frame 272380 of Z:\\C1\\free\\vids\\20201011_Igor\\concatenated.avi \n",
      "  Found a match! Dataset image 99 is frame 272529 of Z:\\C1\\free\\vids\\20201011_Igor\\concatenated.avi \n",
      "  Found a match! Dataset image 112 is frame 272718 of Z:\\C1\\free\\vids\\20201011_Igor\\concatenated.avi \n",
      "  Found a match! Dataset image 95 is frame 272875 of Z:\\C1\\free\\vids\\20201011_Igor\\concatenated.avi \n",
      "  Found a match! Dataset image 109 is frame 273016 of Z:\\C1\\free\\vids\\20201011_Igor\\concatenated.avi \n",
      "  Found a match! Dataset image 108 is frame 273442 of Z:\\C1\\free\\vids\\20201011_Igor\\concatenated.avi \n",
      "  Found a match! Dataset image 96 is frame 273945 of Z:\\C1\\free\\vids\\20201011_Igor\\concatenated.avi \n",
      "  Found a match! Dataset image 100 is frame 274319 of Z:\\C1\\free\\vids\\20201011_Igor\\concatenated.avi \n",
      "  Found a match! Dataset image 103 is frame 274471 of Z:\\C1\\free\\vids\\20201011_Igor\\concatenated.avi \n",
      "  Found a match! Dataset image 98 is frame 274877 of Z:\\C1\\free\\vids\\20201011_Igor\\concatenated.avi \n",
      "  Found a match! Dataset image 111 is frame 275436 of Z:\\C1\\free\\vids\\20201011_Igor\\concatenated.avi \n",
      "  Found a match! Dataset image 94 is frame 275629 of Z:\\C1\\free\\vids\\20201011_Igor\\concatenated.avi \n",
      "\n",
      "Checking Z:\\C1\\free\\vids\\20201013_Hank\\concatenated.avi for matches...\n"
     ]
    },
    {
     "data": {
      "application/vnd.jupyter.widget-view+json": {
       "model_id": "01cddc5cdfa64a3db769eefe921fa875",
       "version_major": 2,
       "version_minor": 0
      },
      "text/plain": [
       "HBox(children=(FloatProgress(value=0.0, max=353284.0), HTML(value='')))"
      ]
     },
     "metadata": {},
     "output_type": "display_data"
    },
    {
     "name": "stdout",
     "output_type": "stream",
     "text": [
      "\n",
      "Checking Z:\\C1\\free\\vids\\20201013_Igor\\concatenated.avi for matches...\n"
     ]
    },
    {
     "data": {
      "application/vnd.jupyter.widget-view+json": {
       "model_id": "c1cb8dc826e6488d8393d911013cff04",
       "version_major": 2,
       "version_minor": 0
      },
      "text/plain": [
       "HBox(children=(FloatProgress(value=0.0, max=135156.0), HTML(value='')))"
      ]
     },
     "metadata": {},
     "output_type": "display_data"
    },
    {
     "name": "stdout",
     "output_type": "stream",
     "text": [
      "\n",
      "Checking Z:\\C1\\free\\vids\\20201015_Hank\\concatenated.avi for matches...\n"
     ]
    },
    {
     "data": {
      "application/vnd.jupyter.widget-view+json": {
       "model_id": "e1b5574ad8154146aa7bcb8bae7b6266",
       "version_major": 2,
       "version_minor": 0
      },
      "text/plain": [
       "HBox(children=(FloatProgress(value=0.0, max=111985.0), HTML(value='')))"
      ]
     },
     "metadata": {},
     "output_type": "display_data"
    },
    {
     "name": "stdout",
     "output_type": "stream",
     "text": [
      "\n",
      "Checking Z:\\C1\\free\\vids\\20201020_Igor\\concatenated.avi for matches...\n"
     ]
    },
    {
     "data": {
      "application/vnd.jupyter.widget-view+json": {
       "model_id": "a34258a2520c4ba68fe7170639deb7b9",
       "version_major": 2,
       "version_minor": 0
      },
      "text/plain": [
       "HBox(children=(FloatProgress(value=0.0, max=522202.0), HTML(value='')))"
      ]
     },
     "metadata": {},
     "output_type": "display_data"
    },
    {
     "name": "stdout",
     "output_type": "stream",
     "text": [
      "\n",
      "Checking Z:\\C1\\free\\vids\\20201022_Igor\\concatenated.avi for matches...\n"
     ]
    },
    {
     "data": {
      "application/vnd.jupyter.widget-view+json": {
       "model_id": "eaa5fdd9ae4240b2ae768c902d75622f",
       "version_major": 2,
       "version_minor": 0
      },
      "text/plain": [
       "HBox(children=(FloatProgress(value=0.0, max=480444.0), HTML(value='')))"
      ]
     },
     "metadata": {},
     "output_type": "display_data"
    },
    {
     "name": "stdout",
     "output_type": "stream",
     "text": [
      "\n",
      "Checking Z:\\C1\\free\\vids\\20201022_Joao\\concatenated.avi for matches...\n"
     ]
    },
    {
     "data": {
      "application/vnd.jupyter.widget-view+json": {
       "model_id": "e537592e273e44abbcab670eb0984529",
       "version_major": 2,
       "version_minor": 0
      },
      "text/plain": [
       "HBox(children=(FloatProgress(value=0.0, max=246424.0), HTML(value='')))"
      ]
     },
     "metadata": {},
     "output_type": "display_data"
    },
    {
     "name": "stdout",
     "output_type": "stream",
     "text": [
      "\n",
      "Checking Z:\\C1\\free\\vids\\20201024_Greg\\concatenated.avi for matches...\n"
     ]
    },
    {
     "data": {
      "application/vnd.jupyter.widget-view+json": {
       "model_id": "7ed99eefc538443e9632c994b1ede236",
       "version_major": 2,
       "version_minor": 0
      },
      "text/plain": [
       "HBox(children=(FloatProgress(value=0.0, max=122555.0), HTML(value='')))"
      ]
     },
     "metadata": {},
     "output_type": "display_data"
    },
    {
     "name": "stdout",
     "output_type": "stream",
     "text": [
      "\n",
      "Checking Z:\\C1\\free\\vids\\20201024_Joao\\concatenated.avi for matches...\n"
     ]
    },
    {
     "data": {
      "application/vnd.jupyter.widget-view+json": {
       "model_id": "d8ae744d712d4001968ce209ae20b9e1",
       "version_major": 2,
       "version_minor": 0
      },
      "text/plain": [
       "HBox(children=(FloatProgress(value=0.0, max=5392.0), HTML(value='')))"
      ]
     },
     "metadata": {},
     "output_type": "display_data"
    },
    {
     "name": "stdout",
     "output_type": "stream",
     "text": [
      "\n",
      "Checking Z:\\C1\\free\\vids\\20201102_Greg\\concatenated.avi for matches...\n"
     ]
    },
    {
     "data": {
      "application/vnd.jupyter.widget-view+json": {
       "model_id": "675e796c64e443dcb12c99f88299089d",
       "version_major": 2,
       "version_minor": 0
      },
      "text/plain": [
       "HBox(children=(FloatProgress(value=0.0, max=291764.0), HTML(value='')))"
      ]
     },
     "metadata": {},
     "output_type": "display_data"
    },
    {
     "name": "stdout",
     "output_type": "stream",
     "text": [
      "\n",
      "Checking Z:\\C1\\free\\vids\\20201102_Igor\\concatenated.avi for matches...\n"
     ]
    },
    {
     "data": {
      "application/vnd.jupyter.widget-view+json": {
       "model_id": "618d2aab6a3c49188097f35eaf69903e",
       "version_major": 2,
       "version_minor": 0
      },
      "text/plain": [
       "HBox(children=(FloatProgress(value=0.0, max=249150.0), HTML(value='')))"
      ]
     },
     "metadata": {},
     "output_type": "display_data"
    },
    {
     "name": "stdout",
     "output_type": "stream",
     "text": [
      "\n",
      "Checking Z:\\C1\\free\\vids\\20201102_Joao\\concatenated.avi for matches...\n"
     ]
    },
    {
     "data": {
      "application/vnd.jupyter.widget-view+json": {
       "model_id": "0f244aa4651b443694395faed01da53e",
       "version_major": 2,
       "version_minor": 0
      },
      "text/plain": [
       "HBox(children=(FloatProgress(value=0.0, max=256967.0), HTML(value='')))"
      ]
     },
     "metadata": {},
     "output_type": "display_data"
    },
    {
     "name": "stdout",
     "output_type": "stream",
     "text": [
      "\n",
      "Checking Z:\\C1\\free\\vids\\20201104_Greg\\concatenated.avi for matches...\n"
     ]
    },
    {
     "data": {
      "application/vnd.jupyter.widget-view+json": {
       "model_id": "9b9f68ca4edb4715ac0fd7c42f237b36",
       "version_major": 2,
       "version_minor": 0
      },
      "text/plain": [
       "HBox(children=(FloatProgress(value=0.0, max=576697.0), HTML(value='')))"
      ]
     },
     "metadata": {},
     "output_type": "display_data"
    },
    {
     "name": "stdout",
     "output_type": "stream",
     "text": [
      "\n",
      "Checking Z:\\C1\\free\\vids\\20201104_Igor\\concatenated.avi for matches...\n"
     ]
    },
    {
     "data": {
      "application/vnd.jupyter.widget-view+json": {
       "model_id": "552c041855f74e7b958908534a964e3e",
       "version_major": 2,
       "version_minor": 0
      },
      "text/plain": [
       "HBox(children=(FloatProgress(value=0.0, max=154593.0), HTML(value='')))"
      ]
     },
     "metadata": {},
     "output_type": "display_data"
    },
    {
     "name": "stdout",
     "output_type": "stream",
     "text": [
      "\n",
      "Checking Z:\\C1\\free\\vids\\20201104_Joao\\concatenated.avi for matches...\n"
     ]
    },
    {
     "data": {
      "application/vnd.jupyter.widget-view+json": {
       "model_id": "1e193e35253d448f92991bd19068ad1a",
       "version_major": 2,
       "version_minor": 0
      },
      "text/plain": [
       "HBox(children=(FloatProgress(value=0.0, max=210161.0), HTML(value='')))"
      ]
     },
     "metadata": {},
     "output_type": "display_data"
    },
    {
     "name": "stdout",
     "output_type": "stream",
     "text": [
      "\n",
      "Checking Z:\\C1\\free\\vids\\20201105_kyle\\concatenated.avi for matches...\n"
     ]
    },
    {
     "data": {
      "application/vnd.jupyter.widget-view+json": {
       "model_id": "d5b6f3934d2c40c4afcd392c1f8e7f1f",
       "version_major": 2,
       "version_minor": 0
      },
      "text/plain": [
       "HBox(children=(FloatProgress(value=0.0, max=216215.0), HTML(value='')))"
      ]
     },
     "metadata": {},
     "output_type": "display_data"
    },
    {
     "name": "stdout",
     "output_type": "stream",
     "text": [
      "\n",
      "Checking Z:\\C1\\free\\vids\\20201105_lazy\\concatenated.avi for matches...\n"
     ]
    },
    {
     "data": {
      "application/vnd.jupyter.widget-view+json": {
       "model_id": "f774b2f0bd6d427ebc1b57378f79c0f7",
       "version_major": 2,
       "version_minor": 0
      },
      "text/plain": [
       "HBox(children=(FloatProgress(value=0.0, max=280635.0), HTML(value='')))"
      ]
     },
     "metadata": {},
     "output_type": "display_data"
    },
    {
     "name": "stdout",
     "output_type": "stream",
     "text": [
      "\n",
      "Checking Z:\\C1\\free\\vids\\20201105_mark\\concatenated.avi for matches...\n"
     ]
    },
    {
     "data": {
      "application/vnd.jupyter.widget-view+json": {
       "model_id": "b3723c774a3742c09e2caade712d4ef8",
       "version_major": 2,
       "version_minor": 0
      },
      "text/plain": [
       "HBox(children=(FloatProgress(value=0.0, max=154508.0), HTML(value='')))"
      ]
     },
     "metadata": {},
     "output_type": "display_data"
    },
    {
     "name": "stdout",
     "output_type": "stream",
     "text": [
      "\n",
      "Checking Z:\\C1\\free\\vids\\20201106_Greg\\concatenated.avi for matches...\n"
     ]
    },
    {
     "data": {
      "application/vnd.jupyter.widget-view+json": {
       "model_id": "f5946db6936b4a568f9578c079914856",
       "version_major": 2,
       "version_minor": 0
      },
      "text/plain": [
       "HBox(children=(FloatProgress(value=0.0, max=170786.0), HTML(value='')))"
      ]
     },
     "metadata": {},
     "output_type": "display_data"
    },
    {
     "name": "stdout",
     "output_type": "stream",
     "text": [
      "\n",
      "Checking Z:\\C1\\free\\vids\\20201106_Igor\\concatenated.avi for matches...\n"
     ]
    },
    {
     "data": {
      "application/vnd.jupyter.widget-view+json": {
       "model_id": "50ac00696bec4bad915120e2a545e812",
       "version_major": 2,
       "version_minor": 0
      },
      "text/plain": [
       "HBox(children=(FloatProgress(value=0.0, max=175539.0), HTML(value='')))"
      ]
     },
     "metadata": {},
     "output_type": "display_data"
    },
    {
     "name": "stdout",
     "output_type": "stream",
     "text": [
      "\n",
      "Checking Z:\\C1\\free\\vids\\20201106_Joao\\concatenated.avi for matches...\n"
     ]
    },
    {
     "data": {
      "application/vnd.jupyter.widget-view+json": {
       "model_id": "8f7ce0b51eb44e7a9b6b9dc429b07f60",
       "version_major": 2,
       "version_minor": 0
      },
      "text/plain": [
       "HBox(children=(FloatProgress(value=0.0, max=468759.0), HTML(value='')))"
      ]
     },
     "metadata": {},
     "output_type": "display_data"
    },
    {
     "name": "stdout",
     "output_type": "stream",
     "text": [
      "\n",
      "Checking Z:\\C1\\free\\vids\\20201107_kyle\\concatenated.avi for matches...\n"
     ]
    },
    {
     "data": {
      "application/vnd.jupyter.widget-view+json": {
       "model_id": "6970f5a8be5c4ed7bb090a4f449db80d",
       "version_major": 2,
       "version_minor": 0
      },
      "text/plain": [
       "HBox(children=(FloatProgress(value=0.0, max=99612.0), HTML(value='')))"
      ]
     },
     "metadata": {},
     "output_type": "display_data"
    },
    {
     "name": "stdout",
     "output_type": "stream",
     "text": [
      "\n",
      "Checking Z:\\C1\\free\\vids\\20201107_lazy\\concatenated.avi for matches...\n"
     ]
    },
    {
     "data": {
      "application/vnd.jupyter.widget-view+json": {
       "model_id": "d3f214e7866f4b0d92f7a3e846e6328f",
       "version_major": 2,
       "version_minor": 0
      },
      "text/plain": [
       "HBox(children=(FloatProgress(value=0.0, max=189701.0), HTML(value='')))"
      ]
     },
     "metadata": {},
     "output_type": "display_data"
    },
    {
     "name": "stdout",
     "output_type": "stream",
     "text": [
      "\n",
      "Checking Z:\\C1\\free\\vids\\20201107_mark\\concatenated.avi for matches...\n"
     ]
    },
    {
     "data": {
      "application/vnd.jupyter.widget-view+json": {
       "model_id": "e938a253a06d407b976d08ed26714eff",
       "version_major": 2,
       "version_minor": 0
      },
      "text/plain": [
       "HBox(children=(FloatProgress(value=0.0, max=178561.0), HTML(value='')))"
      ]
     },
     "metadata": {},
     "output_type": "display_data"
    },
    {
     "name": "stdout",
     "output_type": "stream",
     "text": [
      "\n",
      "Checking Z:\\C1\\free\\vids\\20201108_Greg\\concatenated.avi for matches...\n"
     ]
    },
    {
     "data": {
      "application/vnd.jupyter.widget-view+json": {
       "model_id": "111392a4479e44f9aa2ed488379a7633",
       "version_major": 2,
       "version_minor": 0
      },
      "text/plain": [
       "HBox(children=(FloatProgress(value=0.0, max=124331.0), HTML(value='')))"
      ]
     },
     "metadata": {},
     "output_type": "display_data"
    },
    {
     "name": "stdout",
     "output_type": "stream",
     "text": [
      "\n",
      "Checking Z:\\C1\\free\\vids\\20201108_Igor\\concatenated.avi for matches...\n"
     ]
    },
    {
     "data": {
      "application/vnd.jupyter.widget-view+json": {
       "model_id": "c6c35e235ae64f7db37e7c01d8a269cf",
       "version_major": 2,
       "version_minor": 0
      },
      "text/plain": [
       "HBox(children=(FloatProgress(value=0.0, max=133255.0), HTML(value='')))"
      ]
     },
     "metadata": {},
     "output_type": "display_data"
    },
    {
     "name": "stdout",
     "output_type": "stream",
     "text": [
      "\n",
      "Checking Z:\\C1\\free\\vids\\20201108_Joao\\concatenated.avi for matches...\n"
     ]
    },
    {
     "data": {
      "application/vnd.jupyter.widget-view+json": {
       "model_id": "ee0c84616d794b7d99065690d85d7bea",
       "version_major": 2,
       "version_minor": 0
      },
      "text/plain": [
       "HBox(children=(FloatProgress(value=0.0, max=229151.0), HTML(value='')))"
      ]
     },
     "metadata": {},
     "output_type": "display_data"
    },
    {
     "name": "stdout",
     "output_type": "stream",
     "text": [
      "\n",
      "Checking Z:\\C1\\free\\vids\\20201109_kyle\\concatenated.avi for matches...\n"
     ]
    },
    {
     "data": {
      "application/vnd.jupyter.widget-view+json": {
       "model_id": "6bd9ddf77fff46c7bd0f2af9dc84a97b",
       "version_major": 2,
       "version_minor": 0
      },
      "text/plain": [
       "HBox(children=(FloatProgress(value=0.0, max=104326.0), HTML(value='')))"
      ]
     },
     "metadata": {},
     "output_type": "display_data"
    },
    {
     "name": "stdout",
     "output_type": "stream",
     "text": [
      "\n",
      "Checking Z:\\C1\\free\\vids\\20201109_lazy\\concatenated.avi for matches...\n"
     ]
    },
    {
     "data": {
      "application/vnd.jupyter.widget-view+json": {
       "model_id": "4303e7812c564f89a3d3a76464fbbf5e",
       "version_major": 2,
       "version_minor": 0
      },
      "text/plain": [
       "HBox(children=(FloatProgress(value=0.0, max=118978.0), HTML(value='')))"
      ]
     },
     "metadata": {},
     "output_type": "display_data"
    },
    {
     "name": "stdout",
     "output_type": "stream",
     "text": [
      "\n",
      "Checking Z:\\C1\\free\\vids\\20201109_mark\\concatenated.avi for matches...\n"
     ]
    },
    {
     "data": {
      "application/vnd.jupyter.widget-view+json": {
       "model_id": "64c115fffac5426ca7fe4022de0b4b9d",
       "version_major": 2,
       "version_minor": 0
      },
      "text/plain": [
       "HBox(children=(FloatProgress(value=0.0, max=45612.0), HTML(value='')))"
      ]
     },
     "metadata": {},
     "output_type": "display_data"
    },
    {
     "name": "stdout",
     "output_type": "stream",
     "text": [
      "\n",
      "Checking Z:\\C1\\free\\vids\\20201110_Greg\\concatenated.avi for matches...\n"
     ]
    },
    {
     "data": {
      "application/vnd.jupyter.widget-view+json": {
       "model_id": "df39fe63946143809366659502cd0e78",
       "version_major": 2,
       "version_minor": 0
      },
      "text/plain": [
       "HBox(children=(FloatProgress(value=0.0, max=84524.0), HTML(value='')))"
      ]
     },
     "metadata": {},
     "output_type": "display_data"
    },
    {
     "name": "stdout",
     "output_type": "stream",
     "text": [
      "\n",
      "Checking Z:\\C1\\free\\vids\\20201110_Igor\\concatenated.avi for matches...\n"
     ]
    },
    {
     "data": {
      "application/vnd.jupyter.widget-view+json": {
       "model_id": "fdc004a3b10348b7b2becf38c6360034",
       "version_major": 2,
       "version_minor": 0
      },
      "text/plain": [
       "HBox(children=(FloatProgress(value=0.0, max=51862.0), HTML(value='')))"
      ]
     },
     "metadata": {},
     "output_type": "display_data"
    },
    {
     "name": "stdout",
     "output_type": "stream",
     "text": [
      "\n",
      "Checking Z:\\C1\\free\\vids\\20201110_Joao\\concatenated.avi for matches...\n"
     ]
    },
    {
     "data": {
      "application/vnd.jupyter.widget-view+json": {
       "model_id": "42258e3273b54b42814f3464355b0668",
       "version_major": 2,
       "version_minor": 0
      },
      "text/plain": [
       "HBox(children=(FloatProgress(value=0.0, max=278326.0), HTML(value='')))"
      ]
     },
     "metadata": {},
     "output_type": "display_data"
    },
    {
     "name": "stdout",
     "output_type": "stream",
     "text": [
      "\n",
      "Checking Z:\\C1\\free\\vids\\20201111_Kyle\\concatenated.avi for matches...\n"
     ]
    },
    {
     "data": {
      "application/vnd.jupyter.widget-view+json": {
       "model_id": "5c67f0ee09e54e6493a341ceeaf537f5",
       "version_major": 2,
       "version_minor": 0
      },
      "text/plain": [
       "HBox(children=(FloatProgress(value=0.0, max=200065.0), HTML(value='')))"
      ]
     },
     "metadata": {},
     "output_type": "display_data"
    },
    {
     "name": "stdout",
     "output_type": "stream",
     "text": [
      "\n",
      "Checking Z:\\C1\\free\\vids\\20201111_Lazy\\concatenated.avi for matches...\n"
     ]
    },
    {
     "data": {
      "application/vnd.jupyter.widget-view+json": {
       "model_id": "e9b23ec973324faebe3edfdaf19274e6",
       "version_major": 2,
       "version_minor": 0
      },
      "text/plain": [
       "HBox(children=(FloatProgress(value=0.0, max=182119.0), HTML(value='')))"
      ]
     },
     "metadata": {},
     "output_type": "display_data"
    },
    {
     "name": "stdout",
     "output_type": "stream",
     "text": [
      "\n",
      "Checking Z:\\C1\\free\\vids\\20201111_Mark\\concatenated.avi for matches...\n"
     ]
    },
    {
     "data": {
      "application/vnd.jupyter.widget-view+json": {
       "model_id": "dba048dd63f34150ae02aa33618799c6",
       "version_major": 2,
       "version_minor": 0
      },
      "text/plain": [
       "HBox(children=(FloatProgress(value=0.0, max=267252.0), HTML(value='')))"
      ]
     },
     "metadata": {},
     "output_type": "display_data"
    },
    {
     "name": "stdout",
     "output_type": "stream",
     "text": [
      "\n",
      "Checking Z:\\C1\\free\\vids\\20201112_Greg\\concatenated.avi for matches...\n"
     ]
    },
    {
     "data": {
      "application/vnd.jupyter.widget-view+json": {
       "model_id": "2c5b8068acdd413bbf52a178100384fc",
       "version_major": 2,
       "version_minor": 0
      },
      "text/plain": [
       "HBox(children=(FloatProgress(value=0.0, max=80747.0), HTML(value='')))"
      ]
     },
     "metadata": {},
     "output_type": "display_data"
    },
    {
     "name": "stdout",
     "output_type": "stream",
     "text": [
      "\n",
      "Checking Z:\\C1\\free\\vids\\20201112_Igor\\concatenated.avi for matches...\n"
     ]
    },
    {
     "data": {
      "application/vnd.jupyter.widget-view+json": {
       "model_id": "b586424ccfb14b1a9ca22e01fad3749c",
       "version_major": 2,
       "version_minor": 0
      },
      "text/plain": [
       "HBox(children=(FloatProgress(value=0.0, max=147654.0), HTML(value='')))"
      ]
     },
     "metadata": {},
     "output_type": "display_data"
    },
    {
     "name": "stdout",
     "output_type": "stream",
     "text": [
      "\n",
      "Checking Z:\\C1\\free\\vids\\20201112_Joao\\concatenated.avi for matches...\n"
     ]
    },
    {
     "data": {
      "application/vnd.jupyter.widget-view+json": {
       "model_id": "08cedd079ae944a399e1aeb36248e7ee",
       "version_major": 2,
       "version_minor": 0
      },
      "text/plain": [
       "HBox(children=(FloatProgress(value=0.0, max=478940.0), HTML(value='')))"
      ]
     },
     "metadata": {},
     "output_type": "display_data"
    },
    {
     "name": "stdout",
     "output_type": "stream",
     "text": [
      "\n",
      "Checking Z:\\C1\\free\\vids\\20201113_Kyle\\concatenated.avi for matches...\n"
     ]
    },
    {
     "data": {
      "application/vnd.jupyter.widget-view+json": {
       "model_id": "c76963cd79f34e0b81a5b507a19b1b17",
       "version_major": 2,
       "version_minor": 0
      },
      "text/plain": [
       "HBox(children=(FloatProgress(value=0.0, max=207437.0), HTML(value='')))"
      ]
     },
     "metadata": {},
     "output_type": "display_data"
    },
    {
     "name": "stdout",
     "output_type": "stream",
     "text": [
      "\n",
      "Checking Z:\\C1\\free\\vids\\20201113_Lazy\\concatenated.avi for matches...\n"
     ]
    },
    {
     "data": {
      "application/vnd.jupyter.widget-view+json": {
       "model_id": "548da29b086e4839954a3a386faa684e",
       "version_major": 2,
       "version_minor": 0
      },
      "text/plain": [
       "HBox(children=(FloatProgress(value=0.0, max=23226.0), HTML(value='')))"
      ]
     },
     "metadata": {},
     "output_type": "display_data"
    },
    {
     "name": "stdout",
     "output_type": "stream",
     "text": [
      "\n",
      "Checking Z:\\C1\\free\\vids\\20201114_Greg\\concatenated.avi for matches...\n"
     ]
    },
    {
     "data": {
      "application/vnd.jupyter.widget-view+json": {
       "model_id": "b24b6ba6e58b4231a9cd193093715baa",
       "version_major": 2,
       "version_minor": 0
      },
      "text/plain": [
       "HBox(children=(FloatProgress(value=0.0, max=165756.0), HTML(value='')))"
      ]
     },
     "metadata": {},
     "output_type": "display_data"
    },
    {
     "name": "stdout",
     "output_type": "stream",
     "text": [
      "\n",
      "Checking Z:\\C1\\free\\vids\\20201114_Igor\\concatenated.avi for matches...\n"
     ]
    },
    {
     "data": {
      "application/vnd.jupyter.widget-view+json": {
       "model_id": "84d68e71b0984185a3c8ce4dcbaec8c9",
       "version_major": 2,
       "version_minor": 0
      },
      "text/plain": [
       "HBox(children=(FloatProgress(value=0.0, max=112237.0), HTML(value='')))"
      ]
     },
     "metadata": {},
     "output_type": "display_data"
    },
    {
     "name": "stdout",
     "output_type": "stream",
     "text": [
      "\n",
      "Checking Z:\\C1\\free\\vids\\20201114_Joao\\concatenated.avi for matches...\n"
     ]
    },
    {
     "data": {
      "application/vnd.jupyter.widget-view+json": {
       "model_id": "8abdc35792864d42a17d09a4cbc675df",
       "version_major": 2,
       "version_minor": 0
      },
      "text/plain": [
       "HBox(children=(FloatProgress(value=0.0, max=1190442.0), HTML(value='')))"
      ]
     },
     "metadata": {},
     "output_type": "display_data"
    },
    {
     "name": "stdout",
     "output_type": "stream",
     "text": [
      "\n",
      "Checking Z:\\C1\\free\\vids\\20201115_Kyle\\concatenated.avi for matches...\n"
     ]
    },
    {
     "data": {
      "application/vnd.jupyter.widget-view+json": {
       "model_id": "b57ed5d2c9b24f81977dc8f7acaf9d27",
       "version_major": 2,
       "version_minor": 0
      },
      "text/plain": [
       "HBox(children=(FloatProgress(value=0.0, max=124518.0), HTML(value='')))"
      ]
     },
     "metadata": {},
     "output_type": "display_data"
    },
    {
     "name": "stdout",
     "output_type": "stream",
     "text": [
      "\n",
      "Checking Z:\\C1\\free\\vids\\20201115_Lazy\\concatenated.avi for matches...\n"
     ]
    },
    {
     "data": {
      "application/vnd.jupyter.widget-view+json": {
       "model_id": "8c5538d4ceba4f4d9108bc8815830f92",
       "version_major": 2,
       "version_minor": 0
      },
      "text/plain": [
       "HBox(children=(FloatProgress(value=0.0, max=21702.0), HTML(value='')))"
      ]
     },
     "metadata": {},
     "output_type": "display_data"
    },
    {
     "name": "stdout",
     "output_type": "stream",
     "text": [
      "\n",
      "Checking Z:\\C1\\free\\vids\\20201115_Mark\\concatenated.avi for matches...\n"
     ]
    },
    {
     "data": {
      "application/vnd.jupyter.widget-view+json": {
       "model_id": "c1a5366a2d254bde98a1d05f6f69a612",
       "version_major": 2,
       "version_minor": 0
      },
      "text/plain": [
       "HBox(children=(FloatProgress(value=0.0, max=116135.0), HTML(value='')))"
      ]
     },
     "metadata": {},
     "output_type": "display_data"
    },
    {
     "name": "stdout",
     "output_type": "stream",
     "text": [
      "\n",
      "Checking Z:\\C1\\free\\vids\\20201116_Greg\\concatenated.avi for matches...\n"
     ]
    },
    {
     "data": {
      "application/vnd.jupyter.widget-view+json": {
       "model_id": "57c1b28a51f5485a94b2a03dcae0bdf1",
       "version_major": 2,
       "version_minor": 0
      },
      "text/plain": [
       "HBox(children=(FloatProgress(value=0.0, max=168017.0), HTML(value='')))"
      ]
     },
     "metadata": {},
     "output_type": "display_data"
    },
    {
     "name": "stdout",
     "output_type": "stream",
     "text": [
      "\n",
      "Checking Z:\\C1\\free\\vids\\20201116_Igor\\concatenated.avi for matches...\n"
     ]
    },
    {
     "data": {
      "application/vnd.jupyter.widget-view+json": {
       "model_id": "31fedf5115ae4fafb7df9c0471179acf",
       "version_major": 2,
       "version_minor": 0
      },
      "text/plain": [
       "HBox(children=(FloatProgress(value=0.0, max=39309.0), HTML(value='')))"
      ]
     },
     "metadata": {},
     "output_type": "display_data"
    },
    {
     "name": "stdout",
     "output_type": "stream",
     "text": [
      "\n",
      "Checking Z:\\C1\\free\\vids\\20201116_Joao\\concatenated.avi for matches...\n"
     ]
    },
    {
     "data": {
      "application/vnd.jupyter.widget-view+json": {
       "model_id": "c5d1eb697f584a3caa98c876a28f2349",
       "version_major": 2,
       "version_minor": 0
      },
      "text/plain": [
       "HBox(children=(FloatProgress(value=0.0, max=938942.0), HTML(value='')))"
      ]
     },
     "metadata": {},
     "output_type": "display_data"
    },
    {
     "name": "stdout",
     "output_type": "stream",
     "text": [
      "  Found a match! Dataset image 134 is frame 15084 of Z:\\C1\\free\\vids\\20201116_Joao\\concatenated.avi \n",
      "  Found a match! Dataset image 135 is frame 287570 of Z:\\C1\\free\\vids\\20201116_Joao\\concatenated.avi \n",
      "  Found a match! Dataset image 136 is frame 353914 of Z:\\C1\\free\\vids\\20201116_Joao\\concatenated.avi \n",
      "  Found a match! Dataset image 137 is frame 454826 of Z:\\C1\\free\\vids\\20201116_Joao\\concatenated.avi \n",
      "  Found a match! Dataset image 138 is frame 638460 of Z:\\C1\\free\\vids\\20201116_Joao\\concatenated.avi \n",
      "  Found a match! Dataset image 139 is frame 689959 of Z:\\C1\\free\\vids\\20201116_Joao\\concatenated.avi \n",
      "  Found a match! Dataset image 140 is frame 732041 of Z:\\C1\\free\\vids\\20201116_Joao\\concatenated.avi \n",
      "  Found a match! Dataset image 141 is frame 795623 of Z:\\C1\\free\\vids\\20201116_Joao\\concatenated.avi \n",
      "  Found a match! Dataset image 142 is frame 927168 of Z:\\C1\\free\\vids\\20201116_Joao\\concatenated.avi \n",
      "  Found a match! Dataset image 143 is frame 927737 of Z:\\C1\\free\\vids\\20201116_Joao\\concatenated.avi \n",
      "\n",
      "Checking Z:\\C1\\free\\vids\\20201117_Kyle\\concatenated.avi for matches...\n"
     ]
    },
    {
     "data": {
      "application/vnd.jupyter.widget-view+json": {
       "model_id": "163f64f8f69c47649f7282680b925a8d",
       "version_major": 2,
       "version_minor": 0
      },
      "text/plain": [
       "HBox(children=(FloatProgress(value=0.0, max=177005.0), HTML(value='')))"
      ]
     },
     "metadata": {},
     "output_type": "display_data"
    },
    {
     "name": "stdout",
     "output_type": "stream",
     "text": [
      "\n",
      "Checking Z:\\C1\\free\\vids\\20201117_Mark\\concatenated.avi for matches...\n"
     ]
    },
    {
     "data": {
      "application/vnd.jupyter.widget-view+json": {
       "model_id": "d4bd1a922c0d4487bf481e69b138ac42",
       "version_major": 2,
       "version_minor": 0
      },
      "text/plain": [
       "HBox(children=(FloatProgress(value=0.0, max=99235.0), HTML(value='')))"
      ]
     },
     "metadata": {},
     "output_type": "display_data"
    },
    {
     "name": "stdout",
     "output_type": "stream",
     "text": [
      "\n",
      "Checking Z:\\C1\\free\\vids\\20201118_Greg\\concatenated.avi for matches...\n"
     ]
    },
    {
     "data": {
      "application/vnd.jupyter.widget-view+json": {
       "model_id": "5fe6dd3ee58843ce8066ae973612232e",
       "version_major": 2,
       "version_minor": 0
      },
      "text/plain": [
       "HBox(children=(FloatProgress(value=0.0, max=223415.0), HTML(value='')))"
      ]
     },
     "metadata": {},
     "output_type": "display_data"
    },
    {
     "name": "stdout",
     "output_type": "stream",
     "text": [
      "\n",
      "Checking Z:\\C1\\free\\vids\\20201118_Igor\\concatenated.avi for matches...\n"
     ]
    },
    {
     "data": {
      "application/vnd.jupyter.widget-view+json": {
       "model_id": "f1d8707d207b4a07a8998f9f09943376",
       "version_major": 2,
       "version_minor": 0
      },
      "text/plain": [
       "HBox(children=(FloatProgress(value=0.0, max=71313.0), HTML(value='')))"
      ]
     },
     "metadata": {},
     "output_type": "display_data"
    },
    {
     "name": "stdout",
     "output_type": "stream",
     "text": [
      "\n",
      "Checking Z:\\C1\\free\\vids\\20201118_Joao\\concatenated.avi for matches...\n"
     ]
    },
    {
     "data": {
      "application/vnd.jupyter.widget-view+json": {
       "model_id": "65b4eb18c1b4469ab890b966dd34c73d",
       "version_major": 2,
       "version_minor": 0
      },
      "text/plain": [
       "HBox(children=(FloatProgress(value=0.0, max=557598.0), HTML(value='')))"
      ]
     },
     "metadata": {},
     "output_type": "display_data"
    },
    {
     "name": "stdout",
     "output_type": "stream",
     "text": [
      "\n",
      "Checking Z:\\C1\\free\\vids\\20201119_Kyle\\concatenated.avi for matches...\n"
     ]
    },
    {
     "data": {
      "application/vnd.jupyter.widget-view+json": {
       "model_id": "5c9d3f4a5a6c4a35ad8271d72b559f09",
       "version_major": 2,
       "version_minor": 0
      },
      "text/plain": [
       "HBox(children=(FloatProgress(value=0.0, max=148310.0), HTML(value='')))"
      ]
     },
     "metadata": {},
     "output_type": "display_data"
    },
    {
     "name": "stdout",
     "output_type": "stream",
     "text": [
      "\n",
      "Checking Z:\\C1\\free\\vids\\20201119_Lazy\\concatenated.avi for matches...\n"
     ]
    },
    {
     "data": {
      "application/vnd.jupyter.widget-view+json": {
       "model_id": "264dd11fb2d84cb38ca858659eca9b25",
       "version_major": 2,
       "version_minor": 0
      },
      "text/plain": [
       "HBox(children=(FloatProgress(value=0.0, max=127037.0), HTML(value='')))"
      ]
     },
     "metadata": {},
     "output_type": "display_data"
    },
    {
     "name": "stdout",
     "output_type": "stream",
     "text": [
      "\n",
      "Checking Z:\\C1\\free\\vids\\20201119_Mark\\concatenated.avi for matches...\n"
     ]
    },
    {
     "data": {
      "application/vnd.jupyter.widget-view+json": {
       "model_id": "72b96e8abdd04440b2911f04b091ebf4",
       "version_major": 2,
       "version_minor": 0
      },
      "text/plain": [
       "HBox(children=(FloatProgress(value=0.0, max=101198.0), HTML(value='')))"
      ]
     },
     "metadata": {},
     "output_type": "display_data"
    },
    {
     "name": "stdout",
     "output_type": "stream",
     "text": [
      "\n",
      "Checking Z:\\C1\\free\\vids\\20201120_Greg\\concatenated.avi for matches...\n"
     ]
    },
    {
     "data": {
      "application/vnd.jupyter.widget-view+json": {
       "model_id": "223da3748c3b4e079abdb58f2a5abdff",
       "version_major": 2,
       "version_minor": 0
      },
      "text/plain": [
       "HBox(children=(FloatProgress(value=0.0, max=164873.0), HTML(value='')))"
      ]
     },
     "metadata": {},
     "output_type": "display_data"
    },
    {
     "name": "stdout",
     "output_type": "stream",
     "text": [
      "\n",
      "Checking Z:\\C1\\free\\vids\\20201120_Igor\\concatenated.avi for matches...\n"
     ]
    },
    {
     "data": {
      "application/vnd.jupyter.widget-view+json": {
       "model_id": "ae2dc969fd4b44eea9492b1d4def9539",
       "version_major": 2,
       "version_minor": 0
      },
      "text/plain": [
       "HBox(children=(FloatProgress(value=0.0, max=126988.0), HTML(value='')))"
      ]
     },
     "metadata": {},
     "output_type": "display_data"
    },
    {
     "name": "stdout",
     "output_type": "stream",
     "text": [
      "\n",
      "Checking Z:\\C1\\free\\vids\\20201120_Joao\\concatenated.avi for matches...\n"
     ]
    },
    {
     "data": {
      "application/vnd.jupyter.widget-view+json": {
       "model_id": "3a7ad3ccdc5c42f2a019afd37cf46fd2",
       "version_major": 2,
       "version_minor": 0
      },
      "text/plain": [
       "HBox(children=(FloatProgress(value=0.0, max=553392.0), HTML(value='')))"
      ]
     },
     "metadata": {},
     "output_type": "display_data"
    },
    {
     "name": "stdout",
     "output_type": "stream",
     "text": [
      "\n",
      "Checking Z:\\C1\\free\\vids\\20201121_Kyle\\concatenated.avi for matches...\n"
     ]
    },
    {
     "data": {
      "application/vnd.jupyter.widget-view+json": {
       "model_id": "7e7d6a1bef62457db9b4e6d91bd839c5",
       "version_major": 2,
       "version_minor": 0
      },
      "text/plain": [
       "HBox(children=(FloatProgress(value=0.0, max=150669.0), HTML(value='')))"
      ]
     },
     "metadata": {},
     "output_type": "display_data"
    },
    {
     "name": "stdout",
     "output_type": "stream",
     "text": [
      "\n",
      "Checking Z:\\C1\\free\\vids\\20201121_Lazy\\concatenated.avi for matches...\n"
     ]
    },
    {
     "data": {
      "application/vnd.jupyter.widget-view+json": {
       "model_id": "18462793a96947f09699caa21e295ba1",
       "version_major": 2,
       "version_minor": 0
      },
      "text/plain": [
       "HBox(children=(FloatProgress(value=0.0, max=313842.0), HTML(value='')))"
      ]
     },
     "metadata": {},
     "output_type": "display_data"
    },
    {
     "name": "stdout",
     "output_type": "stream",
     "text": [
      "\n",
      "Checking Z:\\C1\\free\\vids\\20201121_Mark\\concatenated.avi for matches...\n"
     ]
    },
    {
     "data": {
      "application/vnd.jupyter.widget-view+json": {
       "model_id": "c6569b023fc143bfa8f33ed50e1d3eab",
       "version_major": 2,
       "version_minor": 0
      },
      "text/plain": [
       "HBox(children=(FloatProgress(value=0.0, max=151911.0), HTML(value='')))"
      ]
     },
     "metadata": {},
     "output_type": "display_data"
    },
    {
     "name": "stdout",
     "output_type": "stream",
     "text": [
      "\n",
      "Checking Z:\\C1\\free\\vids\\20201122_Greg\\concatenated.avi for matches...\n"
     ]
    },
    {
     "data": {
      "application/vnd.jupyter.widget-view+json": {
       "model_id": "d653a08a9054420c8444b6d024cd5ab1",
       "version_major": 2,
       "version_minor": 0
      },
      "text/plain": [
       "HBox(children=(FloatProgress(value=0.0, max=176588.0), HTML(value='')))"
      ]
     },
     "metadata": {},
     "output_type": "display_data"
    },
    {
     "name": "stdout",
     "output_type": "stream",
     "text": [
      "\n",
      "Checking Z:\\C1\\free\\vids\\20201122_Igor\\concatenated.avi for matches...\n"
     ]
    },
    {
     "data": {
      "application/vnd.jupyter.widget-view+json": {
       "model_id": "f9000d728f2f4516a41434bcc247ea8c",
       "version_major": 2,
       "version_minor": 0
      },
      "text/plain": [
       "HBox(children=(FloatProgress(value=0.0, max=41087.0), HTML(value='')))"
      ]
     },
     "metadata": {},
     "output_type": "display_data"
    },
    {
     "name": "stdout",
     "output_type": "stream",
     "text": [
      "  Found a match! Dataset image 144 is frame 766 of Z:\\C1\\free\\vids\\20201122_Igor\\concatenated.avi \n",
      "  Found a match! Dataset image 145 is frame 1491 of Z:\\C1\\free\\vids\\20201122_Igor\\concatenated.avi \n",
      "  Found a match! Dataset image 146 is frame 1934 of Z:\\C1\\free\\vids\\20201122_Igor\\concatenated.avi \n",
      "  Found a match! Dataset image 147 is frame 4355 of Z:\\C1\\free\\vids\\20201122_Igor\\concatenated.avi \n",
      "  Found a match! Dataset image 148 is frame 5300 of Z:\\C1\\free\\vids\\20201122_Igor\\concatenated.avi \n",
      "  Found a match! Dataset image 149 is frame 6948 of Z:\\C1\\free\\vids\\20201122_Igor\\concatenated.avi \n",
      "  Found a match! Dataset image 150 is frame 8569 of Z:\\C1\\free\\vids\\20201122_Igor\\concatenated.avi \n",
      "  Found a match! Dataset image 151 is frame 8744 of Z:\\C1\\free\\vids\\20201122_Igor\\concatenated.avi \n",
      "  Found a match! Dataset image 152 is frame 9822 of Z:\\C1\\free\\vids\\20201122_Igor\\concatenated.avi \n",
      "  Found a match! Dataset image 153 is frame 11698 of Z:\\C1\\free\\vids\\20201122_Igor\\concatenated.avi \n",
      "  Found a match! Dataset image 154 is frame 13492 of Z:\\C1\\free\\vids\\20201122_Igor\\concatenated.avi \n",
      "  Found a match! Dataset image 155 is frame 16578 of Z:\\C1\\free\\vids\\20201122_Igor\\concatenated.avi \n",
      "\n",
      "Checking Z:\\C1\\free\\vids\\20201122_Joao\\concatenated.avi for matches...\n"
     ]
    },
    {
     "data": {
      "application/vnd.jupyter.widget-view+json": {
       "model_id": "041ff9eeeb88450fbbe0dd94b91a5561",
       "version_major": 2,
       "version_minor": 0
      },
      "text/plain": [
       "HBox(children=(FloatProgress(value=0.0, max=522415.0), HTML(value='')))"
      ]
     },
     "metadata": {},
     "output_type": "display_data"
    },
    {
     "name": "stdout",
     "output_type": "stream",
     "text": [
      "  Found a match! Dataset image 156 is frame 563 of Z:\\C1\\free\\vids\\20201122_Joao\\concatenated.avi \n",
      "  Found a match! Dataset image 157 is frame 1418 of Z:\\C1\\free\\vids\\20201122_Joao\\concatenated.avi \n",
      "  Found a match! Dataset image 158 is frame 1877 of Z:\\C1\\free\\vids\\20201122_Joao\\concatenated.avi \n",
      "  Found a match! Dataset image 159 is frame 4397 of Z:\\C1\\free\\vids\\20201122_Joao\\concatenated.avi \n",
      "  Found a match! Dataset image 160 is frame 10953 of Z:\\C1\\free\\vids\\20201122_Joao\\concatenated.avi \n",
      "  Found a match! Dataset image 161 is frame 12413 of Z:\\C1\\free\\vids\\20201122_Joao\\concatenated.avi \n",
      "  Found a match! Dataset image 162 is frame 14798 of Z:\\C1\\free\\vids\\20201122_Joao\\concatenated.avi \n",
      "  Found a match! Dataset image 163 is frame 19410 of Z:\\C1\\free\\vids\\20201122_Joao\\concatenated.avi \n",
      "  Found a match! Dataset image 164 is frame 23064 of Z:\\C1\\free\\vids\\20201122_Joao\\concatenated.avi \n",
      "  Found a match! Dataset image 165 is frame 23662 of Z:\\C1\\free\\vids\\20201122_Joao\\concatenated.avi \n",
      "  Found a match! Dataset image 166 is frame 26437 of Z:\\C1\\free\\vids\\20201122_Joao\\concatenated.avi \n",
      "  Found a match! Dataset image 167 is frame 28699 of Z:\\C1\\free\\vids\\20201122_Joao\\concatenated.avi \n",
      "  Found a match! Dataset image 168 is frame 29410 of Z:\\C1\\free\\vids\\20201122_Joao\\concatenated.avi \n",
      "  Found a match! Dataset image 169 is frame 29813 of Z:\\C1\\free\\vids\\20201122_Joao\\concatenated.avi \n",
      "  Found a match! Dataset image 170 is frame 30121 of Z:\\C1\\free\\vids\\20201122_Joao\\concatenated.avi \n",
      "  Found a match! Dataset image 171 is frame 31435 of Z:\\C1\\free\\vids\\20201122_Joao\\concatenated.avi \n",
      "  Found a match! Dataset image 172 is frame 118027 of Z:\\C1\\free\\vids\\20201122_Joao\\concatenated.avi \n",
      "  Found a match! Dataset image 173 is frame 120702 of Z:\\C1\\free\\vids\\20201122_Joao\\concatenated.avi \n",
      "  Found a match! Dataset image 174 is frame 120980 of Z:\\C1\\free\\vids\\20201122_Joao\\concatenated.avi \n",
      "  Found a match! Dataset image 175 is frame 127964 of Z:\\C1\\free\\vids\\20201122_Joao\\concatenated.avi \n",
      "  Found a match! Dataset image 176 is frame 128192 of Z:\\C1\\free\\vids\\20201122_Joao\\concatenated.avi \n",
      "  Found a match! Dataset image 177 is frame 128257 of Z:\\C1\\free\\vids\\20201122_Joao\\concatenated.avi \n",
      "  Found a match! Dataset image 178 is frame 128416 of Z:\\C1\\free\\vids\\20201122_Joao\\concatenated.avi \n",
      "  Found a match! Dataset image 179 is frame 128459 of Z:\\C1\\free\\vids\\20201122_Joao\\concatenated.avi \n",
      "  Found a match! Dataset image 180 is frame 128699 of Z:\\C1\\free\\vids\\20201122_Joao\\concatenated.avi \n",
      "  Found a match! Dataset image 181 is frame 230831 of Z:\\C1\\free\\vids\\20201122_Joao\\concatenated.avi \n",
      "  Found a match! Dataset image 182 is frame 232775 of Z:\\C1\\free\\vids\\20201122_Joao\\concatenated.avi \n",
      "  Found a match! Dataset image 183 is frame 310329 of Z:\\C1\\free\\vids\\20201122_Joao\\concatenated.avi \n",
      "  Found a match! Dataset image 184 is frame 311377 of Z:\\C1\\free\\vids\\20201122_Joao\\concatenated.avi \n",
      "  Found a match! Dataset image 185 is frame 311663 of Z:\\C1\\free\\vids\\20201122_Joao\\concatenated.avi \n",
      "  Found a match! Dataset image 186 is frame 311905 of Z:\\C1\\free\\vids\\20201122_Joao\\concatenated.avi \n",
      "  Found a match! Dataset image 187 is frame 314615 of Z:\\C1\\free\\vids\\20201122_Joao\\concatenated.avi \n",
      "\n",
      "Checking Z:\\C1\\free\\vids\\20201123_Kyle\\concatenated.avi for matches...\n"
     ]
    },
    {
     "data": {
      "application/vnd.jupyter.widget-view+json": {
       "model_id": "d5495712b6b04b3bbc1204f010945b9d",
       "version_major": 2,
       "version_minor": 0
      },
      "text/plain": [
       "HBox(children=(FloatProgress(value=0.0, max=162776.0), HTML(value='')))"
      ]
     },
     "metadata": {},
     "output_type": "display_data"
    },
    {
     "name": "stdout",
     "output_type": "stream",
     "text": [
      "\n",
      "Checking Z:\\C1\\free\\vids\\20201123_Lazy\\concatenated.avi for matches...\n"
     ]
    },
    {
     "data": {
      "application/vnd.jupyter.widget-view+json": {
       "model_id": "f1efe86cc186407682315053b832a9a0",
       "version_major": 2,
       "version_minor": 0
      },
      "text/plain": [
       "HBox(children=(FloatProgress(value=0.0, max=310226.0), HTML(value='')))"
      ]
     },
     "metadata": {},
     "output_type": "display_data"
    },
    {
     "name": "stdout",
     "output_type": "stream",
     "text": [
      "\n",
      "Checking Z:\\C1\\free\\vids\\20201123_Mark\\concatenated.avi for matches...\n"
     ]
    },
    {
     "data": {
      "application/vnd.jupyter.widget-view+json": {
       "model_id": "e9b3e20fbe2242d7b9d8929e91d76e4c",
       "version_major": 2,
       "version_minor": 0
      },
      "text/plain": [
       "HBox(children=(FloatProgress(value=0.0, max=110494.0), HTML(value='')))"
      ]
     },
     "metadata": {},
     "output_type": "display_data"
    },
    {
     "name": "stdout",
     "output_type": "stream",
     "text": [
      "\n",
      "Checking Z:\\C1\\free\\vids\\20201124_Greg\\concatenated.avi for matches...\n"
     ]
    },
    {
     "data": {
      "application/vnd.jupyter.widget-view+json": {
       "model_id": "33c814dbc25143c9b0811f71d5058139",
       "version_major": 2,
       "version_minor": 0
      },
      "text/plain": [
       "HBox(children=(FloatProgress(value=0.0, max=165019.0), HTML(value='')))"
      ]
     },
     "metadata": {},
     "output_type": "display_data"
    },
    {
     "name": "stdout",
     "output_type": "stream",
     "text": [
      "\n",
      "Checking Z:\\C1\\free\\vids\\20201124_Igor\\concatenated.avi for matches...\n"
     ]
    },
    {
     "data": {
      "application/vnd.jupyter.widget-view+json": {
       "model_id": "0aa4e69ad1934d88b4326d4d2c3430ed",
       "version_major": 2,
       "version_minor": 0
      },
      "text/plain": [
       "HBox(children=(FloatProgress(value=0.0, max=5076.0), HTML(value='')))"
      ]
     },
     "metadata": {},
     "output_type": "display_data"
    },
    {
     "name": "stdout",
     "output_type": "stream",
     "text": [
      "\n",
      "Checking Z:\\C1\\free\\vids\\20201124_Joao\\concatenated.avi for matches...\n"
     ]
    },
    {
     "data": {
      "application/vnd.jupyter.widget-view+json": {
       "model_id": "2a907e7e21c345d486b148810b670d37",
       "version_major": 2,
       "version_minor": 0
      },
      "text/plain": [
       "HBox(children=(FloatProgress(value=0.0, max=352812.0), HTML(value='')))"
      ]
     },
     "metadata": {},
     "output_type": "display_data"
    },
    {
     "name": "stdout",
     "output_type": "stream",
     "text": [
      "\n",
      "Checking Z:\\C1\\free\\vids\\20201125_Kyle\\concatenated.avi for matches...\n"
     ]
    },
    {
     "data": {
      "application/vnd.jupyter.widget-view+json": {
       "model_id": "55846234daf643a693fe583ff144c5ec",
       "version_major": 2,
       "version_minor": 0
      },
      "text/plain": [
       "HBox(children=(FloatProgress(value=0.0, max=96653.0), HTML(value='')))"
      ]
     },
     "metadata": {},
     "output_type": "display_data"
    },
    {
     "name": "stdout",
     "output_type": "stream",
     "text": [
      "\n",
      "Checking Z:\\C1\\free\\vids\\20201125_Lazy\\concatenated.avi for matches...\n"
     ]
    },
    {
     "data": {
      "application/vnd.jupyter.widget-view+json": {
       "model_id": "5f3970eb60704b2ab962bc16875312e9",
       "version_major": 2,
       "version_minor": 0
      },
      "text/plain": [
       "HBox(children=(FloatProgress(value=0.0, max=122012.0), HTML(value='')))"
      ]
     },
     "metadata": {},
     "output_type": "display_data"
    },
    {
     "name": "stdout",
     "output_type": "stream",
     "text": [
      "\n",
      "Checking Z:\\C1\\free\\vids\\20201125_Mark\\concatenated.avi for matches...\n"
     ]
    },
    {
     "data": {
      "application/vnd.jupyter.widget-view+json": {
       "model_id": "64bb285b8c9b4e87a290a34f432965f0",
       "version_major": 2,
       "version_minor": 0
      },
      "text/plain": [
       "HBox(children=(FloatProgress(value=0.0, max=140897.0), HTML(value='')))"
      ]
     },
     "metadata": {},
     "output_type": "display_data"
    },
    {
     "name": "stdout",
     "output_type": "stream",
     "text": [
      "\n",
      "Checking Z:\\C1\\free\\vids\\20201126_Greg\\concatenated.avi for matches...\n"
     ]
    },
    {
     "data": {
      "application/vnd.jupyter.widget-view+json": {
       "model_id": "40f48fd55c964d058163e54bcb24abef",
       "version_major": 2,
       "version_minor": 0
      },
      "text/plain": [
       "HBox(children=(FloatProgress(value=0.0, max=276597.0), HTML(value='')))"
      ]
     },
     "metadata": {},
     "output_type": "display_data"
    },
    {
     "name": "stdout",
     "output_type": "stream",
     "text": [
      "\n",
      "Checking Z:\\C1\\free\\vids\\20201126_Joao\\concatenated.avi for matches...\n"
     ]
    },
    {
     "data": {
      "application/vnd.jupyter.widget-view+json": {
       "model_id": "5ab0b06cce844a1ca2f97f2c94fd59ad",
       "version_major": 2,
       "version_minor": 0
      },
      "text/plain": [
       "HBox(children=(FloatProgress(value=0.0, max=153110.0), HTML(value='')))"
      ]
     },
     "metadata": {},
     "output_type": "display_data"
    },
    {
     "name": "stdout",
     "output_type": "stream",
     "text": [
      "\n",
      "Checking Z:\\C1\\free\\vids\\20201128_Kyle\\concatenated.avi for matches...\n"
     ]
    },
    {
     "data": {
      "application/vnd.jupyter.widget-view+json": {
       "model_id": "8d7ff2e0cad04181b0d0e48b512336c6",
       "version_major": 2,
       "version_minor": 0
      },
      "text/plain": [
       "HBox(children=(FloatProgress(value=0.0, max=196503.0), HTML(value='')))"
      ]
     },
     "metadata": {},
     "output_type": "display_data"
    },
    {
     "name": "stdout",
     "output_type": "stream",
     "text": [
      "\n",
      "Checking Z:\\C1\\free\\vids\\20201128_Lazy\\concatenated.avi for matches...\n"
     ]
    },
    {
     "data": {
      "application/vnd.jupyter.widget-view+json": {
       "model_id": "d91c1abc57854546b34d24f2a822c956",
       "version_major": 2,
       "version_minor": 0
      },
      "text/plain": [
       "HBox(children=(FloatProgress(value=0.0, max=138987.0), HTML(value='')))"
      ]
     },
     "metadata": {},
     "output_type": "display_data"
    },
    {
     "name": "stdout",
     "output_type": "stream",
     "text": [
      "\n",
      "Checking Z:\\C1\\free\\vids\\20201128_Mark\\concatenated.avi for matches...\n"
     ]
    },
    {
     "data": {
      "application/vnd.jupyter.widget-view+json": {
       "model_id": "1574e6dce94844da9e477239f7e09f6e",
       "version_major": 2,
       "version_minor": 0
      },
      "text/plain": [
       "HBox(children=(FloatProgress(value=0.0, max=127541.0), HTML(value='')))"
      ]
     },
     "metadata": {},
     "output_type": "display_data"
    },
    {
     "name": "stdout",
     "output_type": "stream",
     "text": [
      "  Found a match! Dataset image 188 is frame 1625 of Z:\\C1\\free\\vids\\20201128_Mark\\concatenated.avi \n",
      "  Found a match! Dataset image 189 is frame 7228 of Z:\\C1\\free\\vids\\20201128_Mark\\concatenated.avi \n",
      "  Found a match! Dataset image 190 is frame 11116 of Z:\\C1\\free\\vids\\20201128_Mark\\concatenated.avi \n",
      "  Found a match! Dataset image 191 is frame 12145 of Z:\\C1\\free\\vids\\20201128_Mark\\concatenated.avi \n",
      "  Found a match! Dataset image 192 is frame 12408 of Z:\\C1\\free\\vids\\20201128_Mark\\concatenated.avi \n",
      "  Found a match! Dataset image 193 is frame 14579 of Z:\\C1\\free\\vids\\20201128_Mark\\concatenated.avi \n",
      "  Found a match! Dataset image 194 is frame 22043 of Z:\\C1\\free\\vids\\20201128_Mark\\concatenated.avi \n",
      "\n",
      "Checking Z:\\C1\\free\\vids\\20201130_Greg\\concatenated.avi for matches...\n"
     ]
    },
    {
     "data": {
      "application/vnd.jupyter.widget-view+json": {
       "model_id": "874a5fdeaafe4b6c90130207f90afb3a",
       "version_major": 2,
       "version_minor": 0
      },
      "text/plain": [
       "HBox(children=(FloatProgress(value=0.0, max=173493.0), HTML(value='')))"
      ]
     },
     "metadata": {},
     "output_type": "display_data"
    },
    {
     "name": "stdout",
     "output_type": "stream",
     "text": [
      "\n",
      "Checking Z:\\C1\\free\\vids\\20201201_Kyle\\concatenated.avi for matches...\n"
     ]
    },
    {
     "data": {
      "application/vnd.jupyter.widget-view+json": {
       "model_id": "fb83cf0c24b8496bbf3bf6185878e571",
       "version_major": 2,
       "version_minor": 0
      },
      "text/plain": [
       "HBox(children=(FloatProgress(value=0.0, max=62129.0), HTML(value='')))"
      ]
     },
     "metadata": {},
     "output_type": "display_data"
    },
    {
     "name": "stdout",
     "output_type": "stream",
     "text": [
      "  Found a match! Dataset image 195 is frame 42795 of Z:\\C1\\free\\vids\\20201201_Kyle\\concatenated.avi \n",
      "  Found a match! Dataset image 196 is frame 43725 of Z:\\C1\\free\\vids\\20201201_Kyle\\concatenated.avi \n",
      "  Found a match! Dataset image 197 is frame 47232 of Z:\\C1\\free\\vids\\20201201_Kyle\\concatenated.avi \n",
      "  Found a match! Dataset image 198 is frame 56964 of Z:\\C1\\free\\vids\\20201201_Kyle\\concatenated.avi \n",
      "\n",
      "Checking Z:\\C1\\free\\vids\\20201201_Lazy\\concatenated.avi for matches...\n"
     ]
    },
    {
     "data": {
      "application/vnd.jupyter.widget-view+json": {
       "model_id": "3e4c59f1867440d2a2c2cd54edfc8342",
       "version_major": 2,
       "version_minor": 0
      },
      "text/plain": [
       "HBox(children=(FloatProgress(value=0.0, max=71921.0), HTML(value='')))"
      ]
     },
     "metadata": {},
     "output_type": "display_data"
    },
    {
     "name": "stdout",
     "output_type": "stream",
     "text": [
      "\n",
      "Checking Z:\\C1\\free\\vids\\20201201_Mark\\concatenated.avi for matches...\n"
     ]
    },
    {
     "data": {
      "application/vnd.jupyter.widget-view+json": {
       "model_id": "014c8119852642fabe351e4a20fb9c75",
       "version_major": 2,
       "version_minor": 0
      },
      "text/plain": [
       "HBox(children=(FloatProgress(value=0.0, max=76146.0), HTML(value='')))"
      ]
     },
     "metadata": {},
     "output_type": "display_data"
    },
    {
     "name": "stdout",
     "output_type": "stream",
     "text": [
      "\n",
      "Checking Z:\\C1\\free\\vids\\20201202_Greg\\concatenated.avi for matches...\n"
     ]
    },
    {
     "data": {
      "application/vnd.jupyter.widget-view+json": {
       "model_id": "166d37f78eec4b5eb621b9d76407eec1",
       "version_major": 2,
       "version_minor": 0
      },
      "text/plain": [
       "HBox(children=(FloatProgress(value=0.0, max=124949.0), HTML(value='')))"
      ]
     },
     "metadata": {},
     "output_type": "display_data"
    },
    {
     "name": "stdout",
     "output_type": "stream",
     "text": [
      "\n",
      "Checking Z:\\C1\\free\\vids\\20201202_Neil\\concatenated.avi for matches...\n"
     ]
    },
    {
     "data": {
      "application/vnd.jupyter.widget-view+json": {
       "model_id": "6abdfa0b00064b76a0553d1498e0264a",
       "version_major": 2,
       "version_minor": 0
      },
      "text/plain": [
       "HBox(children=(FloatProgress(value=0.0, max=189907.0), HTML(value='')))"
      ]
     },
     "metadata": {},
     "output_type": "display_data"
    },
    {
     "name": "stdout",
     "output_type": "stream",
     "text": [
      "  Found a match! Dataset image 199 is frame 10923 of Z:\\C1\\free\\vids\\20201202_Neil\\concatenated.avi \n",
      "  Found a match! Dataset image 200 is frame 12356 of Z:\\C1\\free\\vids\\20201202_Neil\\concatenated.avi \n",
      "  Found a match! Dataset image 201 is frame 48726 of Z:\\C1\\free\\vids\\20201202_Neil\\concatenated.avi \n",
      "  Found a match! Dataset image 202 is frame 76470 of Z:\\C1\\free\\vids\\20201202_Neil\\concatenated.avi \n",
      "  Found a match! Dataset image 203 is frame 162207 of Z:\\C1\\free\\vids\\20201202_Neil\\concatenated.avi \n",
      "\n",
      "Checking Z:\\C1\\free\\vids\\20201202_Omar\\concatenated.avi for matches...\n"
     ]
    },
    {
     "data": {
      "application/vnd.jupyter.widget-view+json": {
       "model_id": "849fb143f2284fe19d0a81d6f29ca5cb",
       "version_major": 2,
       "version_minor": 0
      },
      "text/plain": [
       "HBox(children=(FloatProgress(value=0.0, max=79334.0), HTML(value='')))"
      ]
     },
     "metadata": {},
     "output_type": "display_data"
    },
    {
     "name": "stdout",
     "output_type": "stream",
     "text": [
      "  Found a match! Dataset image 204 is frame 5088 of Z:\\C1\\free\\vids\\20201202_Omar\\concatenated.avi \n",
      "  Found a match! Dataset image 205 is frame 15840 of Z:\\C1\\free\\vids\\20201202_Omar\\concatenated.avi \n",
      "  Found a match! Dataset image 206 is frame 24372 of Z:\\C1\\free\\vids\\20201202_Omar\\concatenated.avi \n",
      "  Found a match! Dataset image 207 is frame 41676 of Z:\\C1\\free\\vids\\20201202_Omar\\concatenated.avi \n",
      "\n",
      "Checking Z:\\C1\\free\\vids\\20201203_Kyle\\concatenated.avi for matches...\n"
     ]
    },
    {
     "data": {
      "application/vnd.jupyter.widget-view+json": {
       "model_id": "2126a424a5ad4c23b8325ed5f8ecffee",
       "version_major": 2,
       "version_minor": 0
      },
      "text/plain": [
       "HBox(children=(FloatProgress(value=0.0, max=34295.0), HTML(value='')))"
      ]
     },
     "metadata": {},
     "output_type": "display_data"
    },
    {
     "name": "stdout",
     "output_type": "stream",
     "text": [
      "\n",
      "Checking Z:\\C1\\free\\vids\\20201203_Lazy\\concatenated.avi for matches...\n"
     ]
    },
    {
     "data": {
      "application/vnd.jupyter.widget-view+json": {
       "model_id": "6d9288f849f84c51ad16e485719398d2",
       "version_major": 2,
       "version_minor": 0
      },
      "text/plain": [
       "HBox(children=(FloatProgress(value=0.0, max=101539.0), HTML(value='')))"
      ]
     },
     "metadata": {},
     "output_type": "display_data"
    },
    {
     "name": "stdout",
     "output_type": "stream",
     "text": [
      "\n",
      "Checking Z:\\C1\\free\\vids\\20201203_Mark\\concatenated.avi for matches...\n"
     ]
    },
    {
     "data": {
      "application/vnd.jupyter.widget-view+json": {
       "model_id": "db24abf30f2b43339a6635f961815de6",
       "version_major": 2,
       "version_minor": 0
      },
      "text/plain": [
       "HBox(children=(FloatProgress(value=0.0, max=56699.0), HTML(value='')))"
      ]
     },
     "metadata": {},
     "output_type": "display_data"
    },
    {
     "name": "stdout",
     "output_type": "stream",
     "text": [
      "\n",
      "Checking Z:\\C1\\free\\vids\\20201204_Greg\\concatenated.avi for matches...\n"
     ]
    },
    {
     "data": {
      "application/vnd.jupyter.widget-view+json": {
       "model_id": "e95fe19796d64dffafd6be3fdf90e4e5",
       "version_major": 2,
       "version_minor": 0
      },
      "text/plain": [
       "HBox(children=(FloatProgress(value=0.0, max=186947.0), HTML(value='')))"
      ]
     },
     "metadata": {},
     "output_type": "display_data"
    },
    {
     "name": "stdout",
     "output_type": "stream",
     "text": [
      "  Found a match! Dataset image 208 is frame 18290 of Z:\\C1\\free\\vids\\20201204_Greg\\concatenated.avi \n",
      "  Found a match! Dataset image 209 is frame 92008 of Z:\\C1\\free\\vids\\20201204_Greg\\concatenated.avi \n",
      "  Found a match! Dataset image 210 is frame 109420 of Z:\\C1\\free\\vids\\20201204_Greg\\concatenated.avi \n",
      "  Found a match! Dataset image 211 is frame 117460 of Z:\\C1\\free\\vids\\20201204_Greg\\concatenated.avi \n",
      "  Found a match! Dataset image 212 is frame 131872 of Z:\\C1\\free\\vids\\20201204_Greg\\concatenated.avi \n",
      "  Found a match! Dataset image 213 is frame 143464 of Z:\\C1\\free\\vids\\20201204_Greg\\concatenated.avi \n",
      "  Found a match! Dataset image 214 is frame 147038 of Z:\\C1\\free\\vids\\20201204_Greg\\concatenated.avi \n",
      "  Found a match! Dataset image 215 is frame 163275 of Z:\\C1\\free\\vids\\20201204_Greg\\concatenated.avi \n",
      "\n",
      "Checking Z:\\C1\\free\\vids\\20201204_Omar\\concatenated.avi for matches...\n"
     ]
    },
    {
     "data": {
      "application/vnd.jupyter.widget-view+json": {
       "model_id": "4d1e235136e646718705e5a130980bea",
       "version_major": 2,
       "version_minor": 0
      },
      "text/plain": [
       "HBox(children=(FloatProgress(value=0.0, max=179022.0), HTML(value='')))"
      ]
     },
     "metadata": {},
     "output_type": "display_data"
    },
    {
     "name": "stdout",
     "output_type": "stream",
     "text": [
      "\n",
      "Checking Z:\\C1\\free\\vids\\20201205_Kyle\\concatenated.avi for matches...\n"
     ]
    },
    {
     "data": {
      "application/vnd.jupyter.widget-view+json": {
       "model_id": "17dc87e4fd174a6f880eced96c263f5a",
       "version_major": 2,
       "version_minor": 0
      },
      "text/plain": [
       "HBox(children=(FloatProgress(value=0.0, max=67687.0), HTML(value='')))"
      ]
     },
     "metadata": {},
     "output_type": "display_data"
    },
    {
     "name": "stdout",
     "output_type": "stream",
     "text": [
      "\n",
      "Checking Z:\\C1\\free\\vids\\20201205_Lazy\\concatenated.avi for matches...\n"
     ]
    },
    {
     "data": {
      "application/vnd.jupyter.widget-view+json": {
       "model_id": "f1187335555f4a809f6a03ebd7924062",
       "version_major": 2,
       "version_minor": 0
      },
      "text/plain": [
       "HBox(children=(FloatProgress(value=0.0, max=65968.0), HTML(value='')))"
      ]
     },
     "metadata": {},
     "output_type": "display_data"
    },
    {
     "name": "stdout",
     "output_type": "stream",
     "text": [
      "\n",
      "Checking Z:\\C1\\free\\vids\\20201205_Mark\\concatenated.avi for matches...\n"
     ]
    },
    {
     "data": {
      "application/vnd.jupyter.widget-view+json": {
       "model_id": "a552232862864b608b75b4d87096add0",
       "version_major": 2,
       "version_minor": 0
      },
      "text/plain": [
       "HBox(children=(FloatProgress(value=0.0, max=54128.0), HTML(value='')))"
      ]
     },
     "metadata": {},
     "output_type": "display_data"
    },
    {
     "name": "stdout",
     "output_type": "stream",
     "text": [
      "\n",
      "Checking Z:\\C1\\free\\vids\\20201207_Kyle\\concatenated.avi for matches...\n"
     ]
    },
    {
     "data": {
      "application/vnd.jupyter.widget-view+json": {
       "model_id": "ed87bc5cd75040fbbfef9cc48cc7b60a",
       "version_major": 2,
       "version_minor": 0
      },
      "text/plain": [
       "HBox(children=(FloatProgress(value=0.0, max=49194.0), HTML(value='')))"
      ]
     },
     "metadata": {},
     "output_type": "display_data"
    },
    {
     "name": "stdout",
     "output_type": "stream",
     "text": [
      "\n",
      "Checking Z:\\C1\\free\\vids\\20201207_Lazy\\concatenated.avi for matches...\n"
     ]
    },
    {
     "data": {
      "application/vnd.jupyter.widget-view+json": {
       "model_id": "a07b1e755c604900a901e22e2c43b678",
       "version_major": 2,
       "version_minor": 0
      },
      "text/plain": [
       "HBox(children=(FloatProgress(value=0.0, max=13751.0), HTML(value='')))"
      ]
     },
     "metadata": {},
     "output_type": "display_data"
    },
    {
     "name": "stdout",
     "output_type": "stream",
     "text": [
      "\n",
      "Checking Z:\\C1\\free\\vids\\20201207_Mark\\concatenated.avi for matches...\n"
     ]
    },
    {
     "data": {
      "application/vnd.jupyter.widget-view+json": {
       "model_id": "c9762388984b4ba7889711d58f78c5c1",
       "version_major": 2,
       "version_minor": 0
      },
      "text/plain": [
       "HBox(children=(FloatProgress(value=0.0, max=86191.0), HTML(value='')))"
      ]
     },
     "metadata": {},
     "output_type": "display_data"
    },
    {
     "name": "stdout",
     "output_type": "stream",
     "text": [
      "\n",
      "Checking Z:\\C1\\free\\vids\\20201208_Greg\\concatenated.avi for matches...\n"
     ]
    },
    {
     "data": {
      "application/vnd.jupyter.widget-view+json": {
       "model_id": "be68aa6632bb4decb18344c153f89726",
       "version_major": 2,
       "version_minor": 0
      },
      "text/plain": [
       "HBox(children=(FloatProgress(value=0.0, max=83491.0), HTML(value='')))"
      ]
     },
     "metadata": {},
     "output_type": "display_data"
    },
    {
     "name": "stdout",
     "output_type": "stream",
     "text": [
      "\n",
      "Checking Z:\\C1\\free\\vids\\20201208_Neil\\concatenated.avi for matches...\n"
     ]
    },
    {
     "data": {
      "application/vnd.jupyter.widget-view+json": {
       "model_id": "8999edbf0e56422ea2551082ca30266d",
       "version_major": 2,
       "version_minor": 0
      },
      "text/plain": [
       "HBox(children=(FloatProgress(value=0.0, max=165000.0), HTML(value='')))"
      ]
     },
     "metadata": {},
     "output_type": "display_data"
    },
    {
     "name": "stdout",
     "output_type": "stream",
     "text": [
      "\n",
      "Checking Z:\\C1\\free\\vids\\20201208_Omar\\concatenated.avi for matches...\n"
     ]
    },
    {
     "data": {
      "application/vnd.jupyter.widget-view+json": {
       "model_id": "d106339aaf86457ba638ab5ebf68157d",
       "version_major": 2,
       "version_minor": 0
      },
      "text/plain": [
       "HBox(children=(FloatProgress(value=0.0, max=166076.0), HTML(value='')))"
      ]
     },
     "metadata": {},
     "output_type": "display_data"
    },
    {
     "name": "stdout",
     "output_type": "stream",
     "text": [
      "\n",
      "Checking Z:\\C1\\free\\vids\\20201209_Kyle\\concatenated.avi for matches...\n"
     ]
    },
    {
     "data": {
      "application/vnd.jupyter.widget-view+json": {
       "model_id": "438dc4d4e78344e9931088d07d9ad8b7",
       "version_major": 2,
       "version_minor": 0
      },
      "text/plain": [
       "HBox(children=(FloatProgress(value=0.0, max=209873.0), HTML(value='')))"
      ]
     },
     "metadata": {},
     "output_type": "display_data"
    },
    {
     "name": "stdout",
     "output_type": "stream",
     "text": [
      "\n",
      "Checking Z:\\C1\\free\\vids\\20201209_Lazy\\concatenated.avi for matches...\n"
     ]
    },
    {
     "data": {
      "application/vnd.jupyter.widget-view+json": {
       "model_id": "027333aa35bd46f7a6b2574a2a8670e8",
       "version_major": 2,
       "version_minor": 0
      },
      "text/plain": [
       "HBox(children=(FloatProgress(value=0.0, max=238466.0), HTML(value='')))"
      ]
     },
     "metadata": {},
     "output_type": "display_data"
    },
    {
     "name": "stdout",
     "output_type": "stream",
     "text": [
      "\n",
      "Checking Z:\\C1\\free\\vids\\20201209_Mark\\concatenated.avi for matches...\n"
     ]
    },
    {
     "data": {
      "application/vnd.jupyter.widget-view+json": {
       "model_id": "5e450bb33935446abb3ba5b086dfef33",
       "version_major": 2,
       "version_minor": 0
      },
      "text/plain": [
       "HBox(children=(FloatProgress(value=0.0, max=112854.0), HTML(value='')))"
      ]
     },
     "metadata": {},
     "output_type": "display_data"
    },
    {
     "name": "stdout",
     "output_type": "stream",
     "text": [
      "\n",
      "Checking Z:\\C1\\free\\vids\\20201210_Greg\\concatenated.avi for matches...\n"
     ]
    },
    {
     "data": {
      "application/vnd.jupyter.widget-view+json": {
       "model_id": "78120570b23b4504b73e5397f4429721",
       "version_major": 2,
       "version_minor": 0
      },
      "text/plain": [
       "HBox(children=(FloatProgress(value=0.0, max=98865.0), HTML(value='')))"
      ]
     },
     "metadata": {},
     "output_type": "display_data"
    },
    {
     "name": "stdout",
     "output_type": "stream",
     "text": [
      "  Found a match! Dataset image 216 is frame 1224 of Z:\\C1\\free\\vids\\20201210_Greg\\concatenated.avi \n",
      "\n",
      "Checking Z:\\C1\\free\\vids\\20201210_Neil\\concatenated.avi for matches...\n"
     ]
    },
    {
     "data": {
      "application/vnd.jupyter.widget-view+json": {
       "model_id": "e2725dc047124626a296dd808f657bb9",
       "version_major": 2,
       "version_minor": 0
      },
      "text/plain": [
       "HBox(children=(FloatProgress(value=0.0, max=149124.0), HTML(value='')))"
      ]
     },
     "metadata": {},
     "output_type": "display_data"
    },
    {
     "name": "stdout",
     "output_type": "stream",
     "text": [
      "  Found a match! Dataset image 217 is frame 12756 of Z:\\C1\\free\\vids\\20201210_Neil\\concatenated.avi \n",
      "  Found a match! Dataset image 218 is frame 25207 of Z:\\C1\\free\\vids\\20201210_Neil\\concatenated.avi \n",
      "  Found a match! Dataset image 219 is frame 27834 of Z:\\C1\\free\\vids\\20201210_Neil\\concatenated.avi \n",
      "  Found a match! Dataset image 220 is frame 81059 of Z:\\C1\\free\\vids\\20201210_Neil\\concatenated.avi \n",
      "\n",
      "Checking Z:\\C1\\free\\vids\\20201210_Omar\\concatenated.avi for matches...\n"
     ]
    },
    {
     "data": {
      "application/vnd.jupyter.widget-view+json": {
       "model_id": "05acb9c0b5114749a51de02420e16e58",
       "version_major": 2,
       "version_minor": 0
      },
      "text/plain": [
       "HBox(children=(FloatProgress(value=0.0, max=111026.0), HTML(value='')))"
      ]
     },
     "metadata": {},
     "output_type": "display_data"
    },
    {
     "name": "stdout",
     "output_type": "stream",
     "text": [
      "  Found a match! Dataset image 221 is frame 62276 of Z:\\C1\\free\\vids\\20201210_Omar\\concatenated.avi \n",
      "  Found a match! Dataset image 222 is frame 70915 of Z:\\C1\\free\\vids\\20201210_Omar\\concatenated.avi \n",
      "  Found a match! Dataset image 223 is frame 78640 of Z:\\C1\\free\\vids\\20201210_Omar\\concatenated.avi \n",
      "  Found a match! Dataset image 224 is frame 82882 of Z:\\C1\\free\\vids\\20201210_Omar\\concatenated.avi \n",
      "  Found a match! Dataset image 225 is frame 105588 of Z:\\C1\\free\\vids\\20201210_Omar\\concatenated.avi \n",
      "\n",
      "Checking Z:\\C1\\free\\vids\\20201211_Kyle\\concatenated.avi for matches...\n"
     ]
    },
    {
     "data": {
      "application/vnd.jupyter.widget-view+json": {
       "model_id": "6e9fba460bf348a7a86abeb220fe23ac",
       "version_major": 2,
       "version_minor": 0
      },
      "text/plain": [
       "HBox(children=(FloatProgress(value=0.0, max=81193.0), HTML(value='')))"
      ]
     },
     "metadata": {},
     "output_type": "display_data"
    },
    {
     "name": "stdout",
     "output_type": "stream",
     "text": [
      "  Found a match! Dataset image 226 is frame 1492 of Z:\\C1\\free\\vids\\20201211_Kyle\\concatenated.avi \n",
      "  Found a match! Dataset image 227 is frame 5681 of Z:\\C1\\free\\vids\\20201211_Kyle\\concatenated.avi \n",
      "  Found a match! Dataset image 228 is frame 6272 of Z:\\C1\\free\\vids\\20201211_Kyle\\concatenated.avi \n",
      "  Found a match! Dataset image 229 is frame 9046 of Z:\\C1\\free\\vids\\20201211_Kyle\\concatenated.avi \n",
      "  Found a match! Dataset image 230 is frame 9350 of Z:\\C1\\free\\vids\\20201211_Kyle\\concatenated.avi \n",
      "  Found a match! Dataset image 231 is frame 14952 of Z:\\C1\\free\\vids\\20201211_Kyle\\concatenated.avi \n",
      "  Found a match! Dataset image 232 is frame 16303 of Z:\\C1\\free\\vids\\20201211_Kyle\\concatenated.avi \n",
      "\n",
      "Checking Z:\\C1\\free\\vids\\20201211_Lazy\\concatenated.avi for matches...\n"
     ]
    },
    {
     "data": {
      "application/vnd.jupyter.widget-view+json": {
       "model_id": "7e0bc7d86a2244b282e8f8e4070011e0",
       "version_major": 2,
       "version_minor": 0
      },
      "text/plain": [
       "HBox(children=(FloatProgress(value=0.0, max=15694.0), HTML(value='')))"
      ]
     },
     "metadata": {},
     "output_type": "display_data"
    },
    {
     "name": "stdout",
     "output_type": "stream",
     "text": [
      "  Found a match! Dataset image 233 is frame 1593 of Z:\\C1\\free\\vids\\20201211_Lazy\\concatenated.avi \n",
      "  Found a match! Dataset image 234 is frame 2048 of Z:\\C1\\free\\vids\\20201211_Lazy\\concatenated.avi \n",
      "  Found a match! Dataset image 235 is frame 3008 of Z:\\C1\\free\\vids\\20201211_Lazy\\concatenated.avi \n",
      "  Found a match! Dataset image 236 is frame 7682 of Z:\\C1\\free\\vids\\20201211_Lazy\\concatenated.avi \n",
      "  Found a match! Dataset image 237 is frame 9393 of Z:\\C1\\free\\vids\\20201211_Lazy\\concatenated.avi \n",
      "  Found a match! Dataset image 238 is frame 13581 of Z:\\C1\\free\\vids\\20201211_Lazy\\concatenated.avi \n",
      "\n",
      "Checking Z:\\C1\\free\\vids\\20201211_Mark\\concatenated.avi for matches...\n"
     ]
    },
    {
     "data": {
      "application/vnd.jupyter.widget-view+json": {
       "model_id": "e98617213f2f48aaaceff6bf7b2a2d15",
       "version_major": 2,
       "version_minor": 0
      },
      "text/plain": [
       "HBox(children=(FloatProgress(value=0.0, max=24624.0), HTML(value='')))"
      ]
     },
     "metadata": {},
     "output_type": "display_data"
    },
    {
     "name": "stdout",
     "output_type": "stream",
     "text": [
      "\n",
      "Checking Z:\\C1\\free\\vids\\20201212_Greg\\concatenated.avi for matches...\n"
     ]
    },
    {
     "data": {
      "application/vnd.jupyter.widget-view+json": {
       "model_id": "ed21aba891a949c5a75b12bd1d128c37",
       "version_major": 2,
       "version_minor": 0
      },
      "text/plain": [
       "HBox(children=(FloatProgress(value=0.0, max=68340.0), HTML(value='')))"
      ]
     },
     "metadata": {},
     "output_type": "display_data"
    },
    {
     "name": "stdout",
     "output_type": "stream",
     "text": [
      "\n",
      "Checking Z:\\C1\\free\\vids\\20201212_Neil\\concatenated.avi for matches...\n"
     ]
    },
    {
     "data": {
      "application/vnd.jupyter.widget-view+json": {
       "model_id": "6f27999a661e44cf8a62c078940bc983",
       "version_major": 2,
       "version_minor": 0
      },
      "text/plain": [
       "HBox(children=(FloatProgress(value=0.0, max=118400.0), HTML(value='')))"
      ]
     },
     "metadata": {},
     "output_type": "display_data"
    },
    {
     "name": "stdout",
     "output_type": "stream",
     "text": [
      "  Found a match! Dataset image 239 is frame 28440 of Z:\\C1\\free\\vids\\20201212_Neil\\concatenated.avi \n",
      "  Found a match! Dataset image 240 is frame 44906 of Z:\\C1\\free\\vids\\20201212_Neil\\concatenated.avi \n",
      "  Found a match! Dataset image 241 is frame 48636 of Z:\\C1\\free\\vids\\20201212_Neil\\concatenated.avi \n",
      "\n",
      "Checking Z:\\C1\\free\\vids\\20201212_Omar\\concatenated.avi for matches...\n"
     ]
    },
    {
     "data": {
      "application/vnd.jupyter.widget-view+json": {
       "model_id": "1d8cc9c360e3438186cd9c513c779bf5",
       "version_major": 2,
       "version_minor": 0
      },
      "text/plain": [
       "HBox(children=(FloatProgress(value=0.0, max=144025.0), HTML(value='')))"
      ]
     },
     "metadata": {},
     "output_type": "display_data"
    },
    {
     "name": "stdout",
     "output_type": "stream",
     "text": [
      "\n",
      "Checking Z:\\C1\\free\\vids\\20201213_Kyle\\concatenated.avi for matches...\n"
     ]
    },
    {
     "data": {
      "application/vnd.jupyter.widget-view+json": {
       "model_id": "b389e06bb29a42e59247bc609f2a4b83",
       "version_major": 2,
       "version_minor": 0
      },
      "text/plain": [
       "HBox(children=(FloatProgress(value=0.0, max=49109.0), HTML(value='')))"
      ]
     },
     "metadata": {},
     "output_type": "display_data"
    },
    {
     "name": "stdout",
     "output_type": "stream",
     "text": [
      "  Found a match! Dataset image 242 is frame 1897 of Z:\\C1\\free\\vids\\20201213_Kyle\\concatenated.avi \n",
      "  Found a match! Dataset image 243 is frame 2787 of Z:\\C1\\free\\vids\\20201213_Kyle\\concatenated.avi \n",
      "  Found a match! Dataset image 244 is frame 4759 of Z:\\C1\\free\\vids\\20201213_Kyle\\concatenated.avi \n",
      "  Found a match! Dataset image 245 is frame 4815 of Z:\\C1\\free\\vids\\20201213_Kyle\\concatenated.avi \n",
      "  Found a match! Dataset image 246 is frame 5095 of Z:\\C1\\free\\vids\\20201213_Kyle\\concatenated.avi \n",
      "  Found a match! Dataset image 247 is frame 6181 of Z:\\C1\\free\\vids\\20201213_Kyle\\concatenated.avi \n",
      "  Found a match! Dataset image 248 is frame 13368 of Z:\\C1\\free\\vids\\20201213_Kyle\\concatenated.avi \n",
      "  Found a match! Dataset image 249 is frame 16829 of Z:\\C1\\free\\vids\\20201213_Kyle\\concatenated.avi \n",
      "  Found a match! Dataset image 250 is frame 17017 of Z:\\C1\\free\\vids\\20201213_Kyle\\concatenated.avi \n",
      "  Found a match! Dataset image 251 is frame 23016 of Z:\\C1\\free\\vids\\20201213_Kyle\\concatenated.avi \n",
      "  Found a match! Dataset image 252 is frame 26438 of Z:\\C1\\free\\vids\\20201213_Kyle\\concatenated.avi \n",
      "  Found a match! Dataset image 253 is frame 26703 of Z:\\C1\\free\\vids\\20201213_Kyle\\concatenated.avi \n",
      "\n",
      "Checking Z:\\C1\\free\\vids\\20201213_Lazy\\concatenated.avi for matches...\n"
     ]
    },
    {
     "data": {
      "application/vnd.jupyter.widget-view+json": {
       "model_id": "a692081b427f4ede93659f38c9d20203",
       "version_major": 2,
       "version_minor": 0
      },
      "text/plain": [
       "HBox(children=(FloatProgress(value=0.0, max=26932.0), HTML(value='')))"
      ]
     },
     "metadata": {},
     "output_type": "display_data"
    },
    {
     "name": "stdout",
     "output_type": "stream",
     "text": [
      "  Found a match! Dataset image 254 is frame 3130 of Z:\\C1\\free\\vids\\20201213_Lazy\\concatenated.avi \n",
      "  Found a match! Dataset image 255 is frame 4524 of Z:\\C1\\free\\vids\\20201213_Lazy\\concatenated.avi \n",
      "  Found a match! Dataset image 256 is frame 6918 of Z:\\C1\\free\\vids\\20201213_Lazy\\concatenated.avi \n",
      "  Found a match! Dataset image 257 is frame 15167 of Z:\\C1\\free\\vids\\20201213_Lazy\\concatenated.avi \n",
      "  Found a match! Dataset image 258 is frame 23416 of Z:\\C1\\free\\vids\\20201213_Lazy\\concatenated.avi \n",
      "\n",
      "Checking Z:\\C1\\free\\vids\\20201213_Mark\\concatenated.avi for matches...\n"
     ]
    },
    {
     "data": {
      "application/vnd.jupyter.widget-view+json": {
       "model_id": "53d59499513048d49fb1c93b4c37f53e",
       "version_major": 2,
       "version_minor": 0
      },
      "text/plain": [
       "HBox(children=(FloatProgress(value=0.0, max=61825.0), HTML(value='')))"
      ]
     },
     "metadata": {},
     "output_type": "display_data"
    },
    {
     "name": "stdout",
     "output_type": "stream",
     "text": [
      "\n",
      "Checking Z:\\C1\\free\\vids\\20201214_Greg\\concatenated.avi for matches...\n"
     ]
    },
    {
     "data": {
      "application/vnd.jupyter.widget-view+json": {
       "model_id": "6f9eb2eca44d4e04a2b90ef84c245d79",
       "version_major": 2,
       "version_minor": 0
      },
      "text/plain": [
       "HBox(children=(FloatProgress(value=0.0, max=75701.0), HTML(value='')))"
      ]
     },
     "metadata": {},
     "output_type": "display_data"
    },
    {
     "name": "stdout",
     "output_type": "stream",
     "text": [
      "\n",
      "Checking Z:\\C1\\free\\vids\\20201214_Neil\\concatenated.avi for matches...\n"
     ]
    },
    {
     "data": {
      "application/vnd.jupyter.widget-view+json": {
       "model_id": "93065c1544724bc3ae2580a031ad3b2c",
       "version_major": 2,
       "version_minor": 0
      },
      "text/plain": [
       "HBox(children=(FloatProgress(value=0.0, max=86866.0), HTML(value='')))"
      ]
     },
     "metadata": {},
     "output_type": "display_data"
    },
    {
     "name": "stdout",
     "output_type": "stream",
     "text": [
      "\n",
      "Checking Z:\\C1\\free\\vids\\20201214_Omar\\concatenated.avi for matches...\n"
     ]
    },
    {
     "data": {
      "application/vnd.jupyter.widget-view+json": {
       "model_id": "361339446a504fce81bf007aeabeee00",
       "version_major": 2,
       "version_minor": 0
      },
      "text/plain": [
       "HBox(children=(FloatProgress(value=0.0, max=160951.0), HTML(value='')))"
      ]
     },
     "metadata": {},
     "output_type": "display_data"
    },
    {
     "name": "stdout",
     "output_type": "stream",
     "text": [
      "\n",
      "Checking Z:\\C1\\free\\vids\\20201215_Kyle\\concatenated.avi for matches...\n"
     ]
    },
    {
     "data": {
      "application/vnd.jupyter.widget-view+json": {
       "model_id": "b2962ad9f7f1423e8dd3125625ccce9d",
       "version_major": 2,
       "version_minor": 0
      },
      "text/plain": [
       "HBox(children=(FloatProgress(value=0.0, max=19609.0), HTML(value='')))"
      ]
     },
     "metadata": {},
     "output_type": "display_data"
    },
    {
     "name": "stdout",
     "output_type": "stream",
     "text": [
      "\n",
      "Checking Z:\\C1\\free\\vids\\20201215_Lazy\\concatenated.avi for matches...\n"
     ]
    },
    {
     "data": {
      "application/vnd.jupyter.widget-view+json": {
       "model_id": "c5597a6f777a4402acf5939a7c32d0d7",
       "version_major": 2,
       "version_minor": 0
      },
      "text/plain": [
       "HBox(children=(FloatProgress(value=0.0, max=45245.0), HTML(value='')))"
      ]
     },
     "metadata": {},
     "output_type": "display_data"
    },
    {
     "name": "stdout",
     "output_type": "stream",
     "text": [
      "\n",
      "Checking Z:\\C1\\free\\vids\\20201215_Mark\\concatenated.avi for matches...\n"
     ]
    },
    {
     "data": {
      "application/vnd.jupyter.widget-view+json": {
       "model_id": "45788e3740e94cd590ec4f15771336f0",
       "version_major": 2,
       "version_minor": 0
      },
      "text/plain": [
       "HBox(children=(FloatProgress(value=0.0, max=144761.0), HTML(value='')))"
      ]
     },
     "metadata": {},
     "output_type": "display_data"
    },
    {
     "name": "stdout",
     "output_type": "stream",
     "text": [
      "\n",
      "Checking Z:\\C1\\free\\vids\\20201216_Mark\\concatenated.avi for matches...\n"
     ]
    },
    {
     "data": {
      "application/vnd.jupyter.widget-view+json": {
       "model_id": "8d63c19ad0b64601b7557d4144547489",
       "version_major": 2,
       "version_minor": 0
      },
      "text/plain": [
       "HBox(children=(FloatProgress(value=0.0, max=169584.0), HTML(value='')))"
      ]
     },
     "metadata": {},
     "output_type": "display_data"
    },
    {
     "name": "stdout",
     "output_type": "stream",
     "text": [
      "\n",
      "Checking Z:\\C1\\free\\vids\\20201216_Neil\\concatenated.avi for matches...\n"
     ]
    },
    {
     "data": {
      "application/vnd.jupyter.widget-view+json": {
       "model_id": "8fa45ce213064a6aaddc2f9abeeaa96c",
       "version_major": 2,
       "version_minor": 0
      },
      "text/plain": [
       "HBox(children=(FloatProgress(value=0.0, max=113637.0), HTML(value='')))"
      ]
     },
     "metadata": {},
     "output_type": "display_data"
    },
    {
     "name": "stdout",
     "output_type": "stream",
     "text": [
      "\n",
      "Checking Z:\\C1\\free\\vids\\20201216_Omar\\concatenated.avi for matches...\n"
     ]
    },
    {
     "data": {
      "application/vnd.jupyter.widget-view+json": {
       "model_id": "13326f3ac3d04124a28f35403ac5b860",
       "version_major": 2,
       "version_minor": 0
      },
      "text/plain": [
       "HBox(children=(FloatProgress(value=0.0, max=62805.0), HTML(value='')))"
      ]
     },
     "metadata": {},
     "output_type": "display_data"
    },
    {
     "name": "stdout",
     "output_type": "stream",
     "text": [
      "\n",
      "Checking Z:\\C1\\free\\vids\\20201218_Mark\\concatenated.avi for matches...\n"
     ]
    },
    {
     "data": {
      "application/vnd.jupyter.widget-view+json": {
       "model_id": "dbe5c04d4cf64837a06539fc5202ae07",
       "version_major": 2,
       "version_minor": 0
      },
      "text/plain": [
       "HBox(children=(FloatProgress(value=0.0, max=88367.0), HTML(value='')))"
      ]
     },
     "metadata": {},
     "output_type": "display_data"
    },
    {
     "name": "stdout",
     "output_type": "stream",
     "text": [
      "\n",
      "Checking Z:\\C1\\free\\vids\\20201218_Neil\\concatenated.avi for matches...\n"
     ]
    },
    {
     "data": {
      "application/vnd.jupyter.widget-view+json": {
       "model_id": "f1e6f8725a9a4eba84a9d908ec9f7e33",
       "version_major": 2,
       "version_minor": 0
      },
      "text/plain": [
       "HBox(children=(FloatProgress(value=0.0, max=107222.0), HTML(value='')))"
      ]
     },
     "metadata": {},
     "output_type": "display_data"
    },
    {
     "name": "stdout",
     "output_type": "stream",
     "text": [
      "\n",
      "Checking Z:\\C1\\free\\vids\\20201218_Omar\\concatenated.avi for matches...\n"
     ]
    },
    {
     "data": {
      "application/vnd.jupyter.widget-view+json": {
       "model_id": "b32db417bf824de4877a0cec909101ca",
       "version_major": 2,
       "version_minor": 0
      },
      "text/plain": [
       "HBox(children=(FloatProgress(value=0.0, max=103736.0), HTML(value='')))"
      ]
     },
     "metadata": {},
     "output_type": "display_data"
    },
    {
     "name": "stdout",
     "output_type": "stream",
     "text": [
      "\n",
      "Checking Z:\\C1\\free\\vids\\20201219_Mark\\concatenated.avi for matches...\n"
     ]
    },
    {
     "data": {
      "application/vnd.jupyter.widget-view+json": {
       "model_id": "39e744d2d0ec483499bf35215ee436f3",
       "version_major": 2,
       "version_minor": 0
      },
      "text/plain": [
       "HBox(children=(FloatProgress(value=0.0, max=29389.0), HTML(value='')))"
      ]
     },
     "metadata": {},
     "output_type": "display_data"
    },
    {
     "name": "stdout",
     "output_type": "stream",
     "text": [
      "  Found a match! Dataset image 259 is frame 1160 of Z:\\C1\\free\\vids\\20201219_Mark\\concatenated.avi \n",
      "  Found a match! Dataset image 260 is frame 7832 of Z:\\C1\\free\\vids\\20201219_Mark\\concatenated.avi \n",
      "  Found a match! Dataset image 261 is frame 21012 of Z:\\C1\\free\\vids\\20201219_Mark\\concatenated.avi \n",
      "  Found a match! Dataset image 262 is frame 23200 of Z:\\C1\\free\\vids\\20201219_Mark\\concatenated.avi \n",
      "\n",
      "Checking Z:\\C1\\free\\vids\\20201219_Neil\\concatenated.avi for matches...\n"
     ]
    },
    {
     "data": {
      "application/vnd.jupyter.widget-view+json": {
       "model_id": "f9493d0e533748a3aa608786c7f2c509",
       "version_major": 2,
       "version_minor": 0
      },
      "text/plain": [
       "HBox(children=(FloatProgress(value=0.0, max=150756.0), HTML(value='')))"
      ]
     },
     "metadata": {},
     "output_type": "display_data"
    },
    {
     "name": "stdout",
     "output_type": "stream",
     "text": [
      "\n",
      "Checking Z:\\C1\\free\\vids\\20201219_Omar\\concatenated.avi for matches...\n"
     ]
    },
    {
     "data": {
      "application/vnd.jupyter.widget-view+json": {
       "model_id": "c9dd0d5bb8514d71a9f38aa6efaa1494",
       "version_major": 2,
       "version_minor": 0
      },
      "text/plain": [
       "HBox(children=(FloatProgress(value=0.0, max=75669.0), HTML(value='')))"
      ]
     },
     "metadata": {},
     "output_type": "display_data"
    },
    {
     "name": "stdout",
     "output_type": "stream",
     "text": [
      "\n",
      "Checking Z:\\C1\\free\\vids\\20201221_Mark\\concatenated.avi for matches...\n"
     ]
    },
    {
     "data": {
      "application/vnd.jupyter.widget-view+json": {
       "model_id": "26a78388c1d64987929acf0bd157247d",
       "version_major": 2,
       "version_minor": 0
      },
      "text/plain": [
       "HBox(children=(FloatProgress(value=0.0, max=54769.0), HTML(value='')))"
      ]
     },
     "metadata": {},
     "output_type": "display_data"
    },
    {
     "name": "stdout",
     "output_type": "stream",
     "text": [
      "\n",
      "Checking Z:\\C1\\free\\vids\\20201223_Mark\\concatenated.avi for matches...\n"
     ]
    },
    {
     "data": {
      "application/vnd.jupyter.widget-view+json": {
       "model_id": "6233a9786a5d43d08601b025ce2d38ed",
       "version_major": 2,
       "version_minor": 0
      },
      "text/plain": [
       "HBox(children=(FloatProgress(value=0.0, max=13910.0), HTML(value='')))"
      ]
     },
     "metadata": {},
     "output_type": "display_data"
    },
    {
     "name": "stdout",
     "output_type": "stream",
     "text": [
      "\n",
      "Checking Z:\\C1\\free\\vids\\20201223_Neil\\concatenated.avi for matches...\n"
     ]
    },
    {
     "data": {
      "application/vnd.jupyter.widget-view+json": {
       "model_id": "59571335c0f542be9d9b517f10b78437",
       "version_major": 2,
       "version_minor": 0
      },
      "text/plain": [
       "HBox(children=(FloatProgress(value=0.0, max=155193.0), HTML(value='')))"
      ]
     },
     "metadata": {},
     "output_type": "display_data"
    },
    {
     "name": "stdout",
     "output_type": "stream",
     "text": [
      "\n",
      "Checking Z:\\C1\\free\\vids\\20201223_Omar\\concatenated.avi for matches...\n"
     ]
    },
    {
     "data": {
      "application/vnd.jupyter.widget-view+json": {
       "model_id": "673d1be32c2d468b8f1508b5e4a3532a",
       "version_major": 2,
       "version_minor": 0
      },
      "text/plain": [
       "HBox(children=(FloatProgress(value=0.0, max=106595.0), HTML(value='')))"
      ]
     },
     "metadata": {},
     "output_type": "display_data"
    },
    {
     "name": "stdout",
     "output_type": "stream",
     "text": [
      "\n",
      "Checking Z:\\C1\\free\\vids\\20201224_Mark\\concatenated.avi for matches...\n"
     ]
    },
    {
     "data": {
      "application/vnd.jupyter.widget-view+json": {
       "model_id": "1753e9f0271d45d783fec963167d9087",
       "version_major": 2,
       "version_minor": 0
      },
      "text/plain": [
       "HBox(children=(FloatProgress(value=0.0, max=2563.0), HTML(value='')))"
      ]
     },
     "metadata": {},
     "output_type": "display_data"
    },
    {
     "name": "stdout",
     "output_type": "stream",
     "text": [
      "\n",
      "Checking Z:\\C1\\free\\vids\\20201224_Neil\\concatenated.avi for matches...\n"
     ]
    },
    {
     "data": {
      "application/vnd.jupyter.widget-view+json": {
       "model_id": "84f5f779ad5e47deaaee6aceaca31d4b",
       "version_major": 2,
       "version_minor": 0
      },
      "text/plain": [
       "HBox(children=(FloatProgress(value=0.0, max=215023.0), HTML(value='')))"
      ]
     },
     "metadata": {},
     "output_type": "display_data"
    },
    {
     "name": "stdout",
     "output_type": "stream",
     "text": [
      "\n",
      "Checking Z:\\C1\\free\\vids\\20201224_Omar\\concatenated.avi for matches...\n"
     ]
    },
    {
     "data": {
      "application/vnd.jupyter.widget-view+json": {
       "model_id": "2421c7e561ed481c8b6cf7ce46a17e7a",
       "version_major": 2,
       "version_minor": 0
      },
      "text/plain": [
       "HBox(children=(FloatProgress(value=0.0, max=110735.0), HTML(value='')))"
      ]
     },
     "metadata": {},
     "output_type": "display_data"
    },
    {
     "name": "stdout",
     "output_type": "stream",
     "text": [
      "\n",
      "Checking Z:\\C1\\free\\vids\\20201226_Neil\\concatenated.avi for matches...\n"
     ]
    },
    {
     "data": {
      "application/vnd.jupyter.widget-view+json": {
       "model_id": "083be01882a84895b2b2ec32029caddc",
       "version_major": 2,
       "version_minor": 0
      },
      "text/plain": [
       "HBox(children=(FloatProgress(value=0.0, max=134478.0), HTML(value='')))"
      ]
     },
     "metadata": {},
     "output_type": "display_data"
    },
    {
     "name": "stdout",
     "output_type": "stream",
     "text": [
      "\n",
      "Checking Z:\\C1\\free\\vids\\20201226_Omar\\concatenated.avi for matches...\n"
     ]
    },
    {
     "data": {
      "application/vnd.jupyter.widget-view+json": {
       "model_id": "813121eb381d4ae486ea31c827f06a1c",
       "version_major": 2,
       "version_minor": 0
      },
      "text/plain": [
       "HBox(children=(FloatProgress(value=0.0, max=89547.0), HTML(value='')))"
      ]
     },
     "metadata": {},
     "output_type": "display_data"
    },
    {
     "name": "stdout",
     "output_type": "stream",
     "text": [
      "\n",
      "Checking Z:\\C1\\free\\vids\\20201228_Neil\\concatenated.avi for matches...\n"
     ]
    },
    {
     "data": {
      "application/vnd.jupyter.widget-view+json": {
       "model_id": "683efab1c0fa4741ad23ac8c0a987414",
       "version_major": 2,
       "version_minor": 0
      },
      "text/plain": [
       "HBox(children=(FloatProgress(value=0.0, max=186884.0), HTML(value='')))"
      ]
     },
     "metadata": {},
     "output_type": "display_data"
    },
    {
     "name": "stdout",
     "output_type": "stream",
     "text": [
      "\n",
      "Checking Z:\\C1\\free\\vids\\20201228_Omar\\concatenated.avi for matches...\n"
     ]
    },
    {
     "data": {
      "application/vnd.jupyter.widget-view+json": {
       "model_id": "0262b65efc4044a9b687f64827a0a069",
       "version_major": 2,
       "version_minor": 0
      },
      "text/plain": [
       "HBox(children=(FloatProgress(value=0.0, max=121054.0), HTML(value='')))"
      ]
     },
     "metadata": {},
     "output_type": "display_data"
    },
    {
     "name": "stdout",
     "output_type": "stream",
     "text": [
      "\n",
      "Checking Z:\\C1\\free\\vids\\20201230_Neil\\concatenated.avi for matches...\n"
     ]
    },
    {
     "data": {
      "application/vnd.jupyter.widget-view+json": {
       "model_id": "9839b16c18d64036848de888ef6ebc0b",
       "version_major": 2,
       "version_minor": 0
      },
      "text/plain": [
       "HBox(children=(FloatProgress(value=0.0, max=195890.0), HTML(value='')))"
      ]
     },
     "metadata": {},
     "output_type": "display_data"
    },
    {
     "name": "stdout",
     "output_type": "stream",
     "text": [
      "\n",
      "Checking Z:\\C1\\free\\vids\\20201230_Omar\\concatenated.avi for matches...\n"
     ]
    },
    {
     "data": {
      "application/vnd.jupyter.widget-view+json": {
       "model_id": "707c547a83234dd7a43bc6e2bfff477b",
       "version_major": 2,
       "version_minor": 0
      },
      "text/plain": [
       "HBox(children=(FloatProgress(value=0.0, max=150652.0), HTML(value='')))"
      ]
     },
     "metadata": {},
     "output_type": "display_data"
    },
    {
     "name": "stdout",
     "output_type": "stream",
     "text": [
      "\n",
      "Checking Z:\\C1\\free\\vids\\20201231_Neil\\concatenated.avi for matches...\n"
     ]
    },
    {
     "data": {
      "application/vnd.jupyter.widget-view+json": {
       "model_id": "96ccc2c984e240fd892f88b3ca74a024",
       "version_major": 2,
       "version_minor": 0
      },
      "text/plain": [
       "HBox(children=(FloatProgress(value=0.0, max=169902.0), HTML(value='')))"
      ]
     },
     "metadata": {},
     "output_type": "display_data"
    },
    {
     "name": "stdout",
     "output_type": "stream",
     "text": [
      "\n",
      "Checking Z:\\C1\\free\\vids\\20201231_Omar\\concatenated.avi for matches...\n"
     ]
    },
    {
     "data": {
      "application/vnd.jupyter.widget-view+json": {
       "model_id": "e458ffa67fa6437d825dd86a0e6fd9b7",
       "version_major": 2,
       "version_minor": 0
      },
      "text/plain": [
       "HBox(children=(FloatProgress(value=0.0, max=51606.0), HTML(value='')))"
      ]
     },
     "metadata": {},
     "output_type": "display_data"
    },
    {
     "name": "stdout",
     "output_type": "stream",
     "text": [
      "\n",
      "Checking Z:\\C1\\free\\vids\\20210102_Neil\\concatenated.avi for matches...\n"
     ]
    },
    {
     "data": {
      "application/vnd.jupyter.widget-view+json": {
       "model_id": "32404b5a95144e77bc2358b7f146b788",
       "version_major": 2,
       "version_minor": 0
      },
      "text/plain": [
       "HBox(children=(FloatProgress(value=0.0, max=112493.0), HTML(value='')))"
      ]
     },
     "metadata": {},
     "output_type": "display_data"
    },
    {
     "name": "stdout",
     "output_type": "stream",
     "text": [
      "\n",
      "Checking Z:\\C1\\free\\vids\\20210102_Omar\\concatenated.avi for matches...\n"
     ]
    },
    {
     "data": {
      "application/vnd.jupyter.widget-view+json": {
       "model_id": "cc391098f6404aa4a30f7bb0689fe790",
       "version_major": 2,
       "version_minor": 0
      },
      "text/plain": [
       "HBox(children=(FloatProgress(value=0.0, max=137346.0), HTML(value='')))"
      ]
     },
     "metadata": {},
     "output_type": "display_data"
    },
    {
     "name": "stdout",
     "output_type": "stream",
     "text": [
      "\n",
      "Checking Z:\\C1\\free\\vids\\20210104_Neil\\concatenated.avi for matches...\n"
     ]
    },
    {
     "data": {
      "application/vnd.jupyter.widget-view+json": {
       "model_id": "52e8891863224f43b5607fd5173b0049",
       "version_major": 2,
       "version_minor": 0
      },
      "text/plain": [
       "HBox(children=(FloatProgress(value=0.0, max=278785.0), HTML(value='')))"
      ]
     },
     "metadata": {},
     "output_type": "display_data"
    },
    {
     "name": "stdout",
     "output_type": "stream",
     "text": [
      "\n",
      "Checking Z:\\C1\\free\\vids\\20210104_Omar\\concatenated.avi for matches...\n"
     ]
    },
    {
     "data": {
      "application/vnd.jupyter.widget-view+json": {
       "model_id": "cfb00278691347f7bd850edb0a29dc80",
       "version_major": 2,
       "version_minor": 0
      },
      "text/plain": [
       "HBox(children=(FloatProgress(value=0.0, max=115364.0), HTML(value='')))"
      ]
     },
     "metadata": {},
     "output_type": "display_data"
    },
    {
     "name": "stdout",
     "output_type": "stream",
     "text": [
      "\n",
      "Checking Z:\\C1\\free\\vids\\20210105_Pope\\concatenated.avi for matches...\n"
     ]
    },
    {
     "data": {
      "application/vnd.jupyter.widget-view+json": {
       "model_id": "bcd3ae298f054e9ab5ebbe5ed247e00a",
       "version_major": 2,
       "version_minor": 0
      },
      "text/plain": [
       "HBox(children=(FloatProgress(value=0.0, max=202078.0), HTML(value='')))"
      ]
     },
     "metadata": {},
     "output_type": "display_data"
    },
    {
     "name": "stdout",
     "output_type": "stream",
     "text": [
      "\n",
      "Checking Z:\\C1\\free\\vids\\20210105_Quin\\concatenated.avi for matches...\n"
     ]
    },
    {
     "data": {
      "application/vnd.jupyter.widget-view+json": {
       "model_id": "bb74e4c8bc664d368df7b2197fd371b8",
       "version_major": 2,
       "version_minor": 0
      },
      "text/plain": [
       "HBox(children=(FloatProgress(value=0.0, max=213624.0), HTML(value='')))"
      ]
     },
     "metadata": {},
     "output_type": "display_data"
    },
    {
     "name": "stdout",
     "output_type": "stream",
     "text": [
      "\n",
      "Checking Z:\\C1\\free\\vids\\20210105_Raul\\concatenated.avi for matches...\n"
     ]
    },
    {
     "data": {
      "application/vnd.jupyter.widget-view+json": {
       "model_id": "c026bef6122a412eacb64bcbf152e09b",
       "version_major": 2,
       "version_minor": 0
      },
      "text/plain": [
       "HBox(children=(FloatProgress(value=0.0, max=218424.0), HTML(value='')))"
      ]
     },
     "metadata": {},
     "output_type": "display_data"
    },
    {
     "name": "stdout",
     "output_type": "stream",
     "text": [
      "\n",
      "Checking Z:\\C1\\free\\vids\\20210105_Sean\\concatenated.avi for matches...\n"
     ]
    },
    {
     "data": {
      "application/vnd.jupyter.widget-view+json": {
       "model_id": "b3e9f2ab3d3642f69f72171e042fb501",
       "version_major": 2,
       "version_minor": 0
      },
      "text/plain": [
       "HBox(children=(FloatProgress(value=0.0, max=190470.0), HTML(value='')))"
      ]
     },
     "metadata": {},
     "output_type": "display_data"
    },
    {
     "name": "stdout",
     "output_type": "stream",
     "text": [
      "\n",
      "Checking Z:\\C1\\free\\vids\\20210106_Neil\\concatenated.avi for matches...\n"
     ]
    },
    {
     "data": {
      "application/vnd.jupyter.widget-view+json": {
       "model_id": "5f2697a0e5a647e5a6fbd47dd3e329f7",
       "version_major": 2,
       "version_minor": 0
      },
      "text/plain": [
       "HBox(children=(FloatProgress(value=0.0, max=115681.0), HTML(value='')))"
      ]
     },
     "metadata": {},
     "output_type": "display_data"
    },
    {
     "name": "stdout",
     "output_type": "stream",
     "text": [
      "\n",
      "Checking Z:\\C1\\free\\vids\\20210106_Omar\\concatenated.avi for matches...\n"
     ]
    },
    {
     "data": {
      "application/vnd.jupyter.widget-view+json": {
       "model_id": "57367dcb41b04b29b1cc0a7f89462552",
       "version_major": 2,
       "version_minor": 0
      },
      "text/plain": [
       "HBox(children=(FloatProgress(value=0.0, max=122478.0), HTML(value='')))"
      ]
     },
     "metadata": {},
     "output_type": "display_data"
    },
    {
     "name": "stdout",
     "output_type": "stream",
     "text": [
      "\n",
      "Checking Z:\\C1\\free\\vids\\20210106_Pope\\concatenated.avi for matches...\n"
     ]
    },
    {
     "data": {
      "application/vnd.jupyter.widget-view+json": {
       "model_id": "88516f7fc87f42f697740bf7d3a9e4f0",
       "version_major": 2,
       "version_minor": 0
      },
      "text/plain": [
       "HBox(children=(FloatProgress(value=0.0, max=132786.0), HTML(value='')))"
      ]
     },
     "metadata": {},
     "output_type": "display_data"
    },
    {
     "name": "stdout",
     "output_type": "stream",
     "text": [
      "\n",
      "Checking Z:\\C1\\free\\vids\\20210107_Quin\\concatenated.avi for matches...\n"
     ]
    },
    {
     "data": {
      "application/vnd.jupyter.widget-view+json": {
       "model_id": "58c5f6a3a9e84ae1a5fe9a1db8c1af85",
       "version_major": 2,
       "version_minor": 0
      },
      "text/plain": [
       "HBox(children=(FloatProgress(value=0.0, max=144501.0), HTML(value='')))"
      ]
     },
     "metadata": {},
     "output_type": "display_data"
    },
    {
     "name": "stdout",
     "output_type": "stream",
     "text": [
      "\n",
      "Checking Z:\\C1\\free\\vids\\20210107_Raul\\concatenated.avi for matches...\n"
     ]
    },
    {
     "data": {
      "application/vnd.jupyter.widget-view+json": {
       "model_id": "71bae7cc9ca04b638691289571fc40fe",
       "version_major": 2,
       "version_minor": 0
      },
      "text/plain": [
       "HBox(children=(FloatProgress(value=0.0, max=176095.0), HTML(value='')))"
      ]
     },
     "metadata": {},
     "output_type": "display_data"
    },
    {
     "name": "stdout",
     "output_type": "stream",
     "text": [
      "\n",
      "Checking Z:\\C1\\free\\vids\\20210107_Sean\\concatenated.avi for matches...\n"
     ]
    },
    {
     "data": {
      "application/vnd.jupyter.widget-view+json": {
       "model_id": "23098466185f43e9a232da583d2fbe61",
       "version_major": 2,
       "version_minor": 0
      },
      "text/plain": [
       "HBox(children=(FloatProgress(value=0.0, max=163196.0), HTML(value='')))"
      ]
     },
     "metadata": {},
     "output_type": "display_data"
    },
    {
     "name": "stdout",
     "output_type": "stream",
     "text": [
      "\n",
      "Checking Z:\\C1\\free\\vids\\20210108_Pope\\concatenated.avi for matches...\n"
     ]
    },
    {
     "data": {
      "application/vnd.jupyter.widget-view+json": {
       "model_id": "bb9abce96d5a4c6d949ac6bd464c0914",
       "version_major": 2,
       "version_minor": 0
      },
      "text/plain": [
       "HBox(children=(FloatProgress(value=0.0, max=216696.0), HTML(value='')))"
      ]
     },
     "metadata": {},
     "output_type": "display_data"
    },
    {
     "name": "stdout",
     "output_type": "stream",
     "text": [
      "\n",
      "Checking Z:\\C1\\free\\vids\\20210109_Quin\\concatenated.avi for matches...\n"
     ]
    },
    {
     "data": {
      "application/vnd.jupyter.widget-view+json": {
       "model_id": "26962c14f92d44688967c517b69ff1fc",
       "version_major": 2,
       "version_minor": 0
      },
      "text/plain": [
       "HBox(children=(FloatProgress(value=0.0, max=162157.0), HTML(value='')))"
      ]
     },
     "metadata": {},
     "output_type": "display_data"
    },
    {
     "name": "stdout",
     "output_type": "stream",
     "text": [
      "\n",
      "Checking Z:\\C1\\free\\vids\\20210109_Raul\\concatenated.avi for matches...\n"
     ]
    },
    {
     "data": {
      "application/vnd.jupyter.widget-view+json": {
       "model_id": "5fb0f81448054debac9e0aa4807f7f3e",
       "version_major": 2,
       "version_minor": 0
      },
      "text/plain": [
       "HBox(children=(FloatProgress(value=0.0, max=136362.0), HTML(value='')))"
      ]
     },
     "metadata": {},
     "output_type": "display_data"
    },
    {
     "name": "stdout",
     "output_type": "stream",
     "text": [
      "\n",
      "Checking Z:\\C1\\free\\vids\\20210109_Sean\\concatenated.avi for matches...\n"
     ]
    },
    {
     "data": {
      "application/vnd.jupyter.widget-view+json": {
       "model_id": "57844f3467fa4e748f4855ec423bffc7",
       "version_major": 2,
       "version_minor": 0
      },
      "text/plain": [
       "HBox(children=(FloatProgress(value=0.0, max=185592.0), HTML(value='')))"
      ]
     },
     "metadata": {},
     "output_type": "display_data"
    },
    {
     "name": "stdout",
     "output_type": "stream",
     "text": [
      "\n",
      "Checking Z:\\C1\\free\\vids\\20210111_Pope\\concatenated.avi for matches...\n"
     ]
    },
    {
     "data": {
      "application/vnd.jupyter.widget-view+json": {
       "model_id": "c19cc5c685f9466b9a006ac30ebccb24",
       "version_major": 2,
       "version_minor": 0
      },
      "text/plain": [
       "HBox(children=(FloatProgress(value=0.0, max=106309.0), HTML(value='')))"
      ]
     },
     "metadata": {},
     "output_type": "display_data"
    },
    {
     "name": "stdout",
     "output_type": "stream",
     "text": [
      "\n",
      "Checking Z:\\C1\\free\\vids\\20210111_Quin\\concatenated.avi for matches...\n"
     ]
    },
    {
     "data": {
      "application/vnd.jupyter.widget-view+json": {
       "model_id": "281da2f7c87347208ec1c842c6e09381",
       "version_major": 2,
       "version_minor": 0
      },
      "text/plain": [
       "HBox(children=(FloatProgress(value=0.0, max=90778.0), HTML(value='')))"
      ]
     },
     "metadata": {},
     "output_type": "display_data"
    },
    {
     "name": "stdout",
     "output_type": "stream",
     "text": [
      "\n",
      "Checking Z:\\C1\\free\\vids\\20210111_Raul\\concatenated.avi for matches...\n"
     ]
    },
    {
     "data": {
      "application/vnd.jupyter.widget-view+json": {
       "model_id": "bf87ab3678de4e398372a3e7535f3986",
       "version_major": 2,
       "version_minor": 0
      },
      "text/plain": [
       "HBox(children=(FloatProgress(value=0.0, max=92878.0), HTML(value='')))"
      ]
     },
     "metadata": {},
     "output_type": "display_data"
    },
    {
     "name": "stdout",
     "output_type": "stream",
     "text": [
      "\n",
      "Checking Z:\\C1\\free\\vids\\20210111_Sean\\concatenated.avi for matches...\n"
     ]
    },
    {
     "data": {
      "application/vnd.jupyter.widget-view+json": {
       "model_id": "ba6fc2400fe84308a8550022456e8d4e",
       "version_major": 2,
       "version_minor": 0
      },
      "text/plain": [
       "HBox(children=(FloatProgress(value=0.0, max=167692.0), HTML(value='')))"
      ]
     },
     "metadata": {},
     "output_type": "display_data"
    },
    {
     "name": "stdout",
     "output_type": "stream",
     "text": [
      "\n",
      "Checking Z:\\C1\\free\\vids\\20210112_Pope\\concatenated.avi for matches...\n"
     ]
    },
    {
     "data": {
      "application/vnd.jupyter.widget-view+json": {
       "model_id": "1ac407d313d54df2bac65b0d4f5db60c",
       "version_major": 2,
       "version_minor": 0
      },
      "text/plain": [
       "HBox(children=(FloatProgress(value=0.0, max=76177.0), HTML(value='')))"
      ]
     },
     "metadata": {},
     "output_type": "display_data"
    },
    {
     "name": "stdout",
     "output_type": "stream",
     "text": [
      "\n",
      "Checking Z:\\C1\\free\\vids\\20210112_Quin\\concatenated.avi for matches...\n"
     ]
    },
    {
     "data": {
      "application/vnd.jupyter.widget-view+json": {
       "model_id": "b584a662a3894cbab0e90bd1ec673e80",
       "version_major": 2,
       "version_minor": 0
      },
      "text/plain": [
       "HBox(children=(FloatProgress(value=0.0, max=140573.0), HTML(value='')))"
      ]
     },
     "metadata": {},
     "output_type": "display_data"
    },
    {
     "name": "stdout",
     "output_type": "stream",
     "text": [
      "\n",
      "Checking Z:\\C1\\free\\vids\\20210112_Raul\\concatenated.avi for matches...\n"
     ]
    },
    {
     "data": {
      "application/vnd.jupyter.widget-view+json": {
       "model_id": "3e9c5af81d4f4964b9d30b6566ec3bb1",
       "version_major": 2,
       "version_minor": 0
      },
      "text/plain": [
       "HBox(children=(FloatProgress(value=0.0, max=136730.0), HTML(value='')))"
      ]
     },
     "metadata": {},
     "output_type": "display_data"
    },
    {
     "name": "stdout",
     "output_type": "stream",
     "text": [
      "\n",
      "Checking Z:\\C1\\free\\vids\\20210112_Sean\\concatenated.avi for matches...\n"
     ]
    },
    {
     "data": {
      "application/vnd.jupyter.widget-view+json": {
       "model_id": "864212d8c2884fd7a5c6e149915f1ed8",
       "version_major": 2,
       "version_minor": 0
      },
      "text/plain": [
       "HBox(children=(FloatProgress(value=0.0, max=174461.0), HTML(value='')))"
      ]
     },
     "metadata": {},
     "output_type": "display_data"
    },
    {
     "name": "stdout",
     "output_type": "stream",
     "text": [
      "\n",
      "Checking Z:\\C1\\free\\vids\\Fish1\\concatenated.avi for matches...\n"
     ]
    },
    {
     "data": {
      "application/vnd.jupyter.widget-view+json": {
       "model_id": "7a2565d74bc547bdb6800f3f50e1c047",
       "version_major": 2,
       "version_minor": 0
      },
      "text/plain": [
       "HBox(children=(FloatProgress(value=0.0, max=42627.0), HTML(value='')))"
      ]
     },
     "metadata": {},
     "output_type": "display_data"
    },
    {
     "name": "stdout",
     "output_type": "stream",
     "text": [
      "\n",
      "Checking Z:\\C1\\free\\vids\\Fish2\\concatenated.avi for matches...\n"
     ]
    },
    {
     "data": {
      "application/vnd.jupyter.widget-view+json": {
       "model_id": "38ecfc7ae7e7439c97d7884b6851c27f",
       "version_major": 2,
       "version_minor": 0
      },
      "text/plain": [
       "HBox(children=(FloatProgress(value=0.0, max=27909.0), HTML(value='')))"
      ]
     },
     "metadata": {},
     "output_type": "display_data"
    },
    {
     "name": "stdout",
     "output_type": "stream",
     "text": [
      "\n",
      "Checking Z:\\C1\\free\\vids\\Fish3\\concatenated.avi for matches...\n"
     ]
    },
    {
     "data": {
      "application/vnd.jupyter.widget-view+json": {
       "model_id": "dee604254a704a1e8aee670cd767c547",
       "version_major": 2,
       "version_minor": 0
      },
      "text/plain": [
       "HBox(children=(FloatProgress(value=0.0, max=41293.0), HTML(value='')))"
      ]
     },
     "metadata": {},
     "output_type": "display_data"
    },
    {
     "name": "stdout",
     "output_type": "stream",
     "text": [
      "\n",
      "Checking Z:\\C1\\free\\vids\\Fish4\\concatenated.avi for matches...\n"
     ]
    },
    {
     "data": {
      "application/vnd.jupyter.widget-view+json": {
       "model_id": "85a1cf07ed4443159d9470b70fc81bec",
       "version_major": 2,
       "version_minor": 0
      },
      "text/plain": [
       "HBox(children=(FloatProgress(value=0.0, max=119615.0), HTML(value='')))"
      ]
     },
     "metadata": {},
     "output_type": "display_data"
    },
    {
     "name": "stdout",
     "output_type": "stream",
     "text": [
      "\n",
      "Checking Z:\\C1\\free\\vids\\Fish5\\concatenated.avi for matches...\n"
     ]
    },
    {
     "data": {
      "application/vnd.jupyter.widget-view+json": {
       "model_id": "5e4b82c3ee6c4c7fb92d9b859a6362d1",
       "version_major": 2,
       "version_minor": 0
      },
      "text/plain": [
       "HBox(children=(FloatProgress(value=0.0, max=11049.0), HTML(value='')))"
      ]
     },
     "metadata": {},
     "output_type": "display_data"
    },
    {
     "name": "stdout",
     "output_type": "stream",
     "text": [
      "\n"
     ]
    }
   ],
   "source": [
    "all_vid_names = [os.path.join(f.path, 'concatenated.avi') for f in os.scandir(cfg['data_dir'])]\n",
    "frame_nums = np.full(n_imgs, -1, dtype=np.int)  # store frame numbers when then are found\n",
    "vid_names = ['unknown']*n_imgs\n",
    "match_row = 192  # only check that this row matches, otherwise way way way way too slow!\n",
    "\n",
    "# tests\n",
    "# 20201210\tGreg\t1224\n",
    "# 20201210\tNeil\t12756, 25207, 27834, 81059\n",
    "# all_vid_names = [r'Z:\\C1\\free\\vids\\20201210_Greg\\concatenated.avi', \n",
    "#                  r'Z:\\C1\\free\\vids\\20201210_Neil\\concatenated.avi']\n",
    "\n",
    "\n",
    "for vid_name in all_vid_names:\n",
    "    if os.path.exists(vid_name):\n",
    "\n",
    "        # load video\n",
    "        vid = cv2.VideoCapture(vid_name)\n",
    "        n_frames_approx = int(vid.get(cv2.CAP_PROP_FRAME_COUNT))\n",
    "        print('Checking {} for matches...'.format(vid_name))\n",
    "\n",
    "        for frame_num in tqdm(range(round(n_frames_approx*1.01))):\n",
    "\n",
    "            # read frame\n",
    "            got_frame, frame = vid.read()\n",
    "            if not got_frame:\n",
    "                break\n",
    "\n",
    "            # check for matching rows\n",
    "            match_idx = np.where(np.all(imgs[:,match_row] == frame[match_row,:,0], axis=1))[0]\n",
    "            \n",
    "            # now check entire frame\n",
    "            if len(match_idx)>0:\n",
    "                match_idx = np.where(np.all(imgs == frame[...,0], axis=(1,2)))[0]\n",
    "            \n",
    "            # save if match is found\n",
    "            if len(match_idx)>0:\n",
    "                match_idx = match_idx[0]\n",
    "                frame_nums[match_idx] = frame_num\n",
    "                vid_names[match_idx] = vid_name\n",
    "                print('  Found a match! Dataset image {} is frame {} of {} '.\n",
    "                      format(match_idx, frame_num, vid_name))\n",
    "                update_dataset(dataset_name, new_dataset_name,\n",
    "                               vid_names, frame_nums)\n",
    "                "
   ]
  },
  {
   "cell_type": "code",
   "execution_count": 25,
   "metadata": {},
   "outputs": [
    {
     "name": "stdout",
     "output_type": "stream",
     "text": [
      "frame -1, video b'unknown'\n",
      "frame -1, video b'unknown'\n",
      "frame -1, video b'unknown'\n",
      "frame -1, video b'unknown'\n",
      "frame -1, video b'unknown'\n",
      "frame -1, video b'unknown'\n",
      "frame -1, video b'unknown'\n",
      "frame -1, video b'unknown'\n",
      "frame -1, video b'unknown'\n",
      "frame -1, video b'unknown'\n",
      "frame -1, video b'unknown'\n",
      "frame -1, video b'unknown'\n",
      "frame -1, video b'unknown'\n",
      "frame -1, video b'unknown'\n",
      "frame -1, video b'unknown'\n",
      "frame -1, video b'unknown'\n",
      "frame -1, video b'unknown'\n",
      "frame -1, video b'unknown'\n",
      "frame -1, video b'unknown'\n",
      "frame -1, video b'unknown'\n",
      "frame -1, video b'unknown'\n",
      "frame -1, video b'unknown'\n",
      "frame -1, video b'unknown'\n",
      "frame -1, video b'unknown'\n",
      "frame -1, video b'unknown'\n",
      "frame -1, video b'unknown'\n",
      "frame -1, video b'unknown'\n",
      "frame -1, video b'unknown'\n",
      "frame -1, video b'unknown'\n",
      "frame -1, video b'unknown'\n",
      "frame -1, video b'unknown'\n",
      "frame -1, video b'unknown'\n",
      "frame -1, video b'unknown'\n",
      "frame -1, video b'unknown'\n",
      "frame -1, video b'unknown'\n",
      "frame -1, video b'unknown'\n",
      "frame -1, video b'unknown'\n",
      "frame -1, video b'unknown'\n",
      "frame -1, video b'unknown'\n",
      "frame -1, video b'unknown'\n",
      "frame 22, video b'Z:\\\\C1\\\\free\\\\vids\\\\20201001_Hank\\\\concatenated.avi'\n",
      "frame 8902, video b'Z:\\\\C1\\\\free\\\\vids\\\\20201001_Hank\\\\concatenated.avi'\n",
      "frame 26483, video b'Z:\\\\C1\\\\free\\\\vids\\\\20201001_Hank\\\\concatenated.avi'\n",
      "frame 33509, video b'Z:\\\\C1\\\\free\\\\vids\\\\20201001_Hank\\\\concatenated.avi'\n",
      "frame 45764, video b'Z:\\\\C1\\\\free\\\\vids\\\\20201001_Hank\\\\concatenated.avi'\n",
      "frame 52628, video b'Z:\\\\C1\\\\free\\\\vids\\\\20201001_Hank\\\\concatenated.avi'\n",
      "frame 77081, video b'Z:\\\\C1\\\\free\\\\vids\\\\20201001_Hank\\\\concatenated.avi'\n",
      "frame 83539, video b'Z:\\\\C1\\\\free\\\\vids\\\\20201001_Hank\\\\concatenated.avi'\n",
      "frame 89281, video b'Z:\\\\C1\\\\free\\\\vids\\\\20201001_Hank\\\\concatenated.avi'\n",
      "frame 92278, video b'Z:\\\\C1\\\\free\\\\vids\\\\20201001_Hank\\\\concatenated.avi'\n",
      "frame 96153, video b'Z:\\\\C1\\\\free\\\\vids\\\\20201001_Hank\\\\concatenated.avi'\n",
      "frame 100843, video b'Z:\\\\C1\\\\free\\\\vids\\\\20201001_Hank\\\\concatenated.avi'\n",
      "frame 103931, video b'Z:\\\\C1\\\\free\\\\vids\\\\20201001_Hank\\\\concatenated.avi'\n",
      "frame 107119, video b'Z:\\\\C1\\\\free\\\\vids\\\\20201001_Hank\\\\concatenated.avi'\n",
      "frame 119286, video b'Z:\\\\C1\\\\free\\\\vids\\\\20201001_Hank\\\\concatenated.avi'\n",
      "frame 122280, video b'Z:\\\\C1\\\\free\\\\vids\\\\20201001_Hank\\\\concatenated.avi'\n",
      "frame 126789, video b'Z:\\\\C1\\\\free\\\\vids\\\\20201001_Hank\\\\concatenated.avi'\n",
      "frame 130929, video b'Z:\\\\C1\\\\free\\\\vids\\\\20201001_Hank\\\\concatenated.avi'\n",
      "frame 136241, video b'Z:\\\\C1\\\\free\\\\vids\\\\20201001_Hank\\\\concatenated.avi'\n",
      "frame 139737, video b'Z:\\\\C1\\\\free\\\\vids\\\\20201001_Hank\\\\concatenated.avi'\n",
      "frame 144136, video b'Z:\\\\C1\\\\free\\\\vids\\\\20201001_Hank\\\\concatenated.avi'\n",
      "frame 147748, video b'Z:\\\\C1\\\\free\\\\vids\\\\20201001_Hank\\\\concatenated.avi'\n",
      "frame 151335, video b'Z:\\\\C1\\\\free\\\\vids\\\\20201001_Hank\\\\concatenated.avi'\n",
      "frame 154685, video b'Z:\\\\C1\\\\free\\\\vids\\\\20201001_Hank\\\\concatenated.avi'\n",
      "frame 157709, video b'Z:\\\\C1\\\\free\\\\vids\\\\20201001_Hank\\\\concatenated.avi'\n",
      "frame 162808, video b'Z:\\\\C1\\\\free\\\\vids\\\\20201001_Hank\\\\concatenated.avi'\n",
      "frame 166624, video b'Z:\\\\C1\\\\free\\\\vids\\\\20201001_Hank\\\\concatenated.avi'\n",
      "frame 169636, video b'Z:\\\\C1\\\\free\\\\vids\\\\20201001_Hank\\\\concatenated.avi'\n",
      "frame 172614, video b'Z:\\\\C1\\\\free\\\\vids\\\\20201001_Hank\\\\concatenated.avi'\n",
      "frame 175838, video b'Z:\\\\C1\\\\free\\\\vids\\\\20201001_Hank\\\\concatenated.avi'\n",
      "frame 178907, video b'Z:\\\\C1\\\\free\\\\vids\\\\20201001_Hank\\\\concatenated.avi'\n",
      "frame 194506, video b'Z:\\\\C1\\\\free\\\\vids\\\\20201001_Hank\\\\concatenated.avi'\n",
      "frame 198438, video b'Z:\\\\C1\\\\free\\\\vids\\\\20201001_Hank\\\\concatenated.avi'\n",
      "frame 207842, video b'Z:\\\\C1\\\\free\\\\vids\\\\20201001_Hank\\\\concatenated.avi'\n",
      "frame 210811, video b'Z:\\\\C1\\\\free\\\\vids\\\\20201001_Hank\\\\concatenated.avi'\n",
      "frame 214015, video b'Z:\\\\C1\\\\free\\\\vids\\\\20201001_Hank\\\\concatenated.avi'\n",
      "frame 229941, video b'Z:\\\\C1\\\\free\\\\vids\\\\20201001_Hank\\\\concatenated.avi'\n",
      "frame 233816, video b'Z:\\\\C1\\\\free\\\\vids\\\\20201001_Hank\\\\concatenated.avi'\n",
      "frame 243526, video b'Z:\\\\C1\\\\free\\\\vids\\\\20201001_Hank\\\\concatenated.avi'\n",
      "frame 246536, video b'Z:\\\\C1\\\\free\\\\vids\\\\20201001_Hank\\\\concatenated.avi'\n",
      "frame 249664, video b'Z:\\\\C1\\\\free\\\\vids\\\\20201001_Hank\\\\concatenated.avi'\n",
      "frame 253134, video b'Z:\\\\C1\\\\free\\\\vids\\\\20201001_Hank\\\\concatenated.avi'\n",
      "frame 21828, video b'Z:\\\\C1\\\\free\\\\vids\\\\20201005_Hank\\\\concatenated.avi'\n",
      "frame 24839, video b'Z:\\\\C1\\\\free\\\\vids\\\\20201005_Hank\\\\concatenated.avi'\n",
      "frame 30678, video b'Z:\\\\C1\\\\free\\\\vids\\\\20201005_Hank\\\\concatenated.avi'\n",
      "frame 32639, video b'Z:\\\\C1\\\\free\\\\vids\\\\20201005_Hank\\\\concatenated.avi'\n",
      "frame 63425, video b'Z:\\\\C1\\\\free\\\\vids\\\\20201005_Hank\\\\concatenated.avi'\n",
      "frame 63740, video b'Z:\\\\C1\\\\free\\\\vids\\\\20201005_Hank\\\\concatenated.avi'\n",
      "frame 73164, video b'Z:\\\\C1\\\\free\\\\vids\\\\20201005_Hank\\\\concatenated.avi'\n",
      "frame 74860, video b'Z:\\\\C1\\\\free\\\\vids\\\\20201005_Hank\\\\concatenated.avi'\n",
      "frame 78743, video b'Z:\\\\C1\\\\free\\\\vids\\\\20201005_Hank\\\\concatenated.avi'\n",
      "frame 81480, video b'Z:\\\\C1\\\\free\\\\vids\\\\20201005_Hank\\\\concatenated.avi'\n",
      "frame 96117, video b'Z:\\\\C1\\\\free\\\\vids\\\\20201005_Hank\\\\concatenated.avi'\n",
      "frame 105871, video b'Z:\\\\C1\\\\free\\\\vids\\\\20201005_Hank\\\\concatenated.avi'\n",
      "frame 275629, video b'Z:\\\\C1\\\\free\\\\vids\\\\20201011_Igor\\\\concatenated.avi'\n",
      "frame 272875, video b'Z:\\\\C1\\\\free\\\\vids\\\\20201011_Igor\\\\concatenated.avi'\n",
      "frame 273945, video b'Z:\\\\C1\\\\free\\\\vids\\\\20201011_Igor\\\\concatenated.avi'\n",
      "frame 272380, video b'Z:\\\\C1\\\\free\\\\vids\\\\20201011_Igor\\\\concatenated.avi'\n",
      "frame 274877, video b'Z:\\\\C1\\\\free\\\\vids\\\\20201011_Igor\\\\concatenated.avi'\n",
      "frame 272529, video b'Z:\\\\C1\\\\free\\\\vids\\\\20201011_Igor\\\\concatenated.avi'\n",
      "frame 274319, video b'Z:\\\\C1\\\\free\\\\vids\\\\20201011_Igor\\\\concatenated.avi'\n",
      "frame 271408, video b'Z:\\\\C1\\\\free\\\\vids\\\\20201011_Igor\\\\concatenated.avi'\n",
      "frame 272056, video b'Z:\\\\C1\\\\free\\\\vids\\\\20201011_Igor\\\\concatenated.avi'\n",
      "frame 274471, video b'Z:\\\\C1\\\\free\\\\vids\\\\20201011_Igor\\\\concatenated.avi'\n",
      "frame 271800, video b'Z:\\\\C1\\\\free\\\\vids\\\\20201011_Igor\\\\concatenated.avi'\n",
      "frame 271252, video b'Z:\\\\C1\\\\free\\\\vids\\\\20201011_Igor\\\\concatenated.avi'\n",
      "frame 272281, video b'Z:\\\\C1\\\\free\\\\vids\\\\20201011_Igor\\\\concatenated.avi'\n",
      "frame 271853, video b'Z:\\\\C1\\\\free\\\\vids\\\\20201011_Igor\\\\concatenated.avi'\n",
      "frame 273442, video b'Z:\\\\C1\\\\free\\\\vids\\\\20201011_Igor\\\\concatenated.avi'\n",
      "frame 273016, video b'Z:\\\\C1\\\\free\\\\vids\\\\20201011_Igor\\\\concatenated.avi'\n",
      "frame 271041, video b'Z:\\\\C1\\\\free\\\\vids\\\\20201011_Igor\\\\concatenated.avi'\n",
      "frame 275436, video b'Z:\\\\C1\\\\free\\\\vids\\\\20201011_Igor\\\\concatenated.avi'\n",
      "frame 272718, video b'Z:\\\\C1\\\\free\\\\vids\\\\20201011_Igor\\\\concatenated.avi'\n",
      "frame 270856, video b'Z:\\\\C1\\\\free\\\\vids\\\\20201011_Igor\\\\concatenated.avi'\n",
      "frame 255683, video b'Z:\\\\C1\\\\free\\\\vids\\\\20201011_Igor\\\\concatenated.avi'\n",
      "frame 254151, video b'Z:\\\\C1\\\\free\\\\vids\\\\20201011_Igor\\\\concatenated.avi'\n",
      "frame 254710, video b'Z:\\\\C1\\\\free\\\\vids\\\\20201011_Igor\\\\concatenated.avi'\n",
      "frame 255586, video b'Z:\\\\C1\\\\free\\\\vids\\\\20201011_Igor\\\\concatenated.avi'\n",
      "frame 255040, video b'Z:\\\\C1\\\\free\\\\vids\\\\20201011_Igor\\\\concatenated.avi'\n",
      "frame 254387, video b'Z:\\\\C1\\\\free\\\\vids\\\\20201011_Igor\\\\concatenated.avi'\n",
      "frame 253870, video b'Z:\\\\C1\\\\free\\\\vids\\\\20201011_Igor\\\\concatenated.avi'\n",
      "frame 254764, video b'Z:\\\\C1\\\\free\\\\vids\\\\20201011_Igor\\\\concatenated.avi'\n",
      "frame 253752, video b'Z:\\\\C1\\\\free\\\\vids\\\\20201011_Igor\\\\concatenated.avi'\n",
      "frame 253714, video b'Z:\\\\C1\\\\free\\\\vids\\\\20201011_Igor\\\\concatenated.avi'\n",
      "frame 254485, video b'Z:\\\\C1\\\\free\\\\vids\\\\20201011_Igor\\\\concatenated.avi'\n",
      "frame 254028, video b'Z:\\\\C1\\\\free\\\\vids\\\\20201011_Igor\\\\concatenated.avi'\n",
      "frame 255317, video b'Z:\\\\C1\\\\free\\\\vids\\\\20201011_Igor\\\\concatenated.avi'\n",
      "frame 254283, video b'Z:\\\\C1\\\\free\\\\vids\\\\20201011_Igor\\\\concatenated.avi'\n",
      "frame 255476, video b'Z:\\\\C1\\\\free\\\\vids\\\\20201011_Igor\\\\concatenated.avi'\n",
      "frame 254974, video b'Z:\\\\C1\\\\free\\\\vids\\\\20201011_Igor\\\\concatenated.avi'\n",
      "frame 254032, video b'Z:\\\\C1\\\\free\\\\vids\\\\20201011_Igor\\\\concatenated.avi'\n",
      "frame 255286, video b'Z:\\\\C1\\\\free\\\\vids\\\\20201011_Igor\\\\concatenated.avi'\n",
      "frame 255361, video b'Z:\\\\C1\\\\free\\\\vids\\\\20201011_Igor\\\\concatenated.avi'\n",
      "frame 255452, video b'Z:\\\\C1\\\\free\\\\vids\\\\20201011_Igor\\\\concatenated.avi'\n",
      "frame 15084, video b'Z:\\\\C1\\\\free\\\\vids\\\\20201116_Joao\\\\concatenated.avi'\n",
      "frame 287570, video b'Z:\\\\C1\\\\free\\\\vids\\\\20201116_Joao\\\\concatenated.avi'\n",
      "frame 353914, video b'Z:\\\\C1\\\\free\\\\vids\\\\20201116_Joao\\\\concatenated.avi'\n",
      "frame 454826, video b'Z:\\\\C1\\\\free\\\\vids\\\\20201116_Joao\\\\concatenated.avi'\n",
      "frame 638460, video b'Z:\\\\C1\\\\free\\\\vids\\\\20201116_Joao\\\\concatenated.avi'\n",
      "frame 689959, video b'Z:\\\\C1\\\\free\\\\vids\\\\20201116_Joao\\\\concatenated.avi'\n",
      "frame 732041, video b'Z:\\\\C1\\\\free\\\\vids\\\\20201116_Joao\\\\concatenated.avi'\n",
      "frame 795623, video b'Z:\\\\C1\\\\free\\\\vids\\\\20201116_Joao\\\\concatenated.avi'\n",
      "frame 927168, video b'Z:\\\\C1\\\\free\\\\vids\\\\20201116_Joao\\\\concatenated.avi'\n",
      "frame 927737, video b'Z:\\\\C1\\\\free\\\\vids\\\\20201116_Joao\\\\concatenated.avi'\n",
      "frame 766, video b'Z:\\\\C1\\\\free\\\\vids\\\\20201122_Igor\\\\concatenated.avi'\n",
      "frame 1491, video b'Z:\\\\C1\\\\free\\\\vids\\\\20201122_Igor\\\\concatenated.avi'\n",
      "frame 1934, video b'Z:\\\\C1\\\\free\\\\vids\\\\20201122_Igor\\\\concatenated.avi'\n",
      "frame 4355, video b'Z:\\\\C1\\\\free\\\\vids\\\\20201122_Igor\\\\concatenated.avi'\n",
      "frame 5300, video b'Z:\\\\C1\\\\free\\\\vids\\\\20201122_Igor\\\\concatenated.avi'\n",
      "frame 6948, video b'Z:\\\\C1\\\\free\\\\vids\\\\20201122_Igor\\\\concatenated.avi'\n",
      "frame 8569, video b'Z:\\\\C1\\\\free\\\\vids\\\\20201122_Igor\\\\concatenated.avi'\n",
      "frame 8744, video b'Z:\\\\C1\\\\free\\\\vids\\\\20201122_Igor\\\\concatenated.avi'\n",
      "frame 9822, video b'Z:\\\\C1\\\\free\\\\vids\\\\20201122_Igor\\\\concatenated.avi'\n",
      "frame 11698, video b'Z:\\\\C1\\\\free\\\\vids\\\\20201122_Igor\\\\concatenated.avi'\n",
      "frame 13492, video b'Z:\\\\C1\\\\free\\\\vids\\\\20201122_Igor\\\\concatenated.avi'\n",
      "frame 16578, video b'Z:\\\\C1\\\\free\\\\vids\\\\20201122_Igor\\\\concatenated.avi'\n",
      "frame 563, video b'Z:\\\\C1\\\\free\\\\vids\\\\20201122_Joao\\\\concatenated.avi'\n",
      "frame 1418, video b'Z:\\\\C1\\\\free\\\\vids\\\\20201122_Joao\\\\concatenated.avi'\n",
      "frame 1877, video b'Z:\\\\C1\\\\free\\\\vids\\\\20201122_Joao\\\\concatenated.avi'\n",
      "frame 4397, video b'Z:\\\\C1\\\\free\\\\vids\\\\20201122_Joao\\\\concatenated.avi'\n",
      "frame 10953, video b'Z:\\\\C1\\\\free\\\\vids\\\\20201122_Joao\\\\concatenated.avi'\n",
      "frame 12413, video b'Z:\\\\C1\\\\free\\\\vids\\\\20201122_Joao\\\\concatenated.avi'\n",
      "frame 14798, video b'Z:\\\\C1\\\\free\\\\vids\\\\20201122_Joao\\\\concatenated.avi'\n",
      "frame 19410, video b'Z:\\\\C1\\\\free\\\\vids\\\\20201122_Joao\\\\concatenated.avi'\n",
      "frame 23064, video b'Z:\\\\C1\\\\free\\\\vids\\\\20201122_Joao\\\\concatenated.avi'\n",
      "frame 23662, video b'Z:\\\\C1\\\\free\\\\vids\\\\20201122_Joao\\\\concatenated.avi'\n",
      "frame 26437, video b'Z:\\\\C1\\\\free\\\\vids\\\\20201122_Joao\\\\concatenated.avi'\n",
      "frame 28699, video b'Z:\\\\C1\\\\free\\\\vids\\\\20201122_Joao\\\\concatenated.avi'\n",
      "frame 29410, video b'Z:\\\\C1\\\\free\\\\vids\\\\20201122_Joao\\\\concatenated.avi'\n",
      "frame 29813, video b'Z:\\\\C1\\\\free\\\\vids\\\\20201122_Joao\\\\concatenated.avi'\n",
      "frame 30121, video b'Z:\\\\C1\\\\free\\\\vids\\\\20201122_Joao\\\\concatenated.avi'\n",
      "frame 31435, video b'Z:\\\\C1\\\\free\\\\vids\\\\20201122_Joao\\\\concatenated.avi'\n",
      "frame 118027, video b'Z:\\\\C1\\\\free\\\\vids\\\\20201122_Joao\\\\concatenated.avi'\n",
      "frame 120702, video b'Z:\\\\C1\\\\free\\\\vids\\\\20201122_Joao\\\\concatenated.avi'\n",
      "frame 120980, video b'Z:\\\\C1\\\\free\\\\vids\\\\20201122_Joao\\\\concatenated.avi'\n",
      "frame 127964, video b'Z:\\\\C1\\\\free\\\\vids\\\\20201122_Joao\\\\concatenated.avi'\n",
      "frame 128192, video b'Z:\\\\C1\\\\free\\\\vids\\\\20201122_Joao\\\\concatenated.avi'\n",
      "frame 128257, video b'Z:\\\\C1\\\\free\\\\vids\\\\20201122_Joao\\\\concatenated.avi'\n",
      "frame 128416, video b'Z:\\\\C1\\\\free\\\\vids\\\\20201122_Joao\\\\concatenated.avi'\n",
      "frame 128459, video b'Z:\\\\C1\\\\free\\\\vids\\\\20201122_Joao\\\\concatenated.avi'\n",
      "frame 128699, video b'Z:\\\\C1\\\\free\\\\vids\\\\20201122_Joao\\\\concatenated.avi'\n",
      "frame 230831, video b'Z:\\\\C1\\\\free\\\\vids\\\\20201122_Joao\\\\concatenated.avi'\n",
      "frame 232775, video b'Z:\\\\C1\\\\free\\\\vids\\\\20201122_Joao\\\\concatenated.avi'\n",
      "frame 310329, video b'Z:\\\\C1\\\\free\\\\vids\\\\20201122_Joao\\\\concatenated.avi'\n",
      "frame 311377, video b'Z:\\\\C1\\\\free\\\\vids\\\\20201122_Joao\\\\concatenated.avi'\n",
      "frame 311663, video b'Z:\\\\C1\\\\free\\\\vids\\\\20201122_Joao\\\\concatenated.avi'\n",
      "frame 311905, video b'Z:\\\\C1\\\\free\\\\vids\\\\20201122_Joao\\\\concatenated.avi'\n",
      "frame 314615, video b'Z:\\\\C1\\\\free\\\\vids\\\\20201122_Joao\\\\concatenated.avi'\n",
      "frame 1625, video b'Z:\\\\C1\\\\free\\\\vids\\\\20201128_Mark\\\\concatenated.avi'\n",
      "frame 7228, video b'Z:\\\\C1\\\\free\\\\vids\\\\20201128_Mark\\\\concatenated.avi'\n",
      "frame 11116, video b'Z:\\\\C1\\\\free\\\\vids\\\\20201128_Mark\\\\concatenated.avi'\n",
      "frame 12145, video b'Z:\\\\C1\\\\free\\\\vids\\\\20201128_Mark\\\\concatenated.avi'\n",
      "frame 12408, video b'Z:\\\\C1\\\\free\\\\vids\\\\20201128_Mark\\\\concatenated.avi'\n",
      "frame 14579, video b'Z:\\\\C1\\\\free\\\\vids\\\\20201128_Mark\\\\concatenated.avi'\n",
      "frame 22043, video b'Z:\\\\C1\\\\free\\\\vids\\\\20201128_Mark\\\\concatenated.avi'\n",
      "frame 42795, video b'Z:\\\\C1\\\\free\\\\vids\\\\20201201_Kyle\\\\concatenated.avi'\n",
      "frame 43725, video b'Z:\\\\C1\\\\free\\\\vids\\\\20201201_Kyle\\\\concatenated.avi'\n",
      "frame 47232, video b'Z:\\\\C1\\\\free\\\\vids\\\\20201201_Kyle\\\\concatenated.avi'\n",
      "frame 56964, video b'Z:\\\\C1\\\\free\\\\vids\\\\20201201_Kyle\\\\concatenated.avi'\n",
      "frame 10923, video b'Z:\\\\C1\\\\free\\\\vids\\\\20201202_Neil\\\\concatenated.avi'\n",
      "frame 12356, video b'Z:\\\\C1\\\\free\\\\vids\\\\20201202_Neil\\\\concatenated.avi'\n",
      "frame 48726, video b'Z:\\\\C1\\\\free\\\\vids\\\\20201202_Neil\\\\concatenated.avi'\n",
      "frame 76470, video b'Z:\\\\C1\\\\free\\\\vids\\\\20201202_Neil\\\\concatenated.avi'\n",
      "frame 162207, video b'Z:\\\\C1\\\\free\\\\vids\\\\20201202_Neil\\\\concatenated.avi'\n",
      "frame 5088, video b'Z:\\\\C1\\\\free\\\\vids\\\\20201202_Omar\\\\concatenated.avi'\n",
      "frame 15840, video b'Z:\\\\C1\\\\free\\\\vids\\\\20201202_Omar\\\\concatenated.avi'\n",
      "frame 24372, video b'Z:\\\\C1\\\\free\\\\vids\\\\20201202_Omar\\\\concatenated.avi'\n",
      "frame 41676, video b'Z:\\\\C1\\\\free\\\\vids\\\\20201202_Omar\\\\concatenated.avi'\n",
      "frame 18290, video b'Z:\\\\C1\\\\free\\\\vids\\\\20201204_Greg\\\\concatenated.avi'\n",
      "frame 92008, video b'Z:\\\\C1\\\\free\\\\vids\\\\20201204_Greg\\\\concatenated.avi'\n",
      "frame 109420, video b'Z:\\\\C1\\\\free\\\\vids\\\\20201204_Greg\\\\concatenated.avi'\n",
      "frame 117460, video b'Z:\\\\C1\\\\free\\\\vids\\\\20201204_Greg\\\\concatenated.avi'\n",
      "frame 131872, video b'Z:\\\\C1\\\\free\\\\vids\\\\20201204_Greg\\\\concatenated.avi'\n",
      "frame 143464, video b'Z:\\\\C1\\\\free\\\\vids\\\\20201204_Greg\\\\concatenated.avi'\n",
      "frame 147038, video b'Z:\\\\C1\\\\free\\\\vids\\\\20201204_Greg\\\\concatenated.avi'\n",
      "frame 163275, video b'Z:\\\\C1\\\\free\\\\vids\\\\20201204_Greg\\\\concatenated.avi'\n",
      "frame 1224, video b'Z:\\\\C1\\\\free\\\\vids\\\\20201210_Greg\\\\concatenated.avi'\n",
      "frame 12756, video b'Z:\\\\C1\\\\free\\\\vids\\\\20201210_Neil\\\\concatenated.avi'\n",
      "frame 25207, video b'Z:\\\\C1\\\\free\\\\vids\\\\20201210_Neil\\\\concatenated.avi'\n",
      "frame 27834, video b'Z:\\\\C1\\\\free\\\\vids\\\\20201210_Neil\\\\concatenated.avi'\n",
      "frame 81059, video b'Z:\\\\C1\\\\free\\\\vids\\\\20201210_Neil\\\\concatenated.avi'\n",
      "frame 62276, video b'Z:\\\\C1\\\\free\\\\vids\\\\20201210_Omar\\\\concatenated.avi'\n",
      "frame 70915, video b'Z:\\\\C1\\\\free\\\\vids\\\\20201210_Omar\\\\concatenated.avi'\n",
      "frame 78640, video b'Z:\\\\C1\\\\free\\\\vids\\\\20201210_Omar\\\\concatenated.avi'\n",
      "frame 82882, video b'Z:\\\\C1\\\\free\\\\vids\\\\20201210_Omar\\\\concatenated.avi'\n",
      "frame 105588, video b'Z:\\\\C1\\\\free\\\\vids\\\\20201210_Omar\\\\concatenated.avi'\n",
      "frame 1492, video b'Z:\\\\C1\\\\free\\\\vids\\\\20201211_Kyle\\\\concatenated.avi'\n",
      "frame 5681, video b'Z:\\\\C1\\\\free\\\\vids\\\\20201211_Kyle\\\\concatenated.avi'\n",
      "frame 6272, video b'Z:\\\\C1\\\\free\\\\vids\\\\20201211_Kyle\\\\concatenated.avi'\n",
      "frame 9046, video b'Z:\\\\C1\\\\free\\\\vids\\\\20201211_Kyle\\\\concatenated.avi'\n",
      "frame 9350, video b'Z:\\\\C1\\\\free\\\\vids\\\\20201211_Kyle\\\\concatenated.avi'\n",
      "frame 14952, video b'Z:\\\\C1\\\\free\\\\vids\\\\20201211_Kyle\\\\concatenated.avi'\n",
      "frame 16303, video b'Z:\\\\C1\\\\free\\\\vids\\\\20201211_Kyle\\\\concatenated.avi'\n",
      "frame 1593, video b'Z:\\\\C1\\\\free\\\\vids\\\\20201211_Lazy\\\\concatenated.avi'\n",
      "frame 2048, video b'Z:\\\\C1\\\\free\\\\vids\\\\20201211_Lazy\\\\concatenated.avi'\n",
      "frame 3008, video b'Z:\\\\C1\\\\free\\\\vids\\\\20201211_Lazy\\\\concatenated.avi'\n",
      "frame 7682, video b'Z:\\\\C1\\\\free\\\\vids\\\\20201211_Lazy\\\\concatenated.avi'\n",
      "frame 9393, video b'Z:\\\\C1\\\\free\\\\vids\\\\20201211_Lazy\\\\concatenated.avi'\n",
      "frame 13581, video b'Z:\\\\C1\\\\free\\\\vids\\\\20201211_Lazy\\\\concatenated.avi'\n",
      "frame 28440, video b'Z:\\\\C1\\\\free\\\\vids\\\\20201212_Neil\\\\concatenated.avi'\n",
      "frame 44906, video b'Z:\\\\C1\\\\free\\\\vids\\\\20201212_Neil\\\\concatenated.avi'\n",
      "frame 48636, video b'Z:\\\\C1\\\\free\\\\vids\\\\20201212_Neil\\\\concatenated.avi'\n",
      "frame 1897, video b'Z:\\\\C1\\\\free\\\\vids\\\\20201213_Kyle\\\\concatenated.avi'\n",
      "frame 2787, video b'Z:\\\\C1\\\\free\\\\vids\\\\20201213_Kyle\\\\concatenated.avi'\n",
      "frame 4759, video b'Z:\\\\C1\\\\free\\\\vids\\\\20201213_Kyle\\\\concatenated.avi'\n",
      "frame 4815, video b'Z:\\\\C1\\\\free\\\\vids\\\\20201213_Kyle\\\\concatenated.avi'\n",
      "frame 5095, video b'Z:\\\\C1\\\\free\\\\vids\\\\20201213_Kyle\\\\concatenated.avi'\n",
      "frame 6181, video b'Z:\\\\C1\\\\free\\\\vids\\\\20201213_Kyle\\\\concatenated.avi'\n",
      "frame 13368, video b'Z:\\\\C1\\\\free\\\\vids\\\\20201213_Kyle\\\\concatenated.avi'\n",
      "frame 16829, video b'Z:\\\\C1\\\\free\\\\vids\\\\20201213_Kyle\\\\concatenated.avi'\n",
      "frame 17017, video b'Z:\\\\C1\\\\free\\\\vids\\\\20201213_Kyle\\\\concatenated.avi'\n",
      "frame 23016, video b'Z:\\\\C1\\\\free\\\\vids\\\\20201213_Kyle\\\\concatenated.avi'\n",
      "frame 26438, video b'Z:\\\\C1\\\\free\\\\vids\\\\20201213_Kyle\\\\concatenated.avi'\n",
      "frame 26703, video b'Z:\\\\C1\\\\free\\\\vids\\\\20201213_Kyle\\\\concatenated.avi'\n",
      "frame 3130, video b'Z:\\\\C1\\\\free\\\\vids\\\\20201213_Lazy\\\\concatenated.avi'\n",
      "frame 4524, video b'Z:\\\\C1\\\\free\\\\vids\\\\20201213_Lazy\\\\concatenated.avi'\n",
      "frame 6918, video b'Z:\\\\C1\\\\free\\\\vids\\\\20201213_Lazy\\\\concatenated.avi'\n",
      "frame 15167, video b'Z:\\\\C1\\\\free\\\\vids\\\\20201213_Lazy\\\\concatenated.avi'\n",
      "frame 23416, video b'Z:\\\\C1\\\\free\\\\vids\\\\20201213_Lazy\\\\concatenated.avi'\n",
      "frame 1160, video b'Z:\\\\C1\\\\free\\\\vids\\\\20201219_Mark\\\\concatenated.avi'\n",
      "frame 7832, video b'Z:\\\\C1\\\\free\\\\vids\\\\20201219_Mark\\\\concatenated.avi'\n",
      "frame 21012, video b'Z:\\\\C1\\\\free\\\\vids\\\\20201219_Mark\\\\concatenated.avi'\n",
      "frame 23200, video b'Z:\\\\C1\\\\free\\\\vids\\\\20201219_Mark\\\\concatenated.avi'\n"
     ]
    }
   ],
   "source": [
    "# check new data\n",
    "with h5py.File(new_dataset_name, 'r') as f:\n",
    "    temp = {key: value[...] for key, value in f.items()}\n",
    "\n",
    "for n, f in zip(temp['frame_number'], temp['video_name']):\n",
    "    print('frame {}, video {}'.format(n, f))"
   ]
  },
  {
   "cell_type": "code",
   "execution_count": 24,
   "metadata": {},
   "outputs": [
    {
     "data": {
      "text/plain": [
       "'D:\\\\github\\\\fish-tracking\\\\label\\\\datasets\\\\tank_dataset_11.h5'"
      ]
     },
     "execution_count": 24,
     "metadata": {},
     "output_type": "execute_result"
    }
   ],
   "source": [
    "new_dataset_name\n"
   ]
  }
 ],
 "metadata": {
  "kernelspec": {
   "display_name": "Python 3",
   "language": "python",
   "name": "python3"
  },
  "language_info": {
   "codemirror_mode": {
    "name": "ipython",
    "version": 3
   },
   "file_extension": ".py",
   "mimetype": "text/x-python",
   "name": "python",
   "nbconvert_exporter": "python",
   "pygments_lexer": "ipython3",
   "version": "3.6.11"
  }
 },
 "nbformat": 4,
 "nbformat_minor": 4
}
