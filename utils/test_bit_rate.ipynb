{
 "cells": [
  {
   "cell_type": "markdown",
   "metadata": {},
   "source": [
    "# compression tests\n",
    "Test video quality at different ffmpeg compression rates by taking a high quality video and compressing it to different levels."
   ]
  },
  {
   "cell_type": "code",
   "execution_count": 7,
   "metadata": {},
   "outputs": [],
   "source": [
    "import matplotlib.pyplot as plt\n",
    "from tqdm.notebook import tqdm\n",
    "from PIL import Image\n",
    "import numpy as np\n",
    "import cv2\n",
    "import os\n",
    "\n",
    "# settings\n",
    "video = r'Z:\\locker\\ShareData\\tank_for_rick\\100mbps_time_h13m28s9\\videoEOD.avi'\n",
    "bitrates = [1, 2, 4, 8, 16, 32, 64]  # (megabits/s) compress original video to all of these levels\n",
    "nframes = 10  # show this many sample frames\n",
    "\n",
    "# dir inits\n",
    "dirname = os.path.split(video)[0]\n",
    "name, ext = os.path.splitext(os.path.split(video)[1])\n",
    "newdir = os.path.join(dirname, 'compression_tests')\n",
    "if not os.path.exists(newdir):\n",
    "    os.mkdir(newdir)"
   ]
  },
  {
   "cell_type": "code",
   "execution_count": 4,
   "metadata": {},
   "outputs": [
    {
     "data": {
      "application/vnd.jupyter.widget-view+json": {
       "model_id": "62a95a27e1394c8088abc954150c8e2e",
       "version_major": 2,
       "version_minor": 0
      },
      "text/plain": [
       "HBox(children=(FloatProgress(value=0.0, max=7.0), HTML(value='')))"
      ]
     },
     "metadata": {},
     "output_type": "display_data"
    },
    {
     "name": "stdout",
     "output_type": "stream",
     "text": [
      "\n"
     ]
    }
   ],
   "source": [
    "# make compressed videos\n",
    "for bitrate in tqdm(bitrates):\n",
    "    output_name = os.path.join(newdir, f'bitrate{bitrate}{ext}')\n",
    "    command = command = 'ffmpeg -i {} -vb {}M -y -loglevel panic -stats {}'.format(\n",
    "                video, bitrate, output_name)\n",
    "    os.system(command)"
   ]
  },
  {
   "cell_type": "code",
   "execution_count": 8,
   "metadata": {},
   "outputs": [
    {
     "data": {
      "application/vnd.jupyter.widget-view+json": {
       "model_id": "bb68ef61d9b942f7ab5f6ba78bdf0a7c",
       "version_major": 2,
       "version_minor": 0
      },
      "text/plain": [
       "HBox(children=(FloatProgress(value=0.0, max=7.0), HTML(value='')))"
      ]
     },
     "metadata": {},
     "output_type": "display_data"
    },
    {
     "name": "stdout",
     "output_type": "stream",
     "text": [
      "\n"
     ]
    }
   ],
   "source": [
    "# save sample frames from each compression rate\n",
    "reader = cv2.VideoCapture(video)\n",
    "n = reader.get(cv2.CAP_PROP_FRAME_COUNT)\n",
    "frame_nums = np.linspace(n*.2, n*.8, nframes).astype('int')\n",
    "\n",
    "for bitrate in tqdm(bitrates):\n",
    "    reader = cv2.VideoCapture(os.path.join(newdir, f'bitrate{bitrate}{ext}'))\n",
    "    for frame_num in frame_nums:\n",
    "        reader.set(1, frame_num)\n",
    "        img = reader.read()[1]\n",
    "        img_name = os.path.join(dirname, 'compression_tests', f'frame{frame_num}_bitrate{bitrate}.png')\n",
    "        Image.fromarray(img).save(img_name)"
   ]
  }
 ],
 "metadata": {
  "kernelspec": {
   "display_name": "Python 3",
   "language": "python",
   "name": "python3"
  },
  "language_info": {
   "codemirror_mode": {
    "name": "ipython",
    "version": 3
   },
   "file_extension": ".py",
   "mimetype": "text/x-python",
   "name": "python",
   "nbconvert_exporter": "python",
   "pygments_lexer": "ipython3",
   "version": "3.6.11"
  }
 },
 "nbformat": 4,
 "nbformat_minor": 4
}
