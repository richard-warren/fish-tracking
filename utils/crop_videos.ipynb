{
 "cells": [
  {
   "cell_type": "markdown",
   "metadata": {},
   "source": [
    "# crop tank vids\n",
    "\n",
    "Edit tank vides to remove sections without a fish. Create new videos, with one video per fish appearance."
   ]
  },
  {
   "cell_type": "code",
   "execution_count": 2,
   "metadata": {},
   "outputs": [],
   "source": [
    "from scipy.signal import medfilt\n",
    "import matplotlib.pyplot as plt\n",
    "from tqdm.notebook import tqdm\n",
    "from pathlib import Path\n",
    "import numpy as np\n",
    "import subprocess\n",
    "import pickle\n",
    "import random\n",
    "import time\n",
    "import cv2\n",
    "import os\n",
    "\n",
    "\n",
    "# settings\n",
    "root_dir = r'Z:\\locker\\ShareData\\tank_for_rick'\n",
    "bg_frame_num = 500      # frames to include in background calculation\n",
    "diff_dt = .1            # (seconds) time between background frame computation\n",
    "diff_range = (4, 20);   # (pixels) difference between frame and background frame for fish detection\n",
    "buffer = 1.5;           # (s) time before and after fish appearance to keep\n",
    "med_filtering = 1.0;    # (s) median filter the thresholded signal to remove short periods\n",
    "bit_rate = 12;          # (megabits per second)\n"
   ]
  },
  {
   "cell_type": "code",
   "execution_count": 12,
   "metadata": {},
   "outputs": [],
   "source": [
    "def crop_video(video, max_vids=20, show_pbar=False):\n",
    "\n",
    "    # initialize video\n",
    "    print(f'\\n------- ANALYZING {video} -------')\n",
    "    vid = cv2.VideoCapture(video)\n",
    "    fps = int(vid.get(cv2.CAP_PROP_FPS))\n",
    "    frame_delta = round(diff_dt * fps)\n",
    "    name, ext = os.path.splitext(video)\n",
    "    \n",
    "    # get number of frames\n",
    "    # (this is slow, but robust to errors in video metadata)\n",
    "    n_frames = 0\n",
    "    got_frame = True\n",
    "    while got_frame:\n",
    "        got_frame, frame = vid.read()\n",
    "        if got_frame:\n",
    "            n_frames += 1\n",
    "\n",
    "    # compute background\n",
    "    # (median across randomly sampled frames)\n",
    "    bg_frame_nums = random.sample(range(n_frames), min(n_frames, bg_frame_num))\n",
    "    bg_frame_nums.sort()\n",
    "    vid = cv2.VideoCapture(video)  # reinitialize\n",
    "\n",
    "    bg_frames = []\n",
    "    for i in bg_frame_nums:\n",
    "        vid.set(1, i)  # using `set` instead of reading through all the frames is less accurate but much faster\n",
    "        _, frame = vid.read();\n",
    "        bg_frames.append(frame)\n",
    "    vid.release()\n",
    "    bg = np.median(np.array(bg_frames), axis=0)\n",
    "\n",
    "    # compute differences between frames and background\n",
    "    vid = cv2.VideoCapture(video)  # reinitialize\n",
    "    got_frame = True\n",
    "    diffs = []\n",
    "    delta_counter = frame_delta-1  # only compute background every delta frames\n",
    "\n",
    "    if show_pbar: pbar = tqdm(total=int(n_frames))\n",
    "    while got_frame:\n",
    "        got_frame, frame = vid.read();\n",
    "        delta_counter += 1\n",
    "        if got_frame and delta_counter==frame_delta:\n",
    "            diffs.append(np.abs(frame - bg).mean())\n",
    "            delta_counter = 0\n",
    "        if show_pbar: pbar.update(1)\n",
    "    vid.release()\n",
    "    if show_pbar: pbar.close()\n",
    "    diffs = np.array(diffs)\n",
    "\n",
    "    # find fish appearances\n",
    "    t = np.linspace(0, diffs.shape[0]*(frame_delta/fps), len(diffs))\n",
    "    threshed = np.logical_and(diffs>diff_range[0], diffs < diff_range[1])\n",
    "    kernel_sz = round(med_filtering*fps/frame_delta)\n",
    "    kernel_sz = kernel_sz - kernel_sz%2 + 1  # make odd\n",
    "    threshed = medfilt(threshed, kernel_sz)  # median filtering to debounce\n",
    "\n",
    "    # plot\n",
    "    fig = plt.figure(figsize=(10,2.5))\n",
    "    ax = plt.axes(xlabel='time (s)', ylabel='frame diffs')\n",
    "    ax.plot(t, diffs);\n",
    "    ax.plot(t, threshed*np.ptp(diffs) + min(diffs));\n",
    "    ax.plot([t[0], t[-1]], np.tile(np.array(diff_range), (2,1)), color='red');  # show thresholds\n",
    "    \n",
    "    plt.savefig(os.path.join(os.path.dirname(video), 'cropping.png'), facecolor=(1,1,1,1))\n",
    "    plt.savefig(os.path.join(root_dir, 'plots', 'cropping', '{}_{}_cropping.png'.format(\n",
    "        os.path.basename(str(Path(video).parents[1])),\n",
    "        os.path.basename(str(Path(video).parents[0])) )), facecolor=(1,1,1,1))\n",
    "    plt.close()\n",
    "    \n",
    "    # create vids for each epoch\n",
    "    if not threshed.any():\n",
    "        print('fish not detected.')\n",
    "        return\n",
    "\n",
    "    start_inds = np.where(np.diff(threshed)==1)[0]+1\n",
    "    end_inds   = np.where(np.diff(threshed)==-1)[0]+1\n",
    "    \n",
    "    start_inds = [0] if len(start_inds)==0 else start_inds\n",
    "    end_inds = [len(diffs)] if len(end_inds)==0 else end_inds\n",
    "    if start_inds[0] > end_inds[0]:\n",
    "        start_inds = np.insert(start_inds, 0, 0)\n",
    "    if end_inds[-1] < start_inds[-1]:\n",
    "        end_inds = np.append(end_inds, len(diffs))\n",
    "\n",
    "    # create new cropped videos\n",
    "    for i, (start_ind, end_ind) in enumerate(zip(start_inds[:max_vids], end_inds[:max_vids])):\n",
    "        output_name = '{}_cropped{:03d}{}'.format(name, i, ext)\n",
    "        start = max(0, start_ind*(frame_delta/fps) - buffer)\n",
    "        end   = min(n_frames/fps, end_ind*(frame_delta/fps) + buffer)\n",
    "        print('cropping from {:.1f} to {:.1f} seconds ({:03d})'.format(start, end, i))\n",
    "        command = 'ffmpeg -i {} -ss {:.2f} -t {:.2f} -vb {}M -y -loglevel panic -stats {}'.format(\n",
    "            video, start, end-start, bit_rate, output_name)\n",
    "        os.system(command)\n"
   ]
  },
  {
   "cell_type": "code",
   "execution_count": 11,
   "metadata": {},
   "outputs": [
    {
     "name": "stdout",
     "output_type": "stream",
     "text": [
      "\n",
      "------- ANALYZING Z:\\locker\\ShareData\\tank_for_rick\\tank_vids\\20200903\\time_h11m28s22\\videoEOD.avi -------\n"
     ]
    },
    {
     "data": {
      "image/png": "[encoded data removed]",
      "text/plain": [
       "<Figure size 720x180 with 1 Axes>"
      ]
     },
     "metadata": {
      "needs_background": "light"
     },
     "output_type": "display_data"
    }
   ],
   "source": [
    "crop_video(r'Z:\\locker\\ShareData\\tank_for_rick\\tank_vids\\20200903\\time_h11m28s22\\videoEOD.avi')"
   ]
  },
  {
   "cell_type": "code",
   "execution_count": null,
   "metadata": {},
   "outputs": [
    {
     "name": "stdout",
     "output_type": "stream",
     "text": [
      "\n",
      "------- ANALYZING Z:\\locker\\ShareData\\tank_for_rick\\tank_vids\\20200903\\time_h11m28s22\\videoEOD.avi -------\n",
      "cropping from 22.3 to 30.1 seconds (000)\n",
      "\n",
      "------- ANALYZING Z:\\locker\\ShareData\\tank_for_rick\\tank_vids\\20200903\\time_h11m30s47\\videoEOD.avi -------\n",
      "cropping from 14.6 to 20.1 seconds (000)\n",
      "\n",
      "------- ANALYZING Z:\\locker\\ShareData\\tank_for_rick\\tank_vids\\20200903\\time_h11m31s58\\videoEOD.avi -------\n"
     ]
    }
   ],
   "source": [
    "vid_folders = [f.path for f in os.scandir(os.path.join(root_dir, 'tank_vids')) if f.is_dir()]  # or define manually\n",
    "problem_folders = []\n",
    "\n",
    "for vid_folder in vid_folders:\n",
    "    sub_folders = [f.path for f in os.scandir(vid_folder) if f.is_dir()]\n",
    "    for sub_folder in sub_folders:\n",
    "        try:\n",
    "            # delete old cropped videos if exist\n",
    "            old_cropped_vids = [file for file in os.listdir(sub_folder) if 'cropped' in file and file.endswith('.avi')]\n",
    "            for old_vid in old_cropped_vids:\n",
    "                os.remove(os.path.join(sub_folder, old_vid))\n",
    "            \n",
    "            crop_video(os.path.join(sub_folder, 'videoEOD.avi'))\n",
    "        except:\n",
    "            print('PROBLEM ANALYZING {}'.format(os.path.join(sub_folder, 'videoEOD.avi')))\n",
    "            problem_folders.append((vid_folder, sub_folder))\n"
   ]
  }
 ],
 "metadata": {
  "kernelspec": {
   "display_name": "Python 3",
   "language": "python",
   "name": "python3"
  },
  "language_info": {
   "codemirror_mode": {
    "name": "ipython",
    "version": 3
   },
   "file_extension": ".py",
   "mimetype": "text/x-python",
   "name": "python",
   "nbconvert_exporter": "python",
   "pygments_lexer": "ipython3",
   "version": "3.7.0"
  }
 },
 "nbformat": 4,
 "nbformat_minor": 4
}
